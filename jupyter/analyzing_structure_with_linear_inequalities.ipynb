{
  "nbformat": 4,
  "nbformat_minor": 0,
  "metadata": {
    "colab": {
      "name": "analyzing-structure-with-linear-inequalities.ipynb",
      "version": "0.3.2",
      "provenance": [],
      "collapsed_sections": [],
      "include_colab_link": true
    },
    "kernelspec": {
      "name": "python3",
      "display_name": "Python 3"
    }
  },
  "cells": [
    {
      "cell_type": "markdown",
      "metadata": {
        "id": "view-in-github",
        "colab_type": "text"
      },
      "source": [
        "<a href=\"https://colab.research.google.com/github/porkostomus/jupyter/blob/master/analyzing_structure_with_linear_inequalities.ipynb\" target=\"_parent\"><img src=\"https://colab.research.google.com/assets/colab-badge.svg\" alt=\"Open In Colab\"/></a>"
      ]
    },
    {
      "metadata": {
        "id": "a0dt1bmksfnZ",
        "colab_type": "text"
      },
      "cell_type": "markdown",
      "source": [
        "# Analyzing structure with linear inequalities"
      ]
    },
    {
      "metadata": {
        "id": "EDb9bHyf4sXL",
        "colab_type": "text"
      },
      "cell_type": "markdown",
      "source": [
        "## Green and blue balls in a bag\n",
        "\n",
        "A bag has more green balls than blue balls, and there is at least one blue ball.\n",
        "\n",
        "Let $b$ represent the number of blue balls and let $g$ represent the number of green balls.\n",
        "\n",
        "**Let's compare the expressions $2b$ and $b + g$.**"
      ]
    },
    {
      "metadata": {
        "id": "ddL9iuhI5U5k",
        "colab_type": "code",
        "colab": {}
      },
      "cell_type": "code",
      "source": [
        "from sympy import *\n",
        "b, g = symbols('b g')\n",
        "exp1 = 2*b\n",
        "exp2 = b + g"
      ],
      "execution_count": 0,
      "outputs": []
    },
    {
      "metadata": {
        "id": "v4Howh3E6ISU",
        "colab_type": "text"
      },
      "cell_type": "markdown",
      "source": [
        "### Interpreting and comparing the expressions\n",
        "\n",
        "Let's try to think what each expression means in terms of the number of balls in the bag:\n",
        "\n",
        "* $2b = b+ b$ represents twice the number of blue balls in the bag.\n",
        "* $b + g$ represents the total number of balls in the bag.\n",
        "\n",
        "Since there are fewer blue balls than green balls, it must be true that the total number of balls is larger than twice the number of blue balls. This can be expressed algebraically as $g>b$. Therefore,\n",
        "\n",
        "$g+b>b>b+b$\n",
        "\n",
        "and\n",
        "\n",
        "$2b<b + g$"
      ]
    },
    {
      "metadata": {
        "id": "bPH2hfDLOxm7",
        "colab_type": "text"
      },
      "cell_type": "markdown",
      "source": [
        "## Boys and girls pencils\n",
        "\n",
        "A classroom has more boys than girls, and it has $8$ girls. Furthermore, each student in the classroom has at least $2$ pencils.\n",
        "\n",
        "Let $b$ represent the number of boys and let $p$ represent the total number of pencils in the classroom.\n",
        "\n",
        "**Let's compare the expressions $p$ and $30$.**"
      ]
    },
    {
      "metadata": {
        "id": "DQjQtpsRP3Eq",
        "colab_type": "text"
      },
      "cell_type": "markdown",
      "source": [
        "Let's try to express the least number of pencils using the number of boys in the class. Then, we will be able to compare the expression we got with $30$ to see if $p$ is necessarily smaller or larger than that.\n",
        "\n",
        "### Finding the least total number of pencils\n",
        "\n",
        "Let's find an expression for the total number of pencils when there are exactly $2$ pencils per students. Since each student has at least that, this must be a low bound for $p$.\n",
        "\n",
        "The total number of students is $(b+8)$, so when each student has $2$ pencils, there are $2(b+8)$ pencils in total.\n",
        "\n",
        "Furthermore, since there are more boys than girls, $b$ is at least equal to $9$. This means the total number of pencils is at least $2(9+8)=34$. Since this is already greater than $30$, we know $p$ must be larger than $30$.\n",
        "\n",
        "Therefore,\n",
        "\n",
        "$p>30$"
      ]
    },
    {
      "metadata": {
        "id": "Aq-TCwQbcE9m",
        "colab_type": "text"
      },
      "cell_type": "markdown",
      "source": [
        "## Rose and daisy petals\n",
        "\n",
        "A garden has more roses than daisies, and it has $9$ daisies. Furthermore, each flower in the garden has more than $3$ petals.\n",
        "\n",
        "Let $r$ represent the number of roses and let $p$ represent the total number of petals in the garden.\n",
        "\n",
        "**Let's compare the expressions $p$ and $3(r+9)$.**\n",
        "\n",
        "Let's try to express the least number of petals using the number of roses in the garden. Then, we will be able to compare the expression we got with $3(r+9)$ to see if $p$ is necessarily smaller or larger than that.\n",
        "\n",
        "### Finding the least total number of petals\n",
        "\n",
        "Let's find an expression for the total number of petals when there are exactly $3$ petals per flower. Since each flower has more than that, this must be a low bound for $p$.\n",
        "\n",
        "The total number of flowers is $(r+9)$, so when each flower has $3$ petals, there are $3(r+9)$ in total.\n",
        "\n",
        "This is the second expression exactly! Since we already noted that $p$ must be larger than what we found, we conclude that $p$ is larger than $3(r+9)$.\n",
        "\n",
        "$p>3(r+9)$"
      ]
    },
    {
      "metadata": {
        "id": "FyQWTfbIrgxo",
        "colab_type": "text"
      },
      "cell_type": "markdown",
      "source": [
        "## Roses and daisies v2\n",
        "\n",
        "A garden has more daisies than roses, and there is at least one rose.\n",
        "\n",
        "Let $r$ represent the number of roses and let $d$ represent the number of daisies.\n",
        "\n",
        "**Let's compare the expressions $3r$ and $r + d$.**\n",
        "\n",
        "Let's try to think of different possible sets of values for the number of roses and daisies, and see if we always get one expression larger than the other.\n",
        "\n",
        "### Thinking of possible values\n",
        "\n",
        "Remember that the number of daisies must be greater than the number of roses, and that the number of roses must be at least $1$.\n",
        "\n",
        "* If there are $10$ roses $(r=10)$ and $11$ daisies $(d=11)$, then $3r > r+d$.\n",
        "\n",
        "* If there are $3$ roses $(r=3)$ and $11$ daisies $(d=11)$, then $3r < r+d$.\n",
        "\n",
        "We saw that it's possible for the first expression to be larger and for the second expression to be larger. This means we don't have enough information to determine for certain which expression is larger.\n",
        "\n",
        "There is not enough information to tell."
      ]
    },
    {
      "metadata": {
        "id": "yhmg5fVDeRpZ",
        "colab_type": "code",
        "colab": {}
      },
      "cell_type": "code",
      "source": [
        ""
      ],
      "execution_count": 0,
      "outputs": []
    },
    {
      "metadata": {
        "id": "Nd8oDy1MfbMJ",
        "colab_type": "text"
      },
      "cell_type": "markdown",
      "source": [
        "## Shantanu's apples, bananas and cantaloupes\n",
        "\n",
        "Shantanu bought more apples than bananas, and he bought more bananas than cantaloupes.\n",
        "\n",
        "Let $a$ represent the number of apples Shantanu bought, let $b$ represent the number of bananas, and let $c$ represent the number of cantaloupes.\n",
        "\n",
        "**Let's compare the expressions $b+c$ and $a$. **\n",
        "\n",
        "Let's try to think of different possible sets of values for the number of apples, bananas, and cantaloupes bought, and see if we always get one expression larger than the other.\n",
        "\n",
        "### Thinking of possible values\n",
        "\n",
        "Remember that the number of apples must be greater than the number of bananas, which must be greater than the number of cantaloupes.\n",
        "\n",
        "* If Shantanu bought $10$ apples $(a=10)$, $5$ bananas $(b=5)$, and $4$ cantaloupes $(c=4)$, then $a> b+c$.\n",
        "\n",
        "* If Shantanu bought $8$ apples $(a=8)$, $5$ bananas $(b=5)$, and $4$ cantaloupes $(c=4)$, then $a< b+c$.\n",
        "\n",
        "We saw that it's possible for the first expression to be larger and for the second expression to be larger. This means we don't have enough information to determine for certain which expression is larger.\n",
        "\n",
        "Therefore, there is not enough information to tell."
      ]
    },
    {
      "metadata": {
        "id": "mDIkk6iIhRGt",
        "colab_type": "text"
      },
      "cell_type": "markdown",
      "source": [
        "**Let's compare the expressions $b+c$ and $2a-b$.**\n",
        "\n",
        "The first expression $b+c$ represents the combined number of bananas and cantaloupes Shantanu bought. Since we know that this is smaller than the number of apples, $a$, let's try to compare $a$ with the second expression, $2a-b$.\n",
        "\n",
        "### Comparing $a$ and $2a-b$\n",
        "\n",
        "The expression $2a-b$ is twice the number of apples minus the number of bananas. We can see this as if we took the number of apples, and added to it the number of apples minus the number of bananas: $2a-b=a+(a-b)$.\n",
        "\n",
        "Since we know there are more apples than bananas, $a-b$ must be greater than $0$. This means we added something to $a$, so $2a-b$ must be larger than $a$.\n",
        "\n",
        "We found that the following inequalities must be true:\n",
        "\n",
        "$b+c<a<2a-b$\n",
        "\n",
        "Therefore, $b+c<2a-b$."
      ]
    },
    {
      "metadata": {
        "id": "nlADbTGSgx5q",
        "colab_type": "code",
        "colab": {}
      },
      "cell_type": "code",
      "source": [
        ""
      ],
      "execution_count": 0,
      "outputs": []
    }
  ]
}