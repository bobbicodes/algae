{
 "cells": [
  {
   "cell_type": "markdown",
   "metadata": {},
   "source": [
    "# Comparing linear functions\n",
    "\n",
    "## Red and blue submersibles\n",
    "\n",
    "Two submersibles, one red and one blue, started rising toward the surface at the same time. They each rose at a constant speed.\n",
    "\n",
    "The red submersible started rising from an altitude of $80$ meters below the surface. After $30$ seconds, it was $60$ meters below the surface.\n",
    "\n",
    "The following equation gives the altitude (in meters relative to the surface) of the blue submersible as a function of time (in seconds).\n",
    "\n",
    "$A=-90+0.6t$\n",
    "\n",
    "**Which submersible started rising from a higher altitude?**"
   ]
  },
  {
   "cell_type": "markdown",
   "metadata": {},
   "source": [
    "We are given that the red submersible started from $80$ meters below the surface, which is an altitude of $-80$ meters.\n",
    "\n",
    "The starting altitude of the blue submersible corresponds to the value of $A$ when $t=0$. To find it, all we need is to substitute $t={0}$ into the formula for $A$:"
   ]
  },
  {
   "cell_type": "code",
   "execution_count": 8,
   "metadata": {},
   "outputs": [
    {
     "data": {
      "text/plain": [
       "{-90}"
      ]
     },
     "execution_count": 8,
     "metadata": {},
     "output_type": "execute_result"
    }
   ],
   "source": [
    "import pandas as pd\n",
    "from IPython.display import display, HTML\n",
    "from sympy import *\n",
    "A, t = symbols('A t')\n",
    "solveset(Eq(A, -90 + 0.6 * t).subs(t, 0), A) "
   ]
  },
  {
   "cell_type": "markdown",
   "metadata": {},
   "source": [
    "**Which submersible rose faster?**"
   ]
  },
  {
   "cell_type": "markdown",
   "metadata": {},
   "source": [
    "In addition to the fact that the red submersible started from an altitude of $-80$ meters, we are given that after $30$ seconds, it was at an altitude of $-60$ meters. The speed at which it rose is the ratio of the corresponding differences:"
   ]
  },
  {
   "cell_type": "code",
   "execution_count": 6,
   "metadata": {},
   "outputs": [
    {
     "data": {
      "text/plain": [
       "2/3"
      ]
     },
     "execution_count": 6,
     "metadata": {},
     "output_type": "execute_result"
    }
   ],
   "source": [
    "Rational(-60 - (-80), 30 - 0)"
   ]
  },
  {
   "cell_type": "markdown",
   "metadata": {},
   "source": [
    "This means that the red submersible rose at a speed of ${\\dfrac{2}{3}}$ meters per second.\n",
    "\n",
    "The speed at which the blue submersible rose is represented by the slope of the graph of $A =-90+0.6t$. Since the formula for $A$ is in slope-intercept form, we can determine that the slope is ${0.6}$. This means that the blue submersible rose at a speed of ${0.6}$ meters per second."
   ]
  },
  {
   "cell_type": "markdown",
   "metadata": {},
   "source": [
    "## Raj's yoga classes\n",
    "\n",
    "Raj wants to take yoga classes. There are two yoga studios that have different membership plans.\n",
    "\n",
    "The first studio charges a fixed amount of $\\$70$ per month, and you can take as many classes as you want for no additional charge.\n",
    "\n",
    "The second studio charges a smaller initial fee plus an additional fee for each class taken. The monthly price (in dollars) of the second studio as a function of the number of classes taken is given by the following table of values:"
   ]
  },
  {
   "cell_type": "code",
   "execution_count": 9,
   "metadata": {},
   "outputs": [
    {
     "data": {
      "text/html": [
       "<table border=\"1\" class=\"dataframe\">\n",
       "  <thead>\n",
       "    <tr style=\"text-align: right;\">\n",
       "      <th>Classes</th>\n",
       "      <th>Price (dollars)</th>\n",
       "    </tr>\n",
       "  </thead>\n",
       "  <tbody>\n",
       "    <tr>\n",
       "      <td>1</td>\n",
       "      <td>35</td>\n",
       "    </tr>\n",
       "    <tr>\n",
       "      <td>3</td>\n",
       "      <td>45</td>\n",
       "    </tr>\n",
       "    <tr>\n",
       "      <td>5</td>\n",
       "      <td>55</td>\n",
       "    </tr>\n",
       "  </tbody>\n",
       "</table>"
      ],
      "text/plain": [
       "<IPython.core.display.HTML object>"
      ]
     },
     "metadata": {},
     "output_type": "display_data"
    }
   ],
   "source": [
    "data = { \n",
    "     'Classes' : [1, 3, 5],\n",
    "     'Price (dollars)' : [35, 45, 55]\n",
    "}\n",
    "\n",
    "df = pd.DataFrame(data)\n",
    "display(HTML(df.to_html(index=False)))"
   ]
  },
  {
   "cell_type": "markdown",
   "metadata": {},
   "source": [
    "**Which studio charges more for each additional class?**"
   ]
  },
  {
   "cell_type": "markdown",
   "metadata": {},
   "source": [
    "We are given that the first studio charges only a fixed fee. This means that the first studio charges $\\$0$ for each additional class.\n",
    "\n",
    "The table of values for the second studio shows that for each increase of ${2 \\text{ Classes}}$, ${\\text{Price}}$ increases by $\\${10}$. The fee the studio charges for each additional class is the ratio of the corresponding differences in ${\\text{Price}}$ and ${\\text{Classes}}$:\n",
    "\n",
    "$\\qquad\\dfrac{\\Delta {\\text{Price}}}{\\Delta {\\text{Classes}}}=\\dfrac{10}{2}={5}$"
   ]
  },
  {
   "cell_type": "code",
   "execution_count": 12,
   "metadata": {},
   "outputs": [
    {
     "data": {
      "text/plain": [
       "5.0"
      ]
     },
     "execution_count": 12,
     "metadata": {},
     "output_type": "execute_result"
    }
   ],
   "source": [
    "x1 = data['Classes'][0]\n",
    "x2 = data['Classes'][1]\n",
    "x3 = data['Classes'][2]\n",
    "y1 = data['Price (dollars)'][0]\n",
    "y2 = data['Price (dollars)'][1]\n",
    "y3 = data['Price (dollars)'][2]\n",
    "m = (y2 - y1)/(x2 - x1)\n",
    "m"
   ]
  },
  {
   "cell_type": "markdown",
   "metadata": {},
   "source": [
    "**Raj wants to take $8$ classes each month. Which studio is cheaper for him?**"
   ]
  },
  {
   "cell_type": "markdown",
   "metadata": {},
   "source": [
    "Again, the first studio charges only a fixed fee, so $8$ classes a month at the first studio cost $\\${70}$.\n",
    "\n",
    "We can extend the table of the second studio according to the rate of change we found to find the value of ${\\text{Price}}$ when ${\\text{Classes}}$ is $8$:"
   ]
  },
  {
   "cell_type": "code",
   "execution_count": 21,
   "metadata": {},
   "outputs": [
    {
     "data": {
      "text/html": [
       "<table border=\"1\" class=\"dataframe\">\n",
       "  <thead>\n",
       "    <tr style=\"text-align: right;\">\n",
       "      <th>Classes</th>\n",
       "      <th>Price (dollars)</th>\n",
       "    </tr>\n",
       "  </thead>\n",
       "  <tbody>\n",
       "    <tr>\n",
       "      <td>5</td>\n",
       "      <td>55.0</td>\n",
       "    </tr>\n",
       "    <tr>\n",
       "      <td>6</td>\n",
       "      <td>60.0</td>\n",
       "    </tr>\n",
       "    <tr>\n",
       "      <td>7</td>\n",
       "      <td>65.0</td>\n",
       "    </tr>\n",
       "    <tr>\n",
       "      <td>8</td>\n",
       "      <td>70.0</td>\n",
       "    </tr>\n",
       "  </tbody>\n",
       "</table>"
      ],
      "text/plain": [
       "<IPython.core.display.HTML object>"
      ]
     },
     "metadata": {},
     "output_type": "display_data"
    }
   ],
   "source": [
    "ratex = x2 - x1\n",
    "ratey = y2 - y1\n",
    "rate = ratey / ratex\n",
    "x4 = x3 + 1\n",
    "x5 = x4 + 1\n",
    "x6 = x5 + 1\n",
    "y4 = y3 + rate\n",
    "y5 = y4 + rate\n",
    "y6 = y5 + rate\n",
    "\n",
    "data = { \n",
    "     'Classes' : [x3, x4, x5, x6],\n",
    "     'Price (dollars)' : [y3, y4, y5, y6]\n",
    "}\n",
    "\n",
    "df = pd.DataFrame(data)\n",
    "display(HTML(df.to_html(index=False)))"
   ]
  },
  {
   "cell_type": "code",
   "execution_count": 20,
   "metadata": {},
   "outputs": [
    {
     "data": {
      "text/plain": [
       "5.0"
      ]
     },
     "execution_count": 20,
     "metadata": {},
     "output_type": "execute_result"
    }
   ],
   "source": [
    "rate"
   ]
  },
  {
   "cell_type": "code",
   "execution_count": null,
   "metadata": {},
   "outputs": [],
   "source": []
  }
 ],
 "metadata": {
  "kernelspec": {
   "display_name": "Python 3",
   "language": "python",
   "name": "python3"
  },
  "language_info": {
   "codemirror_mode": {
    "name": "ipython",
    "version": 3
   },
   "file_extension": ".py",
   "mimetype": "text/x-python",
   "name": "python",
   "nbconvert_exporter": "python",
   "pygments_lexer": "ipython3",
   "version": "3.7.1"
  }
 },
 "nbformat": 4,
 "nbformat_minor": 2
}
