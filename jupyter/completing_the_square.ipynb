{
  "nbformat": 4,
  "nbformat_minor": 0,
  "metadata": {
    "colab": {
      "name": "completing-the-square.ipynb",
      "version": "0.3.2",
      "provenance": [],
      "collapsed_sections": [],
      "include_colab_link": true
    },
    "kernelspec": {
      "name": "python3",
      "display_name": "Python 3"
    }
  },
  "cells": [
    {
      "cell_type": "markdown",
      "metadata": {
        "id": "view-in-github",
        "colab_type": "text"
      },
      "source": [
        "<a href=\"https://colab.research.google.com/github/porkostomus/jupyter/blob/master/completing_the_square.ipynb\" target=\"_parent\"><img src=\"https://colab.research.google.com/assets/colab-badge.svg\" alt=\"Open In Colab\"/></a>"
      ]
    },
    {
      "metadata": {
        "id": "7Fza1XxRRBkL",
        "colab_type": "text"
      },
      "cell_type": "markdown",
      "source": [
        "**Rewrite the equation by completing the square.**\n",
        "\n",
        "$x^2 + x -72=0$"
      ]
    },
    {
      "metadata": {
        "id": "FNAnJE9vRx0A",
        "colab_type": "text"
      },
      "cell_type": "markdown",
      "source": [
        "$x^2 + x=72$"
      ]
    },
    {
      "metadata": {
        "id": "eDqJXLT1RfUK",
        "colab_type": "code",
        "outputId": "99881787-d124-4c19-b0e4-b5f39afbc275",
        "colab": {
          "base_uri": "https://localhost:8080/",
          "height": 35
        }
      },
      "cell_type": "code",
      "source": [
        "from sympy import *\n",
        "x = Symbol('x')\n",
        "\n",
        "def rewriteeq(coef1, coef2, const):\n",
        "    return factor(Eq(coef1*x**2 + coef2*x + Rational(coef2,2)**2, 0 - const + Rational(coef2,2)**2))\n",
        "\n",
        "rewriteeq(1, 1, -72)"
      ],
      "execution_count": 57,
      "outputs": [
        {
          "output_type": "execute_result",
          "data": {
            "text/plain": [
              "Eq((2*x + 1)**2/4, 289/4)"
            ]
          },
          "metadata": {
            "tags": []
          },
          "execution_count": 57
        }
      ]
    },
    {
      "metadata": {
        "id": "Lc9dFy28J8cb",
        "colab_type": "text"
      },
      "cell_type": "markdown",
      "source": [
        "$x^2+x + {\\dfrac{1}{4}}=\\left(x +\\dfrac{1}{2} \\right)^2$\n",
        "\n",
        "$x^2 + x=72$\n",
        "\n",
        "$x^2 + x + {\\dfrac{1}{4}}=72 + {\\dfrac{1}{4}}$\n",
        "\n",
        "$\\left(x +\\dfrac{1}{2}\\right)^2=\\dfrac{289}{4}$"
      ]
    },
    {
      "metadata": {
        "id": "mVZXUNWxLtAy",
        "colab_type": "text"
      },
      "cell_type": "markdown",
      "source": [
        "**Rewrite the function by completing the square.**\n",
        "\n",
        "$f(x)= x^{2} + x -30$"
      ]
    },
    {
      "metadata": {
        "id": "OZ2OFQqhLogR",
        "colab_type": "code",
        "colab": {
          "base_uri": "https://localhost:8080/",
          "height": 35
        },
        "outputId": "a568e7b8-9bb4-4e58-9bb4-a5a423592479"
      },
      "cell_type": "code",
      "source": [
        "def rewritefn(coef1, coef2, const):\n",
        "    return factor(coef1*x**2 + coef2*x + Rational(coef2,2)**2) + const - Rational(coef2,2)**2\n",
        "\n",
        "rewritefn(1, 1, -30)"
      ],
      "execution_count": 56,
      "outputs": [
        {
          "output_type": "execute_result",
          "data": {
            "text/plain": [
              "(2*x + 1)**2/4 - 121/4"
            ]
          },
          "metadata": {
            "tags": []
          },
          "execution_count": 56
        }
      ]
    },
    {
      "metadata": {
        "id": "kdeqg8z-VHEj",
        "colab_type": "text"
      },
      "cell_type": "markdown",
      "source": [
        "$\\left(x^2 +x\\right) -30$\n",
        "\n",
        "$x^2+x+{\\dfrac{1}{4}}=\\left(x +\\dfrac{1}{2}\\right)^2$\n",
        "\n",
        "Add ${\\dfrac{1}{4}}$ inside the parentheses, and subtract ${1}\\cdot{\\dfrac{1}{4}}$ outside them, to keep the expression equivalent.\n",
        "\n",
        "$\\left(x^2 + x\\right) -30$\n",
        "\n",
        "$\\left(x^2 +x+{\\dfrac{1}{4}}\\right) -30 -{1}\\cdot{\\dfrac{1}{4}}$\n",
        "\n",
        "$\\left(x +\\dfrac{1}{2}\\right)^2 -30 -\\dfrac{1}{4}$\n",
        "\n",
        "$\\left(x +\\dfrac{1}{2}\\right)^2 -\\dfrac{121}{4}$"
      ]
    },
    {
      "metadata": {
        "id": "ChH3dFifL7G3",
        "colab_type": "text"
      },
      "cell_type": "markdown",
      "source": [
        "**Rewrite the equation by completing the square.**\n",
        "\n",
        "$2x^{2}-3x-5 = 0$"
      ]
    },
    {
      "metadata": {
        "id": "HI341x4rL8qL",
        "colab_type": "code",
        "colab": {}
      },
      "cell_type": "code",
      "source": [
        ""
      ],
      "execution_count": 0,
      "outputs": []
    },
    {
      "metadata": {
        "id": "SBJ3a3kcjPuj",
        "colab_type": "text"
      },
      "cell_type": "markdown",
      "source": [
        "$2x^2-3x=5$\n",
        "\n",
        "$x^2-\\dfrac32x=\\dfrac52$\n",
        "\n",
        "Now we want to complete $x^2-\\dfrac32x$ into a perfect square.\n",
        "\n",
        "To do that, we should add $\\left(\\dfrac{-\\frac32}{2}\\right)^2={\\dfrac{9}{16}}$ to it:\n",
        "\n",
        "$x^2{-\\dfrac32}x+{\\dfrac{9}{16}}=\\left(x-\\dfrac34\\right)^2$\n",
        "\n",
        "$x^2-\\dfrac32x=\\dfrac52$\n",
        "\n",
        "$x^2-\\dfrac32x+{\\dfrac{9}{16}}$\n",
        "\n",
        "$\\dfrac52+{\\dfrac{9}{16}}$\n",
        "\n",
        "$\\left(x-\\dfrac34\\right)^2=\\dfrac{49}{16}$"
      ]
    },
    {
      "metadata": {
        "id": "ybRaPmyRafGi",
        "colab_type": "code",
        "colab": {}
      },
      "cell_type": "code",
      "source": [
        ""
      ],
      "execution_count": 0,
      "outputs": []
    },
    {
      "metadata": {
        "id": "32_moIn3nDY7",
        "colab_type": "text"
      },
      "cell_type": "markdown",
      "source": [
        "\n",
        "$f(x)= 4 x^{2} +12 x +9$\n",
        "\n",
        "$4 \\left(x^2 +3 x\\right) +9$\n",
        "\n",
        "Now we want to complete $x^2 +3 x$ into a perfect square.\n",
        "\n",
        "To do that, we should add $\\left(\\dfrac{3}{2}\\right)^2={\\dfrac{9}{4}}$ to it:\n",
        "\n",
        "$x^2{+3}x+{\\dfrac{9}{4}}=\\left(x +\\dfrac{3}{2}\\right)^2$\n",
        "\n",
        "We add ${\\dfrac{9}{4}}$ inside the parentheses, and subtract ${4}\\cdot{\\dfrac{9}{4}}$ outside them, to keep the expression equivalent.\n",
        "\n",
        "$4 \\left(x^2 +3 x\\right) +9$\n",
        "\n",
        "$4\\left(x^2 +3 x+{\\dfrac{9}{4}}\\right) +9 -{4}\\cdot{\\dfrac{9}{4}}$\n",
        "\n",
        "\\\\\\\\ &=4 \\left(x +\\dfrac{3}{2}\\right)^2 +9 -9 \\\\\\\\ &=4 \\left(x +\\dfrac{3}{2}\\right)^2 +0 \\end{aligned} \n",
        "​\t  \n",
        "=4(x \n",
        "2\n",
        " +3x)+9\n",
        "=4(x \n",
        "2\n",
        " +3x+ \n",
        "4\n",
        "9\n",
        "​\t )+9−4⋅ \n",
        "4\n",
        "9\n",
        "​\t \n",
        "=4(x+ \n",
        "2\n",
        "3\n",
        "​\t ) \n",
        "2\n",
        " +9−9\n",
        "=4(x+ \n",
        "2\n",
        "3\n",
        "​\t ) \n",
        "2\n",
        " +0\n",
        "​\t \n",
        "Hint #44 / 4\n",
        "In conclusion, the function after completing the square is written as:\n",
        "f(x)=4 \\left(x +\\dfrac{3}{2}\\right)^2 +0f(x)=4(x+ \n",
        "2\n",
        "3\n",
        "​\t ) \n",
        "2\n",
        " +0"
      ]
    },
    {
      "metadata": {
        "id": "EYUdT2Ap5Ums",
        "colab_type": "code",
        "colab": {}
      },
      "cell_type": "code",
      "source": [
        ""
      ],
      "execution_count": 0,
      "outputs": []
    },
    {
      "metadata": {
        "id": "zwM8x8XTCWyw",
        "colab_type": "text"
      },
      "cell_type": "markdown",
      "source": [
        "**Rewrite the equation by completing the square.**\n",
        "\n",
        "$x^{2}+4x-21 = 0$\n",
        "\n",
        "Begin by moving the constant term to the right side of the equation.\n",
        "\n",
        "$x^2 + 4x = 21$"
      ]
    },
    {
      "metadata": {
        "id": "t2C5UebMCZDr",
        "colab_type": "code",
        "colab": {
          "base_uri": "https://localhost:8080/",
          "height": 35
        },
        "outputId": "a020b2df-e83f-4ea8-f66d-345465f2f811"
      },
      "cell_type": "code",
      "source": [
        "from sympy import *\n",
        "x = Symbol('x')\n",
        "\n",
        "coef = 4\n",
        "const = -21\n",
        "eq = Eq(x**2 + coef*x + const, 0)\n",
        "eq2 = Eq(x**2 + coef*x, 0 - const)\n",
        "eq2"
      ],
      "execution_count": 8,
      "outputs": [
        {
          "output_type": "execute_result",
          "data": {
            "text/plain": [
              "Eq(x**2 + 4*x, 21)"
            ]
          },
          "metadata": {
            "tags": []
          },
          "execution_count": 8
        }
      ]
    },
    {
      "metadata": {
        "id": "b6g-rYWe564o",
        "colab_type": "text"
      },
      "cell_type": "markdown",
      "source": [
        "We complete the square by taking half of the coefficient of our $x$ term, squaring it, and adding it to both sides of the equation. Since the coefficient of our $x$ term is $4$, half of it would be $2$, and squaring it gives us $4$.\n",
        "\n",
        "$x^2 + 4x + 4 = 21 + 4$"
      ]
    },
    {
      "metadata": {
        "id": "FLCSi1eWC-sI",
        "colab_type": "code",
        "colab": {
          "base_uri": "https://localhost:8080/",
          "height": 35
        },
        "outputId": "57e460a8-1ed6-499e-ab27-144bc9da82f4"
      },
      "cell_type": "code",
      "source": [
        "eq3 = Eq(x**2 + coef*x + Rational(coef,2)**2, 0 - const + Rational(coef,2)**2) \n",
        "eq3"
      ],
      "execution_count": 14,
      "outputs": [
        {
          "output_type": "execute_result",
          "data": {
            "text/plain": [
              "Eq(x**2 + 4*x + 4, 25)"
            ]
          },
          "metadata": {
            "tags": []
          },
          "execution_count": 14
        }
      ]
    },
    {
      "metadata": {
        "id": "Wy2Lq_zSC9Wd",
        "colab_type": "text"
      },
      "cell_type": "markdown",
      "source": [
        "**We can now rewrite the left side of the equation as a squared term.**\n",
        "\n",
        "$( x + 2 )^2 = 25$"
      ]
    },
    {
      "metadata": {
        "id": "XbBzI7TXET08",
        "colab_type": "code",
        "colab": {
          "base_uri": "https://localhost:8080/",
          "height": 35
        },
        "outputId": "92ad45f0-3287-4ed4-fa28-9c615c90dc97"
      },
      "cell_type": "code",
      "source": [
        "factor(eq3)"
      ],
      "execution_count": 15,
      "outputs": [
        {
          "output_type": "execute_result",
          "data": {
            "text/plain": [
              "Eq((x + 2)**2, 25)"
            ]
          },
          "metadata": {
            "tags": []
          },
          "execution_count": 15
        }
      ]
    },
    {
      "metadata": {
        "id": "j7pB6aakCFs_",
        "colab_type": "text"
      },
      "cell_type": "markdown",
      "source": [
        "Rewrite the equation by completing the square.\n",
        "\n",
        "$x^{2}+2x-48 = 0$\n",
        "\n",
        "Begin by moving the constant term to the right side of the equation.\n",
        "\n",
        "$x^2 + 2x = 48$"
      ]
    },
    {
      "metadata": {
        "id": "imddqNbkB-Pn",
        "colab_type": "code",
        "colab": {
          "base_uri": "https://localhost:8080/",
          "height": 35
        },
        "outputId": "913f864b-3616-40c3-c9d8-c8ae1817c260"
      },
      "cell_type": "code",
      "source": [
        "from sympy import *\n",
        "x = Symbol('x')\n",
        "\n",
        "coef = 2\n",
        "const = -48\n",
        "eq = Eq(x**2 + coef*x + const, 0)\n",
        "eq2 = Eq(x**2 + coef*x, 0 - const)\n",
        "eq2"
      ],
      "execution_count": 16,
      "outputs": [
        {
          "output_type": "execute_result",
          "data": {
            "text/plain": [
              "Eq(x**2 + 2*x, 48)"
            ]
          },
          "metadata": {
            "tags": []
          },
          "execution_count": 16
        }
      ]
    },
    {
      "metadata": {
        "id": "I3nLmade8u51",
        "colab_type": "text"
      },
      "cell_type": "markdown",
      "source": [
        "We complete the square by taking half of the coefficient of our $x$ term, squaring it, and adding it to both sides of the equation. Since the coefficient of our $x$ term is $2$, half of it would be $1$, and squaring it gives us $1$.\n",
        "\n",
        "$x^2 + 2x + 1 = 48 + 1$\n",
        "\n",
        "We can now rewrite the left side of the equation as a squared term.\n",
        "\n",
        "$( x + 1 )^2 = 49$"
      ]
    },
    {
      "metadata": {
        "id": "HBtyQRUw-YtX",
        "colab_type": "code",
        "colab": {
          "base_uri": "https://localhost:8080/",
          "height": 35
        },
        "outputId": "0cf307af-897d-4512-dba2-9861976194b5"
      },
      "cell_type": "code",
      "source": [
        "eq3 = Eq(x**2 + coef*x + Rational(coef,2)**2, 0 - const + Rational(coef,2)**2) \n",
        "factor(eq3)"
      ],
      "execution_count": 17,
      "outputs": [
        {
          "output_type": "execute_result",
          "data": {
            "text/plain": [
              "Eq((x + 1)**2, 49)"
            ]
          },
          "metadata": {
            "tags": []
          },
          "execution_count": 17
        }
      ]
    },
    {
      "metadata": {
        "id": "nWZ-_yggFDyp",
        "colab_type": "text"
      },
      "cell_type": "markdown",
      "source": [
        "**Rewrite the equation by completing the square.**\n",
        "\n",
        "$x^{2}-2x-35 = 0$"
      ]
    },
    {
      "metadata": {
        "id": "A71fWt0kFYVt",
        "colab_type": "code",
        "colab": {
          "base_uri": "https://localhost:8080/",
          "height": 35
        },
        "outputId": "ac3eac94-37fa-47e9-cfb8-a2bd75826fea"
      },
      "cell_type": "code",
      "source": [
        "def rewriteeq(coef, const):\n",
        "    return factor(Eq(x**2 + coef*x + Rational(coef,2)**2, 0 - const + Rational(coef,2)**2))\n",
        "\n",
        "rewriteeq(-2, -35)"
      ],
      "execution_count": 34,
      "outputs": [
        {
          "output_type": "execute_result",
          "data": {
            "text/plain": [
              "Eq((x - 1)**2, 36)"
            ]
          },
          "metadata": {
            "tags": []
          },
          "execution_count": 34
        }
      ]
    },
    {
      "metadata": {
        "id": "vxO4UEwiGcyd",
        "colab_type": "text"
      },
      "cell_type": "markdown",
      "source": [
        "**Rewrite the function by completing the square.**\n",
        "\n",
        "$f(x)=x^{2}-12x+50$"
      ]
    },
    {
      "metadata": {
        "id": "jB0ZNnXdFlgB",
        "colab_type": "code",
        "colab": {
          "base_uri": "https://localhost:8080/",
          "height": 35
        },
        "outputId": "ec2ff5aa-4693-4638-e62f-a173a9b3ce7c"
      },
      "cell_type": "code",
      "source": [
        "rewritefn(1, -12, 50)"
      ],
      "execution_count": 46,
      "outputs": [
        {
          "output_type": "execute_result",
          "data": {
            "text/plain": [
              "(x - 6)**2 + 49"
            ]
          },
          "metadata": {
            "tags": []
          },
          "execution_count": 46
        }
      ]
    },
    {
      "metadata": {
        "id": "KvPbe5FUH473",
        "colab_type": "text"
      },
      "cell_type": "markdown",
      "source": [
        "\n",
        "$f(x)=x^{2}+2x-39$"
      ]
    },
    {
      "metadata": {
        "id": "5_E4UwsBGCMj",
        "colab_type": "code",
        "colab": {
          "base_uri": "https://localhost:8080/",
          "height": 35
        },
        "outputId": "1039a72a-bbe6-4e37-d3d5-4e44ff249391"
      },
      "cell_type": "code",
      "source": [
        "coef = -12\n",
        "const = 50\n",
        "factor(x**2 + coef*x + Rational(coef,2)**2) + const - Rational(coef,2)**2"
      ],
      "execution_count": 33,
      "outputs": [
        {
          "output_type": "execute_result",
          "data": {
            "text/plain": [
              "(x + 1)**2 - 40"
            ]
          },
          "metadata": {
            "tags": []
          },
          "execution_count": 33
        }
      ]
    },
    {
      "metadata": {
        "id": "EwWArDnvNwJi",
        "colab_type": "text"
      },
      "cell_type": "markdown",
      "source": [
        "$x^{2}+2x-48 = 0$"
      ]
    },
    {
      "metadata": {
        "id": "ymCemsn1IAIE",
        "colab_type": "code",
        "colab": {
          "base_uri": "https://localhost:8080/",
          "height": 35
        },
        "outputId": "b7c2285b-ad2f-4030-de91-bbc1d120c6ec"
      },
      "cell_type": "code",
      "source": [
        "rewriteeq(1, 2, -48)"
      ],
      "execution_count": 45,
      "outputs": [
        {
          "output_type": "execute_result",
          "data": {
            "text/plain": [
              "Eq((x + 1)**2, 49)"
            ]
          },
          "metadata": {
            "tags": []
          },
          "execution_count": 45
        }
      ]
    },
    {
      "metadata": {
        "id": "I3N3texpOeuz",
        "colab_type": "text"
      },
      "cell_type": "markdown",
      "source": [
        "$x^{2}+2x-3 = 0$"
      ]
    },
    {
      "metadata": {
        "id": "-RjAOccvJHsG",
        "colab_type": "code",
        "colab": {
          "base_uri": "https://localhost:8080/",
          "height": 35
        },
        "outputId": "ca66dfed-62fc-4f12-b519-f984c65a4832"
      },
      "cell_type": "code",
      "source": [
        "rewriteeq(1, 2, -3)"
      ],
      "execution_count": 47,
      "outputs": [
        {
          "output_type": "execute_result",
          "data": {
            "text/plain": [
              "Eq((x + 1)**2, 4)"
            ]
          },
          "metadata": {
            "tags": []
          },
          "execution_count": 47
        }
      ]
    },
    {
      "metadata": {
        "id": "ocL2hoP8PJxv",
        "colab_type": "text"
      },
      "cell_type": "markdown",
      "source": [
        "$x^{2}-8x+7 = 0$"
      ]
    },
    {
      "metadata": {
        "id": "fjn-eiNoOjU1",
        "colab_type": "code",
        "colab": {
          "base_uri": "https://localhost:8080/",
          "height": 35
        },
        "outputId": "baf1ae14-bc44-40fd-9cf5-31c9ff444e18"
      },
      "cell_type": "code",
      "source": [
        "rewriteeq(1, -8, 7)"
      ],
      "execution_count": 59,
      "outputs": [
        {
          "output_type": "execute_result",
          "data": {
            "text/plain": [
              "Eq((x - 4)**2, 9)"
            ]
          },
          "metadata": {
            "tags": []
          },
          "execution_count": 59
        }
      ]
    },
    {
      "metadata": {
        "id": "Xw46jPJiRjiC",
        "colab_type": "text"
      },
      "cell_type": "markdown",
      "source": [
        "$f(x)=x^{2}-8x-2$"
      ]
    },
    {
      "metadata": {
        "id": "1hvd8sqBPRyH",
        "colab_type": "code",
        "colab": {
          "base_uri": "https://localhost:8080/",
          "height": 35
        },
        "outputId": "f0be75e6-6f94-45ca-cab2-862e5b0bf7ea"
      },
      "cell_type": "code",
      "source": [
        "rewritefn(1, -8, -2)"
      ],
      "execution_count": 58,
      "outputs": [
        {
          "output_type": "execute_result",
          "data": {
            "text/plain": [
              "(x - 4)**2 - 18"
            ]
          },
          "metadata": {
            "tags": []
          },
          "execution_count": 58
        }
      ]
    },
    {
      "metadata": {
        "id": "gs8CZvQvSbob",
        "colab_type": "text"
      },
      "cell_type": "markdown",
      "source": [
        "$f(x)=x^{2}+2x+26$"
      ]
    },
    {
      "metadata": {
        "id": "IzEsKQd2Rq55",
        "colab_type": "code",
        "colab": {
          "base_uri": "https://localhost:8080/",
          "height": 35
        },
        "outputId": "02afc730-d8bb-4ce8-dfa1-b6161729264a"
      },
      "cell_type": "code",
      "source": [
        "rewritefn(1, 2, 26)"
      ],
      "execution_count": 60,
      "outputs": [
        {
          "output_type": "execute_result",
          "data": {
            "text/plain": [
              "(x + 1)**2 + 25"
            ]
          },
          "metadata": {
            "tags": []
          },
          "execution_count": 60
        }
      ]
    },
    {
      "metadata": {
        "id": "HoH-P_nqSoko",
        "colab_type": "text"
      },
      "cell_type": "markdown",
      "source": [
        "$x^{2}+14x+49 = 0$"
      ]
    },
    {
      "metadata": {
        "id": "nHpqqVNVShl5",
        "colab_type": "code",
        "colab": {
          "base_uri": "https://localhost:8080/",
          "height": 35
        },
        "outputId": "d220add0-a42d-4bb6-f349-0ffd9996c303"
      },
      "cell_type": "code",
      "source": [
        "rewriteeq(1, 14, 49)"
      ],
      "execution_count": 61,
      "outputs": [
        {
          "output_type": "execute_result",
          "data": {
            "text/plain": [
              "Eq((x + 7)**2, 0)"
            ]
          },
          "metadata": {
            "tags": []
          },
          "execution_count": 61
        }
      ]
    },
    {
      "metadata": {
        "id": "oHwQlYbqTFDD",
        "colab_type": "text"
      },
      "cell_type": "markdown",
      "source": [
        "$x^{2}-14x+40 = 0$"
      ]
    },
    {
      "metadata": {
        "id": "GvEFIYcwSu6x",
        "colab_type": "code",
        "colab": {
          "base_uri": "https://localhost:8080/",
          "height": 35
        },
        "outputId": "11259220-bad8-4407-8957-cdee9aed259a"
      },
      "cell_type": "code",
      "source": [
        "rewriteeq(1, -14, 40)"
      ],
      "execution_count": 62,
      "outputs": [
        {
          "output_type": "execute_result",
          "data": {
            "text/plain": [
              "Eq((x - 7)**2, 9)"
            ]
          },
          "metadata": {
            "tags": []
          },
          "execution_count": 62
        }
      ]
    },
    {
      "metadata": {
        "id": "ZNgRKjgLTQ8o",
        "colab_type": "text"
      },
      "cell_type": "markdown",
      "source": [
        "$f(x)=x^{2}-6x-60$"
      ]
    },
    {
      "metadata": {
        "id": "y2XA_A5yTLO0",
        "colab_type": "code",
        "colab": {
          "base_uri": "https://localhost:8080/",
          "height": 35
        },
        "outputId": "3cdbffd6-662b-4a74-97f7-f5c2909f5838"
      },
      "cell_type": "code",
      "source": [
        "rewritefn(1, -6, -60)"
      ],
      "execution_count": 63,
      "outputs": [
        {
          "output_type": "execute_result",
          "data": {
            "text/plain": [
              "(x - 3)**2 - 69"
            ]
          },
          "metadata": {
            "tags": []
          },
          "execution_count": 63
        }
      ]
    },
    {
      "metadata": {
        "id": "JcU_6uwzTcvW",
        "colab_type": "text"
      },
      "cell_type": "markdown",
      "source": [
        "$f(x)=x^{2}+20x+40$"
      ]
    },
    {
      "metadata": {
        "id": "8k1EkApoTXLK",
        "colab_type": "code",
        "colab": {
          "base_uri": "https://localhost:8080/",
          "height": 35
        },
        "outputId": "6fab0492-9518-488e-ed2b-cd9aeef764f0"
      },
      "cell_type": "code",
      "source": [
        "rewritefn(1, 20, 40)"
      ],
      "execution_count": 64,
      "outputs": [
        {
          "output_type": "execute_result",
          "data": {
            "text/plain": [
              "(x + 10)**2 - 60"
            ]
          },
          "metadata": {
            "tags": []
          },
          "execution_count": 64
        }
      ]
    },
    {
      "metadata": {
        "id": "FB2GrbuETiho",
        "colab_type": "code",
        "colab": {}
      },
      "cell_type": "code",
      "source": [
        ""
      ],
      "execution_count": 0,
      "outputs": []
    }
  ]
}