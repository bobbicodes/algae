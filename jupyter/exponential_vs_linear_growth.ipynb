{
  "nbformat": 4,
  "nbformat_minor": 0,
  "metadata": {
    "colab": {
      "name": "exponential-vs-linear-growth.ipynb",
      "version": "0.3.2",
      "provenance": [],
      "include_colab_link": true
    },
    "kernelspec": {
      "name": "python3",
      "display_name": "Python 3"
    }
  },
  "cells": [
    {
      "cell_type": "markdown",
      "metadata": {
        "id": "view-in-github",
        "colab_type": "text"
      },
      "source": [
        "<a href=\"https://colab.research.google.com/github/porkostomus/jupyter/blob/master/exponential_vs_linear_growth.ipynb\" target=\"_parent\"><img src=\"https://colab.research.google.com/assets/colab-badge.svg\" alt=\"Open In Colab\"/></a>"
      ]
    },
    {
      "metadata": {
        "id": "a5QtBhjRg6Zm",
        "colab_type": "text"
      },
      "cell_type": "markdown",
      "source": [
        "## Exponential vs. linear growth over time\n",
        "\n",
        "Alicia has invented a new app that two companies are interested in purchasing for a 2-year contract.\n",
        "\n",
        "* Company $\\text{A}$ is offering $\\$10{,}000$ for the first month and will increase the amount each following month by $\\$5000$.\n",
        "\n",
        "* Company $\\text{B}$ is offering $\\$500$ for the first month and will double their payment each following month.\n",
        "\n",
        "**For which monthly payment will Company $\\text{B}$'s payment first exceed Company $\\text{A}$'s payment?**"
      ]
    },
    {
      "metadata": {
        "id": "kpdlfjq-JXOi",
        "colab_type": "code",
        "outputId": "91926774-3378-4c9b-f1ae-c63fe3aa948a",
        "colab": {
          "base_uri": "https://localhost:8080/",
          "height": 294
        }
      },
      "cell_type": "code",
      "source": [
        "import pandas as pd\n",
        "from IPython.display import display, HTML\n",
        "\n",
        "data = { \n",
        "     'Months' : [1, 2, 3, 4, 5, 6, 7, 8],\n",
        "     'Company A' : [10000, 15000, 20000, 25000, 30000, 35000, 40000, 45000],\n",
        "    'Company B' : [500, 1000, 2000, 4000, 8000, 16000, 32000, 64000]\n",
        "}\n",
        "\n",
        "df = pd.DataFrame(data)\n",
        "display(HTML(df.to_html(index=False)))"
      ],
      "execution_count": 9,
      "outputs": [
        {
          "output_type": "display_data",
          "data": {
            "text/html": [
              "<table border=\"1\" class=\"dataframe\">\n",
              "  <thead>\n",
              "    <tr style=\"text-align: right;\">\n",
              "      <th>Company A</th>\n",
              "      <th>Company B</th>\n",
              "      <th>Months</th>\n",
              "    </tr>\n",
              "  </thead>\n",
              "  <tbody>\n",
              "    <tr>\n",
              "      <td>10000</td>\n",
              "      <td>500</td>\n",
              "      <td>1</td>\n",
              "    </tr>\n",
              "    <tr>\n",
              "      <td>15000</td>\n",
              "      <td>1000</td>\n",
              "      <td>2</td>\n",
              "    </tr>\n",
              "    <tr>\n",
              "      <td>20000</td>\n",
              "      <td>2000</td>\n",
              "      <td>3</td>\n",
              "    </tr>\n",
              "    <tr>\n",
              "      <td>25000</td>\n",
              "      <td>4000</td>\n",
              "      <td>4</td>\n",
              "    </tr>\n",
              "    <tr>\n",
              "      <td>30000</td>\n",
              "      <td>8000</td>\n",
              "      <td>5</td>\n",
              "    </tr>\n",
              "    <tr>\n",
              "      <td>35000</td>\n",
              "      <td>16000</td>\n",
              "      <td>6</td>\n",
              "    </tr>\n",
              "    <tr>\n",
              "      <td>40000</td>\n",
              "      <td>32000</td>\n",
              "      <td>7</td>\n",
              "    </tr>\n",
              "    <tr>\n",
              "      <td>45000</td>\n",
              "      <td>64000</td>\n",
              "      <td>8</td>\n",
              "    </tr>\n",
              "  </tbody>\n",
              "</table>"
            ],
            "text/plain": [
              "<IPython.core.display.HTML object>"
            ]
          },
          "metadata": {
            "tags": []
          }
        }
      ]
    }
  ]
}