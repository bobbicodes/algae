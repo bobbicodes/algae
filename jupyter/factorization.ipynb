{
  "nbformat": 4,
  "nbformat_minor": 0,
  "metadata": {
    "colab": {
      "name": "factorization.ipynb",
      "version": "0.3.2",
      "provenance": [],
      "collapsed_sections": [],
      "include_colab_link": true
    },
    "kernelspec": {
      "name": "python3",
      "display_name": "Python 3"
    }
  },
  "cells": [
    {
      "cell_type": "markdown",
      "metadata": {
        "id": "view-in-github",
        "colab_type": "text"
      },
      "source": [
        "<a href=\"https://colab.research.google.com/github/porkostomus/jupyter/blob/master/factorization.ipynb\" target=\"_parent\"><img src=\"https://colab.research.google.com/assets/colab-badge.svg\" alt=\"Open In Colab\"/></a>"
      ]
    },
    {
      "metadata": {
        "id": "T4PYioiFpS0h",
        "colab_type": "text"
      },
      "cell_type": "markdown",
      "source": [
        "## Factoring polynomials\n",
        "\n",
        "The volume (in cubic meters), $v$, of a rectangular prism is given by the expression:\n",
        "\n",
        "$v = a^4-2a^2b^2+b^4$\n",
        "\n",
        "Where $a$ and $b$ are positive integers and $a>b$.\n",
        "\n",
        "**Which expressions can represent the three unique dimensions of the prism (each in meters)?**"
      ]
    },
    {
      "metadata": {
        "id": "ZeptFTXTqVKU",
        "colab_type": "text"
      },
      "cell_type": "markdown",
      "source": [
        "$v=a^4 - 2a^2b^2 + b^4=(a^2-b^2)^2$\n",
        "\n",
        "This is equal to:\n",
        "\n",
        "$({(a+b)(a-b)})^2 =(a+b)(a+b)(a-b)(a-b)$\n",
        "\n",
        "We now have $4$ factors, but we only need $3$ sides that multiply to our original expression. So we could multiply two of them so we have three total expressions. So the possibilities are:\n",
        "\n",
        "$(a+b)(a+b){(a-b)(a-b)} = (a+b)(a+b){(a^2-2ab+b^2)}$\n",
        "\n",
        "${(a+b)(a+b)}(a-b)(a-b) = {(a^2+2ab+b^2)}(a-b)(a-b)$\n",
        "\n",
        "$(a+b){(a+b)(a-b)}(a-b) = (a+b){(a^2-b^2)}(a-b)$\n",
        "\n",
        "**Only in the third possibility are all the of factors (possibly) unique, so the three possible dimensions are:**\n",
        "\n",
        "**$(a+b)$, $(a-b)$, and $(a^2-b^2)$.**"
      ]
    },
    {
      "metadata": {
        "id": "OPh8if-pvuH3",
        "colab_type": "text"
      },
      "cell_type": "markdown",
      "source": [
        "$v=x^4-y^4=(x^2)^2$ so it is a difference of squares.\n",
        "\n",
        "We can factor it as:\n",
        "\n",
        "$(x^2+y^2)$\n",
        "\n",
        "Since $(x^2 - y^2)$ is also a difference of squares we can factor the original expression for volume as:\n",
        "\n",
        "$(x^2+y^2)(x + y)(x-y)$\n",
        "\n",
        "**So the three dimensions can be $(x^2+y^2)$, $(x+y)$, and $(x-y)$.**"
      ]
    },
    {
      "metadata": {
        "id": "r4TXo3ni1w2H",
        "colab_type": "text"
      },
      "cell_type": "markdown",
      "source": [
        "$v = a^8 - b^8 = (a^4)^2 -(b^4)^2$ so it is a difference of squares.\n",
        "\n",
        "We can factor it as:\n",
        "\n",
        "$(a^4+b^4)(a^4 - b^4)$\n",
        "\n",
        "Since $(a^4 - b^4)$ is also a difference of squares we can factor the original expression for volume as:\n",
        "\n",
        "$(a^4+b^4)(a^2 + b^2)(a^2-b^2)$\n",
        "\n",
        "**So the three dimensions can be $(a^4+b^4)$, $(a^2+b^2)$, and $(a^2-b^2)$.**\n",
        "\n",
        "**The last term could be factored again, but we only need three dimensions.**"
      ]
    },
    {
      "metadata": {
        "id": "mlVneYX6ylS2",
        "colab_type": "text"
      },
      "cell_type": "markdown",
      "source": [
        "$v=x^4 + 18x^2 + 81=(x^2+9)^2$\n",
        "\n",
        "**So the two expression multiplied in the form asked for are $(x^2+9)(x^2+9)$.**"
      ]
    },
    {
      "metadata": {
        "id": "I_7VEim-qxFW",
        "colab_type": "text"
      },
      "cell_type": "markdown",
      "source": [
        "If $a + b = -2$ and $x + y = -2$,\n",
        "\n",
        "what is $4x + 5a + 4y + 5b$?\n",
        "\n",
        "\n",
        "\n",
        "$= 5a + 5b + 4x + 4y$\n",
        "\n",
        "$= (5) \\cdot (a + b) + (4) \\cdot (x + y)$\n",
        "\n",
        "$= (5) \\cdot (-2) + (4) \\cdot (-2)$\n",
        "\n",
        "$= -10 - 8$\n",
        "\n",
        "$= -18$"
      ]
    },
    {
      "metadata": {
        "id": "hUbuIkUooT1K",
        "colab_type": "code",
        "outputId": "ad05c500-8ac6-406e-a9e3-96b136cab8ea",
        "colab": {
          "base_uri": "https://localhost:8080/",
          "height": 35
        }
      },
      "cell_type": "code",
      "source": [
        "from sympy import *\n",
        "\n",
        "a, b, c, d, x, y, z, h, k, n, m, p, q = symbols('a b c d x y z h k n m p q')\n",
        "\n",
        "factor(15*n**3 + 20*n**7)"
      ],
      "execution_count": 25,
      "outputs": [
        {
          "output_type": "execute_result",
          "data": {
            "text/plain": [
              "5*n**3*(4*n**4 + 3)"
            ]
          },
          "metadata": {
            "tags": []
          },
          "execution_count": 25
        }
      ]
    },
    {
      "metadata": {
        "id": "BXimBziNtIqp",
        "colab_type": "code",
        "outputId": "20869bbc-8811-40bb-e765-e9db8acfcf10",
        "colab": {
          "base_uri": "https://localhost:8080/",
          "height": 35
        }
      },
      "cell_type": "code",
      "source": [
        "gcd(15*n**3, 20*n**7)"
      ],
      "execution_count": 24,
      "outputs": [
        {
          "output_type": "execute_result",
          "data": {
            "text/plain": [
              "5*n**3"
            ]
          },
          "metadata": {
            "tags": []
          },
          "execution_count": 24
        }
      ]
    },
    {
      "metadata": {
        "id": "DUa2HN1htzdj",
        "colab_type": "code",
        "outputId": "4d334048-0212-4434-a087-12270f6457d7",
        "colab": {
          "base_uri": "https://localhost:8080/",
          "height": 35
        }
      },
      "cell_type": "code",
      "source": [
        "factor(2*x + 2*y)"
      ],
      "execution_count": 0,
      "outputs": [
        {
          "output_type": "execute_result",
          "data": {
            "text/plain": [
              "2*(x + y)"
            ]
          },
          "metadata": {
            "tags": []
          },
          "execution_count": 12
        }
      ]
    },
    {
      "metadata": {
        "id": "WPwyspNeZqyl",
        "colab_type": "code",
        "outputId": "9304fc0a-257d-4f06-b2a3-47fa1d728de5",
        "colab": {
          "base_uri": "https://localhost:8080/",
          "height": 35
        }
      },
      "cell_type": "code",
      "source": [
        "-9*(-2)"
      ],
      "execution_count": 0,
      "outputs": [
        {
          "output_type": "execute_result",
          "data": {
            "text/plain": [
              "18"
            ]
          },
          "metadata": {
            "tags": []
          },
          "execution_count": 13
        }
      ]
    },
    {
      "metadata": {
        "id": "Lg76iEH3Z14v",
        "colab_type": "code",
        "outputId": "e8a8aba0-89ef-44c3-d74b-7000a98162db",
        "colab": {
          "base_uri": "https://localhost:8080/",
          "height": 35
        }
      },
      "cell_type": "code",
      "source": [
        "2*(10)"
      ],
      "execution_count": 0,
      "outputs": [
        {
          "output_type": "execute_result",
          "data": {
            "text/plain": [
              "20"
            ]
          },
          "metadata": {
            "tags": []
          },
          "execution_count": 14
        }
      ]
    },
    {
      "metadata": {
        "id": "cnF8XNx3Z7-8",
        "colab_type": "code",
        "outputId": "808ee36b-934e-4459-e1ea-62299dd81bac",
        "colab": {
          "base_uri": "https://localhost:8080/",
          "height": 35
        }
      },
      "cell_type": "code",
      "source": [
        "solveset(Eq(-16*x**4*y**2, (d)*(8*x)), d)"
      ],
      "execution_count": 33,
      "outputs": [
        {
          "output_type": "execute_result",
          "data": {
            "text/plain": [
              "{-2*x**3*y**2}"
            ]
          },
          "metadata": {
            "tags": []
          },
          "execution_count": 33
        }
      ]
    },
    {
      "metadata": {
        "id": "hzhOfUqIcT_j",
        "colab_type": "code",
        "outputId": "ed0236ad-1b20-46df-e50d-b88bf7070d43",
        "colab": {
          "base_uri": "https://localhost:8080/",
          "height": 35
        }
      },
      "cell_type": "code",
      "source": [
        "factor(3*y**2 - 30*y + 48)"
      ],
      "execution_count": 34,
      "outputs": [
        {
          "output_type": "execute_result",
          "data": {
            "text/plain": [
              "3*(y - 8)*(y - 2)"
            ]
          },
          "metadata": {
            "tags": []
          },
          "execution_count": 34
        }
      ]
    },
    {
      "metadata": {
        "id": "-ombI3FhBK0P",
        "colab_type": "code",
        "colab": {
          "base_uri": "https://localhost:8080/",
          "height": 35
        },
        "outputId": "34eaefd0-d35f-4b21-d47d-a2fbb64ed9d2"
      },
      "cell_type": "code",
      "source": [
        "-3*(9 + 1)"
      ],
      "execution_count": 27,
      "outputs": [
        {
          "output_type": "execute_result",
          "data": {
            "text/plain": [
              "-30"
            ]
          },
          "metadata": {
            "tags": []
          },
          "execution_count": 27
        }
      ]
    },
    {
      "metadata": {
        "id": "rcg2HQ1Pi6QW",
        "colab_type": "text"
      },
      "cell_type": "markdown",
      "source": [
        "## Perfect squares"
      ]
    },
    {
      "metadata": {
        "id": "qKwrfBuzfoce",
        "colab_type": "text"
      },
      "cell_type": "markdown",
      "source": [
        "A square has an area of $4 - 4x + x^2$ square meters.\n",
        "\n",
        "**What expression represents the length of one side of the square?**"
      ]
    },
    {
      "metadata": {
        "id": "g41Ng38agESG",
        "colab_type": "text"
      },
      "cell_type": "markdown",
      "source": [
        "Both $x^2$ and $4$ are perfect squares, since $x^2=({x})^2$ and $4=({2})^2$.\n",
        "\n",
        "Additionally, $4x$ is twice the product of the roots of $x^2$ and $4$, since $4x=2( x)( 2)$.\n",
        "\n",
        "$x^2-4x+4 = ({x})^2-2( x)( 2)+({2})^2$\n",
        "\n",
        "So we can use the *square of a difference* pattern to factor:\n",
        "\n",
        "${a}^2 -2( a)( b)+ {b}^2 =({a}-{b})^2$\n",
        "\n",
        "In this case, ${a}={x}$ and ${b}={2}$:\n",
        "\n",
        "$({x})^2-2( x)( 2)+({2})^2 =({x}-{2})^2$\n",
        "\n",
        "In conclusion,\n",
        "\n",
        "$x^2-4x+4=(x-2)^2$\n",
        "\n",
        "So the $\\text{Side length}$ of the square is $x-2$ meters.\n",
        "\n",
        "***Remember that you can always check your factorization by expanding it.***"
      ]
    },
    {
      "metadata": {
        "id": "qXQwpGPwf5xh",
        "colab_type": "code",
        "colab": {}
      },
      "cell_type": "code",
      "source": [
        ""
      ],
      "execution_count": 0,
      "outputs": []
    }
  ]
}