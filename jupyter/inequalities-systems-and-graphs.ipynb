{
 "cells": [
  {
   "cell_type": "markdown",
   "metadata": {},
   "source": [
    "# Inequalities (systems & graphs)\n",
    "\n",
    "## Two-variable inequalities\n",
    "\n",
    "### Guliskhan's bicycling and running"
   ]
  },
  {
   "cell_type": "markdown",
   "metadata": {},
   "source": [
    "Guliskhan plans to cover a certain distance by running and bicycling. She runs at a constant speed, and she bicycles at a speed of $7$ meters per second $(\\text{m/s})$.\n",
    "\n",
    "Let $R$ represent the number of seconds that Guliskhan runs and $B$ represent the number of seconds that she bicycles according to her plan.\n",
    "\n",
    "$3R+7B \\geq 1000$"
   ]
  },
  {
   "cell_type": "code",
   "execution_count": 10,
   "metadata": {},
   "outputs": [],
   "source": [
    "from sympy import *\n",
    "from sympy.solvers.inequalities import reduce_rational_inequalities\n",
    "R, B = symbols('R B')\n",
    "ineq = 3*R + 7*B >= 1000"
   ]
  },
  {
   "cell_type": "markdown",
   "metadata": {},
   "source": [
    "**According to the inequality, at what speed does Guliskhan run, and what is the minimum distance that she plans to cover?**"
   ]
  },
  {
   "cell_type": "markdown",
   "metadata": {},
   "source": [
    "We are given the following inequality:\n",
    "$3R+7B \\geq 1000$\n",
    "\n",
    "The coefficients of the variables $R$ and $B$ represent the speeds (in $\\text{m/s}$) at which Guliskhan runs and bicycles, and the constraint represents the minimum distance that she plans to cover.\n",
    "\n",
    "Therefore, Guliskhan runs at a speed of $3 \\text{ m/s}$, and plans to cover a minimum distance of $1000$ meters."
   ]
  },
  {
   "cell_type": "markdown",
   "metadata": {},
   "source": [
    "**Can Guliskhan cover this minimum distance if she runs for $60$ seconds and bicycles for $90$ seconds?**"
   ]
  },
  {
   "cell_type": "markdown",
   "metadata": {},
   "source": [
    "Now let's check whether Guliskhan can cover the distance she plans by running for $ {60}$ seconds and bicycling for ${90}$ seconds. To do this, we substitute $ R={60}$ and $ B={90}$ in the given inequality:\n",
    "\n",
    "$\\begin{aligned}3R+7B &\\geq 1000\\\\\\\\ 3( {60}) + 7( {90}) &\\stackrel{?}{\\geq} 1000 \\\\\\\\ 810&\\ngeq 1000\\end{aligned}$"
   ]
  },
  {
   "cell_type": "code",
   "execution_count": 11,
   "metadata": {},
   "outputs": [
    {
     "data": {
      "text/plain": [
       "False"
      ]
     },
     "execution_count": 11,
     "metadata": {},
     "output_type": "execute_result"
    }
   ],
   "source": [
    "ineq.subs([(R, 60), (B, 90)])"
   ]
  },
  {
   "cell_type": "markdown",
   "metadata": {},
   "source": [
    "**Since the inequality is false, Guliskhan cannot cover the distance she plans by running for $60$ seconds and bicycling for $90$ seconds.**"
   ]
  },
  {
   "cell_type": "markdown",
   "metadata": {},
   "source": [
    "**Guliskhan runs at a speed of $3 \\text{ m/s}$, and plans to cover a minimum distance of $1000$ meters.**\n",
    "\n",
    "**No, Guliskhan cannot cover the distance she plans by running for $60$ seconds and bicycling for $90$ seconds.**"
   ]
  },
  {
   "cell_type": "markdown",
   "metadata": {},
   "source": [
    "### Vivek's tomatoes and zucchinis\n",
    "\n",
    "Vivek has a maximum of $49$ seconds to chop tomatoes and zucchinis. It takes him $6$ seconds to chop each tomato, and $4$ seconds to chop each zucchini.\n",
    "\n",
    "**Write an inequality that represents the number of tomatoes $(T)$ and zucchinis $(Z)$ Vivek can chop within this time limit.**"
   ]
  },
  {
   "cell_type": "code",
   "execution_count": 12,
   "metadata": {},
   "outputs": [],
   "source": [
    "T, Z = symbols('T Z')\n",
    "ineq = 6*T + 4*Z <= 49"
   ]
  },
  {
   "cell_type": "markdown",
   "metadata": {},
   "source": [
    "We are given that it takes Vivek $6$ seconds to chop each tomato, and $4$ seconds to chop each zucchini.\n",
    "\n",
    "How can we express the total number of seconds Vivek can spend on chopping tomatoes and zucchinis?\n",
    "\n",
    "The amount of time it takes to chop $T$ tomatoes is $6T$, and the amount of time it takes to chop $Z$ zucchinis is $4Z$. Therefore, the total amount of time it takes to chop tomatoes and zucchinis is $6T+4Z$.\n",
    "\n",
    "We are also given that Vivek has a maximum of $49$ seconds to chop the tomatoes and zucchinis. This means that Vivek can use $49$ seconds, or any time less than that to chop tomatoes and zucchinis. Let's use this condition to create the appropriate inequality.\n",
    "\n",
    "**The following inequality represents the number of tomatoes and zucchinis Vivek can chop within this time limit:**\n",
    "\n",
    "$6T+4Z \\leq 49$"
   ]
  },
  {
   "cell_type": "markdown",
   "metadata": {},
   "source": [
    "### Huang Yi's paleontology and sculpting\n",
    "\n",
    "Huang Yi works as a paleontologist and a sculptor.\n",
    "\n",
    "Let $P$ represent the number of months Huang Yi must work as a paleontologist and $S$ represent the number of months she must work as a sculptor to make at least $\\$50{,}000$.\n",
    "\n",
    "$5500P+4500S \\geq 50000$\n",
    "\n",
    "**Huang Yi worked for $6$ months as a paleontologist this year. What is the minimum number of months that she must work as a sculptor to reach her goal?**"
   ]
  },
  {
   "cell_type": "code",
   "execution_count": 19,
   "metadata": {},
   "outputs": [],
   "source": [
    "P, S = symbols('P S')\n",
    "ineq = 5500*P + 4500*S >= 50000"
   ]
  },
  {
   "cell_type": "code",
   "execution_count": 24,
   "metadata": {},
   "outputs": [
    {
     "data": {
      "text/plain": [
       "(34/9 <= S) & (S < oo)"
      ]
     },
     "execution_count": 24,
     "metadata": {},
     "output_type": "execute_result"
    }
   ],
   "source": [
    "reduce_rational_inequalities([[ineq.subs(P, 6)]], S)"
   ]
  },
  {
   "cell_type": "markdown",
   "metadata": {},
   "source": [
    "### Solar panel power generation\n",
    "\n",
    "A large solar panel can generate power at a maximum rate of $400$ kilowatts per day. It generates power at a constant rate when the sky is cloudy, and it generates power at a constant rate when the sky is clear.\n",
    "\n",
    "Let $C$ represent the number of hours when the sky is cloudy and $L$ represent the number of hours when the sky is clear during which the solar panel can generate power without exceeding its capacity.\n",
    "\n",
    "$5C+32L \\leq 400$"
   ]
  },
  {
   "cell_type": "code",
   "execution_count": 27,
   "metadata": {},
   "outputs": [],
   "source": [
    "C, L = symbols('C L')\n",
    "ineq = 5*C + 32*L <= 400"
   ]
  },
  {
   "cell_type": "markdown",
   "metadata": {},
   "source": [
    "Does the solar panel exceed its maximum capacity when the sky is cloudy for $3$ hours and clear for $6$ hours?"
   ]
  },
  {
   "cell_type": "code",
   "execution_count": 28,
   "metadata": {},
   "outputs": [
    {
     "data": {
      "text/plain": [
       "True"
      ]
     },
     "execution_count": 28,
     "metadata": {},
     "output_type": "execute_result"
    }
   ],
   "source": [
    "ineq.subs([(C, 3), (L, 6)])"
   ]
  },
  {
   "cell_type": "markdown",
   "metadata": {},
   "source": [
    "### Gulnaz's cakes and quiches\n",
    "\n",
    "Gulnaz plans to use less than $26$ eggs while baking. She uses $5$ eggs for each cake that she bakes, and $3$ eggs for each quiche that she bakes.\n",
    "\n",
    "**Write an inequality that represents the number of cakes $(C)$ and quiches $(Q)$ Gulnaz can bake according to her plan.**"
   ]
  },
  {
   "cell_type": "code",
   "execution_count": 29,
   "metadata": {},
   "outputs": [],
   "source": [
    "C, Q = symbols('C Q')\n",
    "ineq = 5*C + 3*Q < 26"
   ]
  },
  {
   "cell_type": "markdown",
   "metadata": {},
   "source": [
    "### Eldar's lasagna and spaghetti\n",
    "\n",
    "Eldar cooks lasagna and spaghetti using pesto sauce.\n",
    "\n",
    "Let $L$ represent the number of batches of lasagna and $S$ represent the number of batches of spaghetti that Eldar can cook with the amount of pesto sauce he has.\n",
    "\n",
    "$0.9L+0.3S \\leq 6$\n",
    "\n",
    "**Eldar cooks $4$ batches of spaghetti. How many batches of lasagna can he cook at most with the remaining pesto sauce?**"
   ]
  },
  {
   "cell_type": "code",
   "execution_count": 31,
   "metadata": {},
   "outputs": [
    {
     "data": {
      "text/plain": [
       "0.9*L + 1.2 <= 6"
      ]
     },
     "execution_count": 31,
     "metadata": {},
     "output_type": "execute_result"
    }
   ],
   "source": [
    "L, S = symbols('L S')\n",
    "ineq = 0.9*L + 0.3*S <= 6"
   ]
  },
  {
   "cell_type": "code",
   "execution_count": 32,
   "metadata": {},
   "outputs": [
    {
     "data": {
      "text/plain": [
       "(L <= 5.33333333333333) & (-inf < L)"
      ]
     },
     "execution_count": 32,
     "metadata": {},
     "output_type": "execute_result"
    }
   ],
   "source": [
    "reduce_rational_inequalities([[ineq.subs(S, 4)]], L)"
   ]
  },
  {
   "cell_type": "markdown",
   "metadata": {},
   "source": [
    "### Vugar's toy helicopters and cars\n",
    "\n",
    "Vugar has a maximum of $30$ batteries for toys. Each toy helicopter uses the same number of batteries, and each toy car uses the same number of batteries.\n",
    "\n",
    "Let $H$ represent the number of toy helicopters and $C$ represent the number of toy cars that Vugar can play with without running out of batteries.\n",
    "\n",
    "$3H+4C \\leq 30$\n",
    "\n",
    "**Does Vugar have enough batteries to play with $5$ toy helicopters and $4$ toy cars?**"
   ]
  },
  {
   "cell_type": "code",
   "execution_count": 33,
   "metadata": {},
   "outputs": [],
   "source": [
    "H, C = symbols('H C')\n",
    "ineq = 3*H + 4*C <= 30"
   ]
  },
  {
   "cell_type": "code",
   "execution_count": 34,
   "metadata": {},
   "outputs": [
    {
     "data": {
      "text/plain": [
       "False"
      ]
     },
     "execution_count": 34,
     "metadata": {},
     "output_type": "execute_result"
    }
   ],
   "source": [
    "ineq.subs([(H, 5), (C, 4)])"
   ]
  },
  {
   "cell_type": "code",
   "execution_count": null,
   "metadata": {},
   "outputs": [],
   "source": []
  }
 ],
 "metadata": {
  "kernelspec": {
   "display_name": "Python 3",
   "language": "python",
   "name": "python3"
  },
  "language_info": {
   "codemirror_mode": {
    "name": "ipython",
    "version": 3
   },
   "file_extension": ".py",
   "mimetype": "text/x-python",
   "name": "python",
   "nbconvert_exporter": "python",
   "pygments_lexer": "ipython3",
   "version": "3.7.1"
  }
 },
 "nbformat": 4,
 "nbformat_minor": 2
}
