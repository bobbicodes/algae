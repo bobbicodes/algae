{
 "cells": [
  {
   "cell_type": "markdown",
   "metadata": {},
   "source": [
    "## Linear equations: [tables](https://www.khanacademy.org/math/algebra/linear-word-problems/modal/e/interpreting-tables)"
   ]
  },
  {
   "cell_type": "code",
   "execution_count": 64,
   "metadata": {},
   "outputs": [],
   "source": [
    "import pandas as pd\n",
    "from IPython.display import display, HTML\n",
    "from sympy import *"
   ]
  },
  {
   "cell_type": "markdown",
   "metadata": {},
   "source": [
    "## Finn's swimming distance\n",
    "\n",
    "Finn is swimming at a constant speed.\n",
    "\n",
    "The table compares Finn's distance from the starting point (in meters) and the time since he started (in seconds)."
   ]
  },
  {
   "cell_type": "code",
   "execution_count": 78,
   "metadata": {},
   "outputs": [
    {
     "data": {
      "text/html": [
       "<table border=\"1\" class=\"dataframe\">\n",
       "  <thead>\n",
       "    <tr style=\"text-align: right;\">\n",
       "      <th>Time (seconds)</th>\n",
       "      <th>Distance (meters)</th>\n",
       "    </tr>\n",
       "  </thead>\n",
       "  <tbody>\n",
       "    <tr>\n",
       "      <td>6</td>\n",
       "      <td>9.6</td>\n",
       "    </tr>\n",
       "    <tr>\n",
       "      <td>14</td>\n",
       "      <td>22.4</td>\n",
       "    </tr>\n",
       "    <tr>\n",
       "      <td>22</td>\n",
       "      <td>35.2</td>\n",
       "    </tr>\n",
       "  </tbody>\n",
       "</table>"
      ],
      "text/plain": [
       "<IPython.core.display.HTML object>"
      ]
     },
     "metadata": {},
     "output_type": "display_data"
    }
   ],
   "source": [
    "xunits = 'Time (seconds)'\n",
    "yunits = 'Distance (meters)'\n",
    "\n",
    "data = { \n",
    "     xunits : [6, 14, 22],\n",
    "     yunits : [9.6, 22.4, 35.2]\n",
    "}\n",
    "\n",
    "x1 = data[xunits][0]\n",
    "x2 = data[xunits][1]\n",
    "y1 = data[yunits][0]\n",
    "y2 = data[yunits][1]\n",
    "m = (y2 - y1)/(x2 - x1)\n",
    "PointSlope = Eq(y - y2, m * (x - x2))\n",
    "\n",
    "df = pd.DataFrame(data)\n",
    "display(HTML(df.to_html(index=False)))"
   ]
  },
  {
   "cell_type": "markdown",
   "metadata": {},
   "source": [
    "**How many seconds does it take him to swim $50$ meters?**"
   ]
  },
  {
   "cell_type": "code",
   "execution_count": 79,
   "metadata": {},
   "outputs": [
    {
     "data": {
      "text/plain": [
       "{31.25}"
      ]
     },
     "execution_count": 79,
     "metadata": {},
     "output_type": "execute_result"
    }
   ],
   "source": [
    "solveset(PointSlope.subs(y, 50), x)"
   ]
  },
  {
   "cell_type": "markdown",
   "metadata": {},
   "source": [
    "## Mr. Mole's burrow"
   ]
  },
  {
   "cell_type": "code",
   "execution_count": 65,
   "metadata": {},
   "outputs": [
    {
     "data": {
      "text/html": [
       "<table border=\"1\" class=\"dataframe\">\n",
       "  <thead>\n",
       "    <tr style=\"text-align: right;\">\n",
       "      <th>x</th>\n",
       "      <th>y</th>\n",
       "    </tr>\n",
       "  </thead>\n",
       "  <tbody>\n",
       "    <tr>\n",
       "      <td>5</td>\n",
       "      <td>-18.0</td>\n",
       "    </tr>\n",
       "    <tr>\n",
       "      <td>8</td>\n",
       "      <td>-25.2</td>\n",
       "    </tr>\n",
       "    <tr>\n",
       "      <td>11</td>\n",
       "      <td>-32.4</td>\n",
       "    </tr>\n",
       "  </tbody>\n",
       "</table>"
      ],
      "text/plain": [
       "<IPython.core.display.HTML object>"
      ]
     },
     "metadata": {},
     "output_type": "display_data"
    }
   ],
   "source": [
    "data = { \n",
    "     'x' : [5, 8, 11],\n",
    "     'y' : [-18, -25.2, -32.4]\n",
    "}\n",
    "\n",
    "x1 = data['x'][0]\n",
    "x2 = data['x'][1]\n",
    "y1 = data['y'][0]\n",
    "y2 = data['y'][1]\n",
    "m = (y2 - y1)/(x2 - x1)\n",
    "PointSlope = Eq(y - y2, m * (x - x2))\n",
    "\n",
    "df = pd.DataFrame(data)\n",
    "display(HTML(df.to_html(index=False)))"
   ]
  },
  {
   "cell_type": "markdown",
   "metadata": {},
   "source": [
    "**How many meters below the ground is Mr. Mole's burrow?**"
   ]
  },
  {
   "cell_type": "code",
   "execution_count": 66,
   "metadata": {},
   "outputs": [
    {
     "data": {
      "text/plain": [
       "{-6.0}"
      ]
     },
     "execution_count": 66,
     "metadata": {},
     "output_type": "execute_result"
    }
   ],
   "source": [
    "solveset(PointSlope.subs(x, 0), y)"
   ]
  },
  {
   "cell_type": "markdown",
   "metadata": {},
   "source": [
    "## The young sumo wrestler's special weight-gain diet\n",
    "\n",
    "A young sumo wrestler decided to go on a special diet to gain weight rapidly. He gained weight at a constant rate.\n",
    "\n",
    "The table compares the wrestler's weight (in kilograms) and the time since he started his diet (in months)."
   ]
  },
  {
   "cell_type": "code",
   "execution_count": 70,
   "metadata": {},
   "outputs": [
    {
     "data": {
      "text/html": [
       "<table border=\"1\" class=\"dataframe\">\n",
       "  <thead>\n",
       "    <tr style=\"text-align: right;\">\n",
       "      <th>x</th>\n",
       "      <th>y</th>\n",
       "    </tr>\n",
       "  </thead>\n",
       "  <tbody>\n",
       "    <tr>\n",
       "      <td>0.5</td>\n",
       "      <td>80.6</td>\n",
       "    </tr>\n",
       "    <tr>\n",
       "      <td>2.0</td>\n",
       "      <td>88.4</td>\n",
       "    </tr>\n",
       "    <tr>\n",
       "      <td>3.5</td>\n",
       "      <td>96.2</td>\n",
       "    </tr>\n",
       "  </tbody>\n",
       "</table>"
      ],
      "text/plain": [
       "<IPython.core.display.HTML object>"
      ]
     },
     "metadata": {},
     "output_type": "display_data"
    }
   ],
   "source": [
    "data = { \n",
    "     'x' : [0.5, 2, 3.5],\n",
    "     'y' : [80.6, 88.4, 96.2]\n",
    "}\n",
    "\n",
    "x1 = data['x'][0]\n",
    "x2 = data['x'][1]\n",
    "y1 = data['y'][0]\n",
    "y2 = data['y'][1]\n",
    "m = (y2 - y1)/(x2 - x1)\n",
    "PointSlope = Eq(y - y2, m * (x - x2))\n",
    "\n",
    "df = pd.DataFrame(data)\n",
    "display(HTML(df.to_html(index=False)))"
   ]
  },
  {
   "cell_type": "markdown",
   "metadata": {},
   "source": [
    "**How many kilograms per month did the wrestler gain weight?**"
   ]
  },
  {
   "cell_type": "code",
   "execution_count": 68,
   "metadata": {},
   "outputs": [
    {
     "data": {
      "text/plain": [
       "5.200000000000007"
      ]
     },
     "execution_count": 68,
     "metadata": {},
     "output_type": "execute_result"
    }
   ],
   "source": [
    "m"
   ]
  },
  {
   "cell_type": "markdown",
   "metadata": {},
   "source": [
    "**What was the wrestler's weight before he went on his diet?**"
   ]
  },
  {
   "cell_type": "code",
   "execution_count": 71,
   "metadata": {},
   "outputs": [
    {
     "data": {
      "text/plain": [
       "{78.0}"
      ]
     },
     "execution_count": 71,
     "metadata": {},
     "output_type": "execute_result"
    }
   ],
   "source": [
    "solveset(PointSlope.subs(x, 0), y)"
   ]
  },
  {
   "cell_type": "markdown",
   "metadata": {},
   "source": [
    "## Julia's delivery order"
   ]
  },
  {
   "cell_type": "markdown",
   "metadata": {},
   "source": [
    "Julia got a delivery order. She took some time to get ready, and then she rode her bicycle at a constant speed.\n",
    "\n",
    "The table compares the distance Julia made (in kilometers) and the time since she got the order (in minutes)."
   ]
  },
  {
   "cell_type": "code",
   "execution_count": 11,
   "metadata": {
    "collapsed": false
   },
   "outputs": [],
   "source": [
    "import pandas as pd\n",
    "from IPython.display import display, HTML\n",
    "from sympy import *"
   ]
  },
  {
   "cell_type": "code",
   "execution_count": 40,
   "metadata": {
    "collapsed": false
   },
   "outputs": [],
   "source": [
    "data = { \n",
    "     'Distance (kilometers)' : [5, 7, 9],\n",
    "     'Time (minutes)' : [40, 52, 64]\n",
    "}"
   ]
  },
  {
   "cell_type": "code",
   "execution_count": 3,
   "metadata": {
    "collapsed": false
   },
   "outputs": [],
   "source": [
    "df = pd.DataFrame(data)"
   ]
  },
  {
   "cell_type": "code",
   "execution_count": 4,
   "metadata": {
    "collapsed": false
   },
   "outputs": [
    {
     "data": {
      "text/html": [
       "<table border=\"1\" class=\"dataframe\">\n",
       "  <thead>\n",
       "    <tr style=\"text-align: right;\">\n",
       "      <th>Distance (kilometers)</th>\n",
       "      <th>Time (minutes)</th>\n",
       "    </tr>\n",
       "  </thead>\n",
       "  <tbody>\n",
       "    <tr>\n",
       "      <td>5</td>\n",
       "      <td>40</td>\n",
       "    </tr>\n",
       "    <tr>\n",
       "      <td>7</td>\n",
       "      <td>52</td>\n",
       "    </tr>\n",
       "    <tr>\n",
       "      <td>9</td>\n",
       "      <td>64</td>\n",
       "    </tr>\n",
       "  </tbody>\n",
       "</table>"
      ]
     },
     "execution_count": 4,
     "metadata": {},
     "output_type": "execute_result"
    }
   ],
   "source": [
    "display(HTML(df.to_html(index=False)))"
   ]
  },
  {
   "cell_type": "markdown",
   "metadata": {},
   "source": [
    "**How many minutes did it take Julia to ride $1$ kilometer?**"
   ]
  },
  {
   "cell_type": "markdown",
   "metadata": {},
   "source": [
    "Since Julia rode at a *constant* speed, the table describes a *linear* relationship.\n",
    "\n",
    "Moreover, the rate of change of this relationship corresponds to the time it takes Julia to ride $1$ kilometer.\n",
    "\n",
    "The table of values shows that for each increase of $2$ kilometers in ${\\text{Distance}}$, ${\\text{Time}}$ increases by ${12}$ minutes. The time it takes Julia to ride $1$ kilometer is the ratio of those corresponding differences:\n",
    "\n",
    "$\\dfrac{\\Delta {\\text{Time}}}{\\Delta {\\text{Distance}}}=\\dfrac{{12}}{{2}}={6}$"
   ]
  },
  {
   "cell_type": "code",
   "execution_count": 41,
   "metadata": {
    "collapsed": false
   },
   "outputs": [],
   "source": [
    "x1 = data['Distance (kilometers)'][0]"
   ]
  },
  {
   "cell_type": "code",
   "execution_count": 42,
   "metadata": {
    "collapsed": false
   },
   "outputs": [],
   "source": [
    "x2 = data['Distance (kilometers)'][1]"
   ]
  },
  {
   "cell_type": "code",
   "execution_count": 43,
   "metadata": {
    "collapsed": false
   },
   "outputs": [],
   "source": [
    "y1 = data['Time (minutes)'][0]"
   ]
  },
  {
   "cell_type": "code",
   "execution_count": 44,
   "metadata": {
    "collapsed": false
   },
   "outputs": [],
   "source": [
    "y2 = data['Time (minutes)'][1]"
   ]
  },
  {
   "cell_type": "code",
   "execution_count": 45,
   "metadata": {
    "collapsed": false
   },
   "outputs": [
    {
     "data": {
      "text/plain": [
       "6.0"
      ]
     },
     "execution_count": 45,
     "metadata": {},
     "output_type": "execute_result"
    }
   ],
   "source": [
    "m = (y2 - y1)/(x2 - x1)\n",
    "m"
   ]
  },
  {
   "cell_type": "markdown",
   "metadata": {},
   "source": [
    "**How many minutes did it take Julia to get ready for a delivery?**"
   ]
  },
  {
   "cell_type": "code",
   "execution_count": 48,
   "metadata": {},
   "outputs": [
    {
     "data": {
      "text/plain": [
       "{10.0}"
      ]
     },
     "execution_count": 48,
     "metadata": {},
     "output_type": "execute_result"
    }
   ],
   "source": [
    "x, y = symbols('x y')\n",
    "PointSlope = Eq(y - y1, m * (x - x1))\n",
    "solveset(PointSlope.subs(x, 0), y)"
   ]
  },
  {
   "cell_type": "markdown",
   "metadata": {},
   "source": [
    "## Isabella's pool"
   ]
  },
  {
   "cell_type": "markdown",
   "metadata": {},
   "source": [
    "Isabella filled her pool with water at a constant rate.\n",
    "\n",
    "The table compares the remaining volume of water left to fill the pool (in liters) and the time since Isabella started filling the pool (in minutes)."
   ]
  },
  {
   "cell_type": "code",
   "execution_count": 1,
   "metadata": {
    "collapsed": false
   },
   "outputs": [],
   "source": [
    "data = { \n",
    "     'Time (minutes)' : [2, 7, 12],\n",
    "     'Water(liters)' : [184, 94, 4]\n",
    "}"
   ]
  },
  {
   "cell_type": "code",
   "execution_count": 4,
   "metadata": {
    "collapsed": false
   },
   "outputs": [
    {
     "data": {
      "text/html": [
       "<table border=\"1\" class=\"dataframe\">\n",
       "  <thead>\n",
       "    <tr style=\"text-align: right;\">\n",
       "      <th>Time (minutes)</th>\n",
       "      <th>Water(liters)</th>\n",
       "    </tr>\n",
       "  </thead>\n",
       "  <tbody>\n",
       "    <tr>\n",
       "      <td>2</td>\n",
       "      <td>184</td>\n",
       "    </tr>\n",
       "    <tr>\n",
       "      <td>7</td>\n",
       "      <td>94</td>\n",
       "    </tr>\n",
       "    <tr>\n",
       "      <td>12</td>\n",
       "      <td>4</td>\n",
       "    </tr>\n",
       "  </tbody>\n",
       "</table>"
      ]
     },
     "execution_count": 4,
     "metadata": {},
     "output_type": "execute_result"
    }
   ],
   "source": [
    "df = pd.DataFrame(data)\n",
    "display(HTML(df.to_html(index=False)))"
   ]
  },
  {
   "cell_type": "markdown",
   "metadata": {},
   "source": [
    "**How many liters is Isabella's pool?**"
   ]
  },
  {
   "cell_type": "markdown",
   "metadata": {},
   "source": [
    "Since Isabella filled the pool at a *constant* rate, the table describes a *linear* relationship.\n",
    "\n",
    "Moreover, the size of Isabella's pool corresponds to the remaining volume of water to fill before she started, which is when $\\text{Time}$ was $0$ minutes."
   ]
  },
  {
   "cell_type": "markdown",
   "metadata": {},
   "source": [
    "The table of values shows that for each increase of $5$ minutes in ${\\text{Time}}$, ${\\text{Water}}$ decreased by ${90}$ liters:"
   ]
  },
  {
   "cell_type": "code",
   "execution_count": 19,
   "metadata": {
    "collapsed": false
   },
   "outputs": [],
   "source": [
    "x1 = data['Time (minutes)'][0]\n",
    "y1 = data['Time (minutes)'][0]\n",
    "x2 = data['Water(liters)'][1]\n",
    "y2 = data['Water(liters)'][1]\n",
    "\n"
   ]
  },
  {
   "cell_type": "code",
   "execution_count": 15,
   "metadata": {
    "collapsed": false
   },
   "outputs": [],
   "source": [
    "m = (x2 - x1)/(y2 - y1)"
   ]
  },
  {
   "cell_type": "markdown",
   "metadata": {},
   "source": [
    "This is the slope of the line representing the relationship.\n",
    "\n",
    "If we use one of the rows in the table as a point $(x_1,y_1)$, we can write the equation of this relationship in point-slope form: ${y}-y_1={m}({x}-x_1)$. Let's use the point $(12,4)$:"
   ]
  },
  {
   "cell_type": "code",
   "execution_count": 18,
   "metadata": {
    "collapsed": false
   },
   "outputs": [],
   "source": [
    "x, y = symbols('x y')"
   ]
  },
  {
   "cell_type": "code",
   "execution_count": 29,
   "metadata": {
    "collapsed": false
   },
   "outputs": [],
   "source": [
    "x3 = data['Time (minutes)'][2]\n",
    "y3 = data['Water(liters)'][2]"
   ]
  },
  {
   "cell_type": "code",
   "execution_count": 30,
   "metadata": {
    "collapsed": false
   },
   "outputs": [],
   "source": [
    "PointSlope = Eq(y - y3, m * (x - x3))"
   ]
  },
  {
   "cell_type": "code",
   "execution_count": 31,
   "metadata": {
    "collapsed": false
   },
   "outputs": [
    {
     "data": {
      "text/plain": [
       "{220.0}"
      ]
     },
     "execution_count": 31,
     "metadata": {},
     "output_type": "execute_result"
    }
   ],
   "source": [
    "solveset(PointSlope.subs(x, 0), y)"
   ]
  },
  {
   "cell_type": "markdown",
   "metadata": {},
   "source": [
    "## Trip to Mount Kilimanjaro"
   ]
  },
  {
   "cell_type": "markdown",
   "metadata": {},
   "source": [
    "The price of a climbing trip to Mount Kilimanjaro includes an initial fee plus a constant fee per meter.\n",
    "\n",
    "The table compares the total distance of a trip (in meters) and the price of the trip (in dollars)."
   ]
  },
  {
   "cell_type": "code",
   "execution_count": 2,
   "metadata": {
    "collapsed": false
   },
   "outputs": [],
   "source": [
    "data = { \n",
    "     'Distance (meters)' : [70, 100, 130],\n",
    "     'Price (dollars)' : [114.1, 118, 121.90]\n",
    "}"
   ]
  },
  {
   "cell_type": "code",
   "execution_count": 4,
   "metadata": {
    "collapsed": false
   },
   "outputs": [
    {
     "data": {
      "text/html": [
       "<table border=\"1\" class=\"dataframe\">\n",
       "  <thead>\n",
       "    <tr style=\"text-align: right;\">\n",
       "      <th>Distance (meters)</th>\n",
       "      <th>Price (dollars)</th>\n",
       "    </tr>\n",
       "  </thead>\n",
       "  <tbody>\n",
       "    <tr>\n",
       "      <td>70</td>\n",
       "      <td>114.1</td>\n",
       "    </tr>\n",
       "    <tr>\n",
       "      <td>100</td>\n",
       "      <td>118.0</td>\n",
       "    </tr>\n",
       "    <tr>\n",
       "      <td>130</td>\n",
       "      <td>121.9</td>\n",
       "    </tr>\n",
       "  </tbody>\n",
       "</table>"
      ]
     },
     "execution_count": 4,
     "metadata": {},
     "output_type": "execute_result"
    }
   ],
   "source": [
    "df = pd.DataFrame(data)\n",
    "display(HTML(df.to_html(index=False)))"
   ]
  },
  {
   "cell_type": "markdown",
   "metadata": {},
   "source": [
    "**What is the additional fee for each meter climbed?**"
   ]
  },
  {
   "cell_type": "markdown",
   "metadata": {},
   "source": [
    "Since the additional fee per meter climbed is constant, the table describes a linear relationship.\n",
    "\n",
    "Moreover, the rate of change of this relationship corresponds to the additional fee per meter climbed.\n",
    "\n",
    "The table of values shows that for each increase of $30$ meters in ${\\text{Distance,}}$ ${\\text{Price}}$ increases by $\\${3.90}$. The additional fee per meter climbed is the ratio of those corresponding differences:\n",
    "\n",
    "\n",
    "$\\dfrac{\\Delta {\\text{Price}}}{\\Delta {\\text{Distance}}}=\\dfrac{{3.9}}{{30}}={0.13}$"
   ]
  },
  {
   "cell_type": "code",
   "execution_count": 4,
   "metadata": {
    "collapsed": false
   },
   "outputs": [],
   "source": [
    "x1 = data['Distance (meters)'][0]\n",
    "x2 = data['Distance (meters)'][1]\n",
    "y1 = data['Price (dollars)'][0]\n",
    "y2 = data['Price (dollars)'][1]"
   ]
  },
  {
   "cell_type": "code",
   "execution_count": 15,
   "metadata": {
    "collapsed": false
   },
   "outputs": [
    {
     "data": {
      "text/plain": [
       "0.1300000000000002"
      ]
     },
     "execution_count": 15,
     "metadata": {},
     "output_type": "execute_result"
    }
   ],
   "source": [
    "(y2 - y1)/(x2 - x1)"
   ]
  },
  {
   "cell_type": "markdown",
   "metadata": {},
   "source": [
    "**How many meters far can you climb for $\\$131$?**\n",
    "\n",
    "Since the additional fee per meter climbed is *constant*, the table describes a *linear* relationship.\n",
    "\n",
    "Moreover, the total distance you can climb for $\\$131$ corresponds to the case where $\\text{Price}$ is $\\$131$."
   ]
  },
  {
   "cell_type": "markdown",
   "metadata": {},
   "source": [
    "The table of values shows that for each increase of ${30}$ meters in ${\\text{Distance}}$, ${\\text{Price}}$  increases by $\\${3.90}$:\n",
    "\n",
    "$\\dfrac{\\Delta {\\text{Price}}}{\\Delta {\\text{Distance}}}=\\dfrac{{3.9}}{{30}}={0.13}$\n",
    "\n",
    "This is the slope of the line representing the relationship.\n",
    "\n",
    "If we use one of the rows in the table as a point $(x_1,y_1)$, we can write the equation of this relationship in *point-slope form*: ${y}-y_1={m}({x}-x_1)$. Let's use the point $(100,118)$:\n",
    "\n",
    "${\\text{Price}}-118={0.13}({\\text{Distance}}-100)$\n",
    "\n",
    "When we solve this equation for ${\\text{Distance}}$, we get the following equation:\n",
    "\n",
    "${\\text{Distance}}=\\dfrac{{\\text{Price}}-105}{0.13}$\n",
    "\n",
    "When we plug ${\\text{Price}}={131}$ into the equation, we find that ${\\text{Distance}}={200}$.\n",
    "\n",
    "**In conclusion, for $\\$131$, you can climb a total of $200$ meters.**"
   ]
  },
  {
   "cell_type": "markdown",
   "metadata": {},
   "source": [
    "## Ying Ying's petunias"
   ]
  },
  {
   "cell_type": "markdown",
   "metadata": {},
   "source": [
    "Ying Ying wants to buy some petunias.\n",
    "\n",
    "The table compares the number of petunias Ying Ying could buy and the money that would remain in her wallet (in dollars)."
   ]
  },
  {
   "cell_type": "code",
   "execution_count": 17,
   "metadata": {
    "collapsed": false
   },
   "outputs": [
    {
     "data": {
      "text/html": [
       "<table border=\"1\" class=\"dataframe\">\n",
       "  <thead>\n",
       "    <tr style=\"text-align: right;\">\n",
       "      <th>Petunias</th>\n",
       "      <th>Money (dollars)</th>\n",
       "    </tr>\n",
       "  </thead>\n",
       "  <tbody>\n",
       "    <tr>\n",
       "      <td>2</td>\n",
       "      <td>6.5</td>\n",
       "    </tr>\n",
       "    <tr>\n",
       "      <td>8</td>\n",
       "      <td>5.0</td>\n",
       "    </tr>\n",
       "    <tr>\n",
       "      <td>14</td>\n",
       "      <td>3.5</td>\n",
       "    </tr>\n",
       "  </tbody>\n",
       "</table>"
      ]
     },
     "execution_count": 17,
     "metadata": {},
     "output_type": "execute_result"
    }
   ],
   "source": [
    "data = { \n",
    "     'Petunias' : [2, 8, 14],\n",
    "     'Money (dollars)' : [6.50, 5.00, 3.50]\n",
    "}\n",
    "\n",
    "df = pd.DataFrame(data)\n",
    "display(HTML(df.to_html(index=False)))"
   ]
  },
  {
   "cell_type": "markdown",
   "metadata": {},
   "source": [
    "How many Petunias can Ying Ying buy at most?"
   ]
  },
  {
   "cell_type": "markdown",
   "metadata": {},
   "source": [
    "Since the price of a single petunia is *constant*, the table describes a *linear* relationship.\n",
    "\n",
    "Moreover, the maximum number of petunias Ying Ying could buy corresponds to the case where she has spent all her money on petunias, which is when $\\text{Money}$ is $\\$0$.\n",
    "\n",
    "The table of values shows that for each increase of $6$ in ${\\text{Petunias}}$, ${\\text{Money}}$ decreases by $\\${1.50}$:\n",
    "\n",
    "$\\dfrac{\\Delta {\\text{Money}}}{\\Delta {\\text{Petunias}}}=\\dfrac{{-1.50}}{{6}}={-0.25}$"
   ]
  },
  {
   "cell_type": "code",
   "execution_count": 20,
   "metadata": {
    "collapsed": false
   },
   "outputs": [],
   "source": [
    "x1 = data['Petunias'][0]\n",
    "x2 = data['Petunias'][1]\n",
    "y1 = data['Money (dollars)'][0]\n",
    "y2 = data['Money (dollars)'][1]\n",
    "m = (y2 - y1)/(x2 - x1)"
   ]
  },
  {
   "cell_type": "code",
   "execution_count": 21,
   "metadata": {
    "collapsed": false
   },
   "outputs": [
    {
     "data": {
      "text/plain": [
       "-0.25"
      ]
     },
     "execution_count": 21,
     "metadata": {},
     "output_type": "execute_result"
    }
   ],
   "source": [
    "m"
   ]
  },
  {
   "cell_type": "markdown",
   "metadata": {},
   "source": [
    "This is the slope of the line representing the relationship.\n",
    "\n",
    "If we use one of the rows in the table as a point $(x_1,y_1)$, we can write the equation of this relationship in point-slope form: ${y}-y_1={m}({x}-x_1)$. Let's use the point $(8,5)$:"
   ]
  },
  {
   "cell_type": "code",
   "execution_count": 22,
   "metadata": {
    "collapsed": false
   },
   "outputs": [],
   "source": [
    "PointSlope = Eq(y - y2, m * (x - x2))"
   ]
  },
  {
   "cell_type": "code",
   "execution_count": 23,
   "metadata": {
    "collapsed": false
   },
   "outputs": [
    {
     "data": {
      "text/plain": [
       "{28.0}"
      ]
     },
     "execution_count": 23,
     "metadata": {},
     "output_type": "execute_result"
    }
   ],
   "source": [
    "solveset(PointSlope.subs(y, 0), x)"
   ]
  },
  {
   "cell_type": "markdown",
   "metadata": {},
   "source": [
    "## Amira's balloon animals"
   ]
  },
  {
   "cell_type": "markdown",
   "metadata": {},
   "source": [
    "Amira sells balloon animals. She uses the same number of balloons for each animal she makes.\n",
    "\n",
    "The table compares the number of balloon animals sold and the remaining number of balloons on a certain day."
   ]
  },
  {
   "cell_type": "code",
   "execution_count": 3,
   "metadata": {
    "collapsed": false
   },
   "outputs": [
    {
     "data": {
      "text/html": [
       "<table border=\"1\" class=\"dataframe\">\n",
       "  <thead>\n",
       "    <tr style=\"text-align: right;\">\n",
       "      <th>Animals</th>\n",
       "      <th>Balloons</th>\n",
       "    </tr>\n",
       "  </thead>\n",
       "  <tbody>\n",
       "    <tr>\n",
       "      <td>15</td>\n",
       "      <td>200</td>\n",
       "    </tr>\n",
       "    <tr>\n",
       "      <td>24</td>\n",
       "      <td>164</td>\n",
       "    </tr>\n",
       "    <tr>\n",
       "      <td>33</td>\n",
       "      <td>128</td>\n",
       "    </tr>\n",
       "  </tbody>\n",
       "</table>"
      ]
     },
     "execution_count": 3,
     "metadata": {},
     "output_type": "execute_result"
    }
   ],
   "source": [
    "data = { \n",
    "     'Animals' : [15, 24, 33],\n",
    "     'Balloons' : [200, 164, 128]\n",
    "}\n",
    "\n",
    "df = pd.DataFrame(data)\n",
    "display(HTML(df.to_html(index=False)))"
   ]
  },
  {
   "cell_type": "markdown",
   "metadata": {},
   "source": [
    "**How many balloons does Amira use for each balloon animal?**"
   ]
  },
  {
   "cell_type": "code",
   "execution_count": 5,
   "metadata": {
    "collapsed": false
   },
   "outputs": [
    {
     "data": {
      "text/plain": [
       "-4.0"
      ]
     },
     "execution_count": 5,
     "metadata": {},
     "output_type": "execute_result"
    }
   ],
   "source": [
    "x1 = data['Animals'][0]\n",
    "x2 = data['Animals'][1]\n",
    "y1 = data['Balloons'][0]\n",
    "y2 = data['Balloons'][1]\n",
    "(y2 - y1)/(x2 - x1)"
   ]
  },
  {
   "cell_type": "markdown",
   "metadata": {},
   "source": [
    "## Engine rotation speed \n",
    "\n",
    "As a certain engine's rotation speed increases, its temperature increases at a constant rate.\n",
    "\n",
    "The table compares the engine's rotation speed (in cycles per second) and its temperature (in degrees Celsius)."
   ]
  },
  {
   "cell_type": "code",
   "execution_count": 73,
   "metadata": {
    "collapsed": false
   },
   "outputs": [
    {
     "data": {
      "text/html": [
       "<table border=\"1\" class=\"dataframe\">\n",
       "  <thead>\n",
       "    <tr style=\"text-align: right;\">\n",
       "      <th>x</th>\n",
       "      <th>y</th>\n",
       "    </tr>\n",
       "  </thead>\n",
       "  <tbody>\n",
       "    <tr>\n",
       "      <td>11</td>\n",
       "      <td>23.8</td>\n",
       "    </tr>\n",
       "    <tr>\n",
       "      <td>13</td>\n",
       "      <td>25.4</td>\n",
       "    </tr>\n",
       "    <tr>\n",
       "      <td>15</td>\n",
       "      <td>27.0</td>\n",
       "    </tr>\n",
       "  </tbody>\n",
       "</table>"
      ],
      "text/plain": [
       "<IPython.core.display.HTML object>"
      ]
     },
     "metadata": {},
     "output_type": "display_data"
    }
   ],
   "source": [
    "data = { \n",
    "     'x' : [11, 13, 15],\n",
    "     'y' : [23.8, 25.4, 27]\n",
    "}\n",
    "\n",
    "x1 = data['x'][0]\n",
    "x2 = data['x'][1]\n",
    "y1 = data['y'][0]\n",
    "y2 = data['y'][1]\n",
    "m = (y2 - y1)/(x2 - x1)\n",
    "PointSlope = Eq(y - y2, m * (x - x2))\n",
    "\n",
    "df = pd.DataFrame(data)\n",
    "display(HTML(df.to_html(index=False)))"
   ]
  },
  {
   "cell_type": "markdown",
   "metadata": {},
   "source": [
    "**How many degrees is the increase in temperature that comes with an increase of $1$ cycle per second in the rotation?**"
   ]
  },
  {
   "cell_type": "code",
   "execution_count": 74,
   "metadata": {},
   "outputs": [
    {
     "data": {
      "text/plain": [
       "0.7999999999999989"
      ]
     },
     "execution_count": 74,
     "metadata": {},
     "output_type": "execute_result"
    }
   ],
   "source": [
    "m"
   ]
  },
  {
   "cell_type": "markdown",
   "metadata": {},
   "source": [
    "**What is the engine's temperature at rest?**"
   ]
  },
  {
   "cell_type": "code",
   "execution_count": 75,
   "metadata": {
    "collapsed": false
   },
   "outputs": [
    {
     "data": {
      "text/plain": [
       "{15.0}"
      ]
     },
     "execution_count": 75,
     "metadata": {},
     "output_type": "execute_result"
    }
   ],
   "source": [
    "solveset(PointSlope.subs(x, 0), y)"
   ]
  },
  {
   "cell_type": "markdown",
   "metadata": {},
   "source": [
    "## Manco went scuba diving\n",
    "\n",
    "Manco went scuba diving. As he dove deeper, the water pressure around him increased at a constant rate.\n",
    "\n",
    "The table compares Manco's depth (in meters) and the water pressure around him (in atmospheres)."
   ]
  },
  {
   "cell_type": "code",
   "execution_count": 12,
   "metadata": {
    "collapsed": false
   },
   "outputs": [
    {
     "data": {
      "text/html": [
       "<table border=\"1\" class=\"dataframe\">\n",
       "  <thead>\n",
       "    <tr style=\"text-align: right;\">\n",
       "      <th>Depth (meters)</th>\n",
       "      <th>Pressure (atmospheres)</th>\n",
       "    </tr>\n",
       "  </thead>\n",
       "  <tbody>\n",
       "    <tr>\n",
       "      <td>13</td>\n",
       "      <td>2.3</td>\n",
       "    </tr>\n",
       "    <tr>\n",
       "      <td>17</td>\n",
       "      <td>2.7</td>\n",
       "    </tr>\n",
       "    <tr>\n",
       "      <td>21</td>\n",
       "      <td>3.1</td>\n",
       "    </tr>\n",
       "  </tbody>\n",
       "</table>"
      ]
     },
     "execution_count": 12,
     "metadata": {},
     "output_type": "execute_result"
    }
   ],
   "source": [
    "\n",
    "data = { \n",
    "     'Depth (meters)' : [13, 17, 21],\n",
    "     'Pressure (atmospheres)' : [2.3, 2.7, 3.1]\n",
    "}\n",
    "\n",
    "df = pd.DataFrame(data)\n",
    "display(HTML(df.to_html(index=False)))"
   ]
  },
  {
   "cell_type": "markdown",
   "metadata": {},
   "source": [
    "**What is the rate of change of the water pressure in atmospheres per meter?**"
   ]
  },
  {
   "cell_type": "code",
   "execution_count": 13,
   "metadata": {
    "collapsed": false
   },
   "outputs": [],
   "source": [
    "x1 = data['Depth (meters)'][0]\n",
    "x2 = data['Depth (meters)'][1]\n",
    "y1 = data['Pressure (atmospheres)'][0]\n",
    "y2 = data['Pressure (atmospheres)'][1]\n",
    "m = (y2 - y1)/(x2 - x1)"
   ]
  },
  {
   "cell_type": "code",
   "execution_count": 14,
   "metadata": {
    "collapsed": false
   },
   "outputs": [
    {
     "data": {
      "text/plain": [
       "0.10000000000000009"
      ]
     },
     "execution_count": 14,
     "metadata": {},
     "output_type": "execute_result"
    }
   ],
   "source": [
    "m"
   ]
  },
  {
   "cell_type": "markdown",
   "metadata": {},
   "source": [
    "## Natsumi's wall painting\n",
    "\n",
    "Natsumi paints walls for a living. She paints at a constant speed, and then she takes a constant amount of time to clean up.\n",
    "\n",
    "The table compares the total area Natsumi paints (in square meters) and the time it takes Natsumi to finish painting and cleaning up (in hours)."
   ]
  },
  {
   "cell_type": "code",
   "execution_count": 12,
   "metadata": {},
   "outputs": [
    {
     "data": {
      "text/html": [
       "<table border=\"1\" class=\"dataframe\">\n",
       "  <thead>\n",
       "    <tr style=\"text-align: right;\">\n",
       "      <th>Area (square meters)</th>\n",
       "      <th>Time (hours)</th>\n",
       "    </tr>\n",
       "  </thead>\n",
       "  <tbody>\n",
       "    <tr>\n",
       "      <td>30</td>\n",
       "      <td>2.00</td>\n",
       "    </tr>\n",
       "    <tr>\n",
       "      <td>45</td>\n",
       "      <td>2.75</td>\n",
       "    </tr>\n",
       "    <tr>\n",
       "      <td>60</td>\n",
       "      <td>3.50</td>\n",
       "    </tr>\n",
       "  </tbody>\n",
       "</table>"
      ],
      "text/plain": [
       "<IPython.core.display.HTML object>"
      ]
     },
     "metadata": {},
     "output_type": "display_data"
    }
   ],
   "source": [
    "data = { \n",
    "     'Area (square meters)' : [30, 45, 60],\n",
    "     'Time (hours)' : [2, 2.75, 3.5]\n",
    "}\n",
    "\n",
    "df = pd.DataFrame(data)\n",
    "display(HTML(df.to_html(index=False)))"
   ]
  },
  {
   "cell_type": "markdown",
   "metadata": {},
   "source": [
    "**How many hours does it take Natsumi to clean up after she is done?**"
   ]
  },
  {
   "cell_type": "code",
   "execution_count": 7,
   "metadata": {
    "collapsed": false
   },
   "outputs": [
    {
     "data": {
      "text/plain": [
       "0.05"
      ]
     },
     "execution_count": 7,
     "metadata": {},
     "output_type": "execute_result"
    }
   ],
   "source": [
    "from sympy import *\n",
    "x, y = symbols('x y')\n",
    "x1 = 30\n",
    "x2 = 45\n",
    "y1 = 2\n",
    "y2 = 2.75\n",
    "m = (y2 - y1)/(x2 - x1)\n",
    "m"
   ]
  },
  {
   "cell_type": "code",
   "execution_count": 9,
   "metadata": {},
   "outputs": [
    {
     "data": {
      "text/plain": [
       "{0.5}"
      ]
     },
     "execution_count": 9,
     "metadata": {},
     "output_type": "execute_result"
    }
   ],
   "source": [
    "PointSlope = Eq(y - y2, m * (x - x2))\n",
    "solveset(PointSlope.subs(x, 0), y)"
   ]
  },
  {
   "cell_type": "code",
   "execution_count": 13,
   "metadata": {},
   "outputs": [
    {
     "data": {
      "text/plain": [
       "0.6"
      ]
     },
     "execution_count": 13,
     "metadata": {},
     "output_type": "execute_result"
    }
   ],
   "source": [
    "x1 = 110\n",
    "x2 = 145\n",
    "y1 = 186\n",
    "y2 = 207\n",
    "(y2 - y1)/(x2 - x1)"
   ]
  },
  {
   "cell_type": "markdown",
   "metadata": {},
   "source": [
    "## Suraj's pizza\n",
    "\n",
    "Suraj took a slice of pizza from the freezer and put it in the oven. The pizza was heated at a constant rate.\n",
    "\n",
    "The table compares the pizza's temperature (in degrees Celsius) and the time since Suraj started heating it (in minutes)."
   ]
  },
  {
   "cell_type": "code",
   "execution_count": 49,
   "metadata": {},
   "outputs": [
    {
     "data": {
      "text/html": [
       "<table border=\"1\" class=\"dataframe\">\n",
       "  <thead>\n",
       "    <tr style=\"text-align: right;\">\n",
       "      <th>Time (minutes)</th>\n",
       "      <th>Temperature (degrees Celsius)</th>\n",
       "    </tr>\n",
       "  </thead>\n",
       "  <tbody>\n",
       "    <tr>\n",
       "      <td>1</td>\n",
       "      <td>2.5</td>\n",
       "    </tr>\n",
       "    <tr>\n",
       "      <td>7</td>\n",
       "      <td>47.5</td>\n",
       "    </tr>\n",
       "    <tr>\n",
       "      <td>13</td>\n",
       "      <td>92.5</td>\n",
       "    </tr>\n",
       "  </tbody>\n",
       "</table>"
      ],
      "text/plain": [
       "<IPython.core.display.HTML object>"
      ]
     },
     "metadata": {},
     "output_type": "display_data"
    }
   ],
   "source": [
    "data = { \n",
    "     'Time (minutes)' : [1, 7, 13],\n",
    "     'Temperature (degrees Celsius)' : [2.5, 47.5, 92.5]\n",
    "}\n",
    "\n",
    "df = pd.DataFrame(data)\n",
    "display(HTML(df.to_html(index=False)))"
   ]
  },
  {
   "cell_type": "markdown",
   "metadata": {},
   "source": [
    "**How many degrees per minute was the pizza heated?**"
   ]
  },
  {
   "cell_type": "code",
   "execution_count": 50,
   "metadata": {},
   "outputs": [],
   "source": [
    "x1 = data['Time (minutes)'][0]\n",
    "x2 = data['Time (minutes)'][1]\n",
    "y1 = data['Temperature (degrees Celsius)'][0]\n",
    "y2 = data['Temperature (degrees Celsius)'][1]\n",
    "m = (y2 - y1)/(x2 - x1)"
   ]
  },
  {
   "cell_type": "code",
   "execution_count": 51,
   "metadata": {},
   "outputs": [
    {
     "data": {
      "text/plain": [
       "7.5"
      ]
     },
     "execution_count": 51,
     "metadata": {},
     "output_type": "execute_result"
    }
   ],
   "source": [
    "m"
   ]
  }
 ],
 "metadata": {
  "kernelspec": {
   "display_name": "Python 3",
   "language": "python",
   "name": "python3"
  },
  "language_info": {
   "codemirror_mode": {
    "name": "ipython",
    "version": 3
   },
   "file_extension": ".py",
   "mimetype": "text/x-python",
   "name": "python",
   "nbconvert_exporter": "python",
   "pygments_lexer": "ipython3",
   "version": "3.7.1"
  }
 },
 "nbformat": 4,
 "nbformat_minor": 2
}
