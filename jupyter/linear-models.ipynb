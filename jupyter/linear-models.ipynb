{
 "cells": [
  {
   "cell_type": "markdown",
   "metadata": {},
   "source": [
    "# Linear models\n",
    "\n",
    "## Naoya's book\n",
    "\n",
    "Naoya read a book cover to cover in a single session, at a rate of $55$ pages per hour. After reading for $4$ hours, he had $330$ pages left to read.\n",
    "\n",
    "**How many pages is the book?**\n",
    "\n",
    "**How many hours did it take Naoya to read the entire book?**"
   ]
  },
  {
   "cell_type": "markdown",
   "metadata": {},
   "source": [
    "Naoya read $55$ pages per hour, so he read $55T$ pages in $T$ hours.\n",
    "\n",
    "The total number of pages is comprised of the number of pages Naoya had already read and the number of pages that remained. We can express this with the equation $B=55T+R$, where:\n",
    "\n",
    "* $B$ represents the book's length\n",
    "* $T$ represents the time (in hours)\n",
    "* $R$ represents the number of remaining pages to read at a given time"
   ]
  },
  {
   "cell_type": "code",
   "execution_count": 2,
   "metadata": {
    "collapsed": false
   },
   "outputs": [
    {
     "data": {
      "text/plain": [
       "Eq(B, 550)"
      ]
     },
     "execution_count": 2,
     "metadata": {},
     "output_type": "execute_result"
    }
   ],
   "source": [
    "from sympy import *\n",
    "B, T, R = symbols('B T R')\n",
    "eq = Eq(B, 55 * T + R)\n",
    "\n",
    "eq.subs([(T, 4), (R, 330)])"
   ]
  },
  {
   "cell_type": "markdown",
   "metadata": {},
   "source": [
    "We know that after reading for $4$ hours $(T={4})$, Naoya had $330$ remaining pages to read $(R={330})$. Let's plug these values into the equation to find the value of $B$.\n",
    "\n",
    "$\\qquad B=55\\cdot{4}+{330}=550$\n",
    "\n",
    "Therefore, the book is $550$ pages long."
   ]
  },
  {
   "cell_type": "code",
   "execution_count": 15,
   "metadata": {
    "collapsed": false
   },
   "outputs": [
    {
     "data": {
      "text/plain": [
       "{10}"
      ]
     },
     "execution_count": 15,
     "metadata": {},
     "output_type": "execute_result"
    }
   ],
   "source": [
    "solveset(eq.subs([(B, 550), (R, 0)]))"
   ]
  },
  {
   "cell_type": "markdown",
   "metadata": {},
   "source": [
    "To find how long it took Naoya to finish the entire book, we can plug $R=0$ into the equation and solve for $T$.\n",
    "\n",
    "$\\qquad\\begin{aligned}550&=55T+0\\\\ 55T&=550\\\\ T&=10\\end{aligned}$\n",
    "\n",
    "The book is $550$ pages long.\n",
    "It took Naoya $10$ hours to read the entire book."
   ]
  },
  {
   "cell_type": "markdown",
   "metadata": {},
   "source": [
    "## Charging the battery\n",
    "\n",
    "A battery was charged. When the charging began, it was $23$ percent full. After $30$ minutes of charging, the battery was $89$ percent full.\n",
    "\n",
    "**What percent was the battery charged per minute?**\n",
    "\n",
    "**How many minutes did it take the battery to be fully charged?**"
   ]
  },
  {
   "cell_type": "markdown",
   "metadata": {},
   "source": [
    "Let's say that the percentage of the battery's capacity that is charged increases by $V$ percent each minute. Then, it increases by $V\\cdot T$ percent in $T$ minutes. In addition, we know that when the charging began, the battery was $23$ percent full.\n",
    "\n",
    "The percentage of the battery's capacity that was charged at any given time is found by taking the percentage the battery was already charged when the charging began and adding to it the percentage that was additionally charged since then. We can express this with the equation $C=23+V\\cdot T$, where:\n",
    "\n",
    "* $C$ represents the percentage of the battery's capacity that is charged at a given time\n",
    "* $V$ represents the charging rate (in percent per minute)\n",
    "* $T$ represents the time (in minutes)"
   ]
  },
  {
   "cell_type": "code",
   "execution_count": 18,
   "metadata": {
    "collapsed": false
   },
   "outputs": [],
   "source": [
    "C, V, T = symbols('C V T')\n",
    "eq = Eq(C, 23 + V * T)"
   ]
  },
  {
   "cell_type": "markdown",
   "metadata": {},
   "source": [
    "We know that after $30$ minutes $(T={30})$, the battery was $89$ percent full $(C={89})$. Let's plug these values into the equation to find the value of $V$."
   ]
  },
  {
   "cell_type": "code",
   "execution_count": 21,
   "metadata": {
    "collapsed": false
   },
   "outputs": [
    {
     "data": {
      "text/plain": [
       "{2.2}"
      ]
     },
     "execution_count": 21,
     "metadata": {},
     "output_type": "execute_result"
    }
   ],
   "source": [
    "solveset(eq.subs([(C, 89), (T, 30.0)]))"
   ]
  },
  {
   "cell_type": "markdown",
   "metadata": {},
   "source": [
    "$\\qquad \\begin{aligned}{89}&=23+V\\cdot{30}\\\\ 30V&=66\\\\ V&=2.2\\end{aligned}$\n",
    "\n",
    "Therefore, the battery was charged at a rate of $2.2$ percent per minute.\n",
    "\n",
    "To find how long it took the battery to be fully charged, we can plug $C=100$ into the equation and solve for $T$."
   ]
  },
  {
   "cell_type": "code",
   "execution_count": 25,
   "metadata": {
    "collapsed": false
   },
   "outputs": [
    {
     "data": {
      "text/plain": [
       "{35.0}"
      ]
     },
     "execution_count": 25,
     "metadata": {},
     "output_type": "execute_result"
    }
   ],
   "source": [
    "solveset(eq.subs([(C, 100), (V, 2.2)]))"
   ]
  },
  {
   "cell_type": "markdown",
   "metadata": {},
   "source": [
    "$\\qquad\\begin{aligned}100&=23+2.2T\\\\ 2.2T&=77\\\\ T&=35\\end{aligned}$\n",
    "\n",
    "* **The battery was charged at a rate of $2.2$ percent per minute.**\n",
    "\n",
    "* **It took the battery $35$ minutes to be fully charged.**"
   ]
  },
  {
   "cell_type": "markdown",
   "metadata": {},
   "source": [
    "## Vlad and his mighty oak\n",
    "\n",
    "When Vlad moved to his new home a few years ago, there was a young oak tree in his backyard. He measured it once a year and found that it grew by $26$ centimeters each year. $4.5$ years after he moved into the house, the tree was $292$ centimeters tall.\n",
    "\n",
    "**How many centimeters tall was the tree when Vlad moved into the house?**\n",
    " \n",
    "**How many years passed from the time Vlad moved in until the tree was $357$ centimeters tall?**"
   ]
  },
  {
   "cell_type": "markdown",
   "metadata": {},
   "source": [
    "The tree grew by $26$ centimeters each year, so it grew by $26T$ centimeters in $T$ years.\n",
    "\n",
    "The tree's height at a given time is found by taking its height when Vlad moved to his new home and adding to it the length it grew since then. We can express this with the equation $H=A+26T$, where:\n",
    "\n",
    "* $H$ represents the tree's height at a given time (in centimeters)\n",
    "* $A$ represents the tree's original height (in centimeters)\n",
    "* $T$ represents the time (in years)"
   ]
  },
  {
   "cell_type": "code",
   "execution_count": 27,
   "metadata": {
    "collapsed": false
   },
   "outputs": [],
   "source": [
    "H, A, T = symbols('H A T')\n",
    "eq = Eq(H, A + 26 * T)"
   ]
  },
  {
   "cell_type": "markdown",
   "metadata": {},
   "source": [
    "We want to find $A$, so let's first solve the equation for $A$:"
   ]
  },
  {
   "cell_type": "code",
   "execution_count": 28,
   "metadata": {
    "collapsed": false
   },
   "outputs": [
    {
     "data": {
      "text/plain": [
       "{H - 26*T}"
      ]
     },
     "execution_count": 28,
     "metadata": {},
     "output_type": "execute_result"
    }
   ],
   "source": [
    "solveset(eq, A)"
   ]
  },
  {
   "cell_type": "markdown",
   "metadata": {},
   "source": [
    "$\\qquad\\begin{aligned}H&=A+26T\\\\ A&=H-26T\\end{aligned}$\n",
    "\n",
    "Now, we know that after $4.5$ years $(T={4.5})$, the tree was $292$ centimeters tall $(H={292})$. Let's plug these values into the equation to find the value of $A$."
   ]
  },
  {
   "cell_type": "code",
   "execution_count": 29,
   "metadata": {
    "collapsed": false
   },
   "outputs": [
    {
     "data": {
      "text/plain": [
       "{175.0}"
      ]
     },
     "execution_count": 29,
     "metadata": {},
     "output_type": "execute_result"
    }
   ],
   "source": [
    "solveset(eq, A).subs([(H, 292), (T, 4.5)])"
   ]
  },
  {
   "cell_type": "markdown",
   "metadata": {},
   "source": [
    "$\\qquad A={292}-26\\cdot{4.5}=175$\n",
    "\n",
    "Therefore, when Vlad moved into the house, the tree was $175$ centimeters tall.\n",
    "\n",
    "To find how long it took the tree to reach a height of $357$ centimeters, we can plug $H=357$ into the equation and solve for $T$."
   ]
  },
  {
   "cell_type": "code",
   "execution_count": 32,
   "metadata": {
    "collapsed": false
   },
   "outputs": [
    {
     "data": {
      "text/plain": [
       "{7}"
      ]
     },
     "execution_count": 32,
     "metadata": {},
     "output_type": "execute_result"
    }
   ],
   "source": [
    "solveset(eq.subs([(H, 357), (A, 175)]), T)"
   ]
  },
  {
   "cell_type": "markdown",
   "metadata": {},
   "source": [
    "$\\qquad\\begin{aligned}175&=357-26T\\\\ 26T&=182\\\\ T&=7\\end{aligned}$\n",
    "\n",
    "* **When Vlad moved into the house, the tree was $175$ centimeters tall**\n",
    "\n",
    "* **The tree reached a height of $357$ centimeters $7$ years after Vlad moved in.**"
   ]
  },
  {
   "cell_type": "markdown",
   "metadata": {},
   "source": [
    "## Renata's mighty oak\n",
    "\n",
    "Renata moved to her new home a few years ago. Back then, the young oak tree in her back yard was 190190190 centimeters tall. She measured it once a year and found that it grew at a constant rate. 333 years after she moved into the house, the tree was 274274274 centimeters tall.\n",
    "How fast did the tree grow?\n",
    " centimeters per year\n",
    " "
   ]
  },
  {
   "cell_type": "markdown",
   "metadata": {},
   "source": [
    "Let's say that the tree grew at a rate of VVV centimeters per year. Then, the tree grew by V\\cdot TV⋅TV, dot, T centimeters in TTT years. In addition, we know that when Renata moved to her new home, the tree was 190190190 centimeters tall.\n",
    "The tree's height at a given time is found by taking its height when Renata moved to her new home and adding to it the length it grew by since then. We can express this with the equation H=190+V\\cdot TH=190+V⋅TH, equals, 190, plus, V, dot, T, where:\n",
    "HHH represents the tree's height at a given time (in centimeters)\n",
    "VVV represents the tree's growth rate (in centimeters per year)\n",
    "TTT represents the time (in years)\n",
    "Hint #22 / 4\n",
    "We know that after 333 years (T=\\blue{3})(T=3)left parenthesis, T, equals, start color blue, 3, end color blue, right parenthesis, the tree was 274274274 centimeters tall (H=\\pink{274})(H=274)left parenthesis, H, equals, start color pink, 274, end color pink, right parenthesis. Let's plug these values into the equation to find the value of VVV.\n",
    "\\qquad \\begin{aligned}\\pink{274}&=190+V\\cdot\\blue{3}\\\\ 3V&=84\\\\ V&=28\\end{aligned} \n",
    "274\n",
    "3V\n",
    "V\n",
    "​\t  \n",
    "=190+V⋅3\n",
    "=84\n",
    "=28\n",
    "​\t \n",
    "Therefore, the tree grew at a rate of 282828 centimeters per year."
   ]
  },
  {
   "cell_type": "markdown",
   "metadata": {},
   "source": [
    "How many years passed from the time Renata moved in until the tree was 344344344 centimeters tall?\n",
    " years"
   ]
  },
  {
   "cell_type": "markdown",
   "metadata": {},
   "source": [
    "To find how many years passed until the tree was 344344344 centimeters tall, we can plug H=344H=344H, equals, 344 into the equation and solve for TTT.\n",
    "\\qquad\\begin{aligned}344&=190+28T\\\\ 28T&=154\\\\ T&=5.5\\end{aligned} \n",
    "344\n",
    "28T\n",
    "T\n",
    "​\t  \n",
    "=190+28T\n",
    "=154\n",
    "=5.5\n",
    "​\t \n",
    "Hint #44 / 4\n",
    "The tree grew at a rate of 282828 centimeters per year.\n",
    "The tree reached a height of 344344344 centimeters 5.55.55, point, 5 years after Renata moved into her new home."
   ]
  },
  {
   "cell_type": "markdown",
   "metadata": {},
   "source": [
    "## Sean's slushy\n",
    "\n",
    "Sean tried to drink a slushy as fast as he could. He drank the slushy at a constant rate. There were originally $275$ milliliters of slushy in the cup. After $13$ seconds, $210$ milliliters of slushy remained.\n",
    "\n",
    "**How many milliliters per second did Sean drink?**\n",
    "\n",
    "**How many seconds did it take Sean to drink all the slushy?**"
   ]
  },
  {
   "cell_type": "code",
   "execution_count": 4,
   "metadata": {
    "collapsed": false
   },
   "outputs": [
    {
     "data": {
      "text/plain": [
       "-5.0"
      ]
     },
     "execution_count": 4,
     "metadata": {},
     "output_type": "execute_result"
    }
   ],
   "source": [
    "y2, y1, x2, x1 = symbols('y2 y1 x2 x1')\n",
    "x1 = 0\n",
    "y1 = 275\n",
    "x2 = 13\n",
    "y2 = 210\n",
    "m = (y2 - y1)/(x2 - x1)\n",
    "m"
   ]
  },
  {
   "cell_type": "code",
   "execution_count": 5,
   "metadata": {},
   "outputs": [
    {
     "data": {
      "text/plain": [
       "55.0"
      ]
     },
     "execution_count": 5,
     "metadata": {},
     "output_type": "execute_result"
    }
   ],
   "source": [
    "275/5"
   ]
  },
  {
   "cell_type": "markdown",
   "metadata": {},
   "source": [
    "## Mariana's slushy\n",
    "\n",
    "Mariana tried to drink a slushy as fast as she could. She drank the slushy at a rate of $4.54$ milliliters per second. After $17$ seconds, $148.5$ milliliters of slushy remained.\n",
    "\n",
    "**How many milliliters of slushy were originally in the cup?**"
   ]
  },
  {
   "cell_type": "markdown",
   "metadata": {},
   "source": [
    "Mariana drank 4.54.54, point, 5 milliliters of slushy each second, so she drank 4.5T4.5T4, point, 5, T milliliters in TTT seconds.\n",
    "The remaining amount of slushy is found by taking the original amount and subtracting from it the amount Mariana had already drunk. We can express this with the equation R=S-4.5TR=S−4.5TR, equals, S, minus, 4, point, 5, T, where:\n",
    "RRR represents the remaining amount of slushy to drink at a given time (in milliliters)\n",
    "SSS represents the original amount of slushy (in milliliters)\n",
    "TTT represents the time (in seconds)\n",
    "Hint #22 / 4\n",
    "We want to find SSS, so let's first solve the equation for SSS:\n",
    "\\qquad\\begin{aligned}R&=S-4.5T\\\\ S&=R+4.5T\\end{aligned} \n",
    "R\n",
    "S\n",
    "​\t  \n",
    "=S−4.5T\n",
    "=R+4.5T\n",
    "​\t \n",
    "Now, we know that after 171717 seconds (T=\\blue{17})(T=17)left parenthesis, T, equals, start color blue, 17, end color blue, right parenthesis, 148.5148.5148, point, 5 milliliters of slushy remained (R=\\pink{148.5})(R=148.5)left parenthesis, R, equals, start color pink, 148, point, 5, end color pink, right parenthesis. Let's plug these values into the equation to find the value of SSS.\n",
    "\\qquad S=\\pink{148.5}+4.5\\cdot\\blue{17}=225S=148.5+4.5⋅17=225space, S, equals, start color pink, 148, point, 5, end color pink, plus, 4, point, 5, dot, start color blue, 17, end color blue, equals, 225\n",
    "Therefore, there were originally 225225225 milliliters of slushy in the cup."
   ]
  },
  {
   "cell_type": "markdown",
   "metadata": {},
   "source": [
    "**How many seconds did it take Mariana to drink all the slushy?**"
   ]
  },
  {
   "cell_type": "markdown",
   "metadata": {},
   "source": [
    "To find how long it took Mariana to drink all the slushy, we can plug R=0R=0R, equals, 0 into the equation and solve for TTT.\n",
    "\\qquad\\begin{aligned}225&=0+4.5T\\\\ 4.5T&=225\\\\ T&=50\\end{aligned} \n",
    "225\n",
    "4.5T\n",
    "T\n",
    "​\t  \n",
    "=0+4.5T\n",
    "=225\n",
    "=50\n",
    "​\t \n",
    "Hint #44 / 4\n",
    "There were originally 225225225 milliliters of slushy in the cup.\n",
    "It took Mariana 505050 seconds to drink all the slushy."
   ]
  },
  {
   "cell_type": "markdown",
   "metadata": {},
   "source": [
    "## Agent Hunt's files\n",
    "\n",
    "Agent Hunt transferred classified files from the CIA mainframe onto his flash drive. The drive had some files on it before the transfer, and the transfer happened at a rate of $4.4$ megabytes per second. After $32$ seconds, there were $384$ megabytes on the drive. The drive had a maximum capacity of $1000$ megabytes.\n",
    "\n",
    "**How many megabytes full was the drive when the transfer began?**"
   ]
  },
  {
   "cell_type": "markdown",
   "metadata": {},
   "source": [
    "The files were transferred at a rate of $4.4$ megabytes per second, so $4.4T$ megabytes were transferred in $T$ seconds.\n",
    "\n",
    "The size of the files on the drive is comprised of the files that were on the drive before the transfer began and the files that were transferred. We can express this with the equation $S=A+4.4T$, where:\n",
    "\n",
    "* $S$ represents the size of the files on the drive at a given time (in megabytes)\n",
    "\n",
    "* $A$ represents the size of the files that were on the drive before the transfer began (in megabytes)\n",
    "\n",
    "* $T$ represents the time (in seconds)"
   ]
  },
  {
   "cell_type": "code",
   "execution_count": 7,
   "metadata": {},
   "outputs": [],
   "source": [
    "S, A, T = symbols('S A T')\n",
    "eq = Eq(S, A + 4.4 * T)"
   ]
  },
  {
   "cell_type": "markdown",
   "metadata": {},
   "source": [
    "We want to find $A$, so let's first solve the equation for $A$:"
   ]
  },
  {
   "cell_type": "code",
   "execution_count": 8,
   "metadata": {},
   "outputs": [
    {
     "data": {
      "text/plain": [
       "{S - 4.4*T}"
      ]
     },
     "execution_count": 8,
     "metadata": {},
     "output_type": "execute_result"
    }
   ],
   "source": [
    "solveset(eq, A)"
   ]
  },
  {
   "cell_type": "markdown",
   "metadata": {},
   "source": [
    "$\\qquad\\begin{aligned}S&=A+4.4T\\\\ A&=S-4.4T\\end{aligned}$\n",
    "\n",
    "Now, we know that after $32$ seconds $(T={32})$, there were $384$ megabytes on the drive $(S={384})$. Let's plug these values into the equation to find the value of $A$."
   ]
  },
  {
   "cell_type": "code",
   "execution_count": 10,
   "metadata": {},
   "outputs": [
    {
     "data": {
      "text/plain": [
       "Eq(A, 243.2)"
      ]
     },
     "execution_count": 10,
     "metadata": {},
     "output_type": "execute_result"
    }
   ],
   "source": [
    "eq = Eq(A, S - 4.4 * T)\n",
    "eq.subs([(T, 32), (S, 384)])"
   ]
  },
  {
   "cell_type": "markdown",
   "metadata": {},
   "source": [
    "$\\qquad A={384}-4.4\\cdot{32}=243.2$\n",
    "\n",
    "Therefore, when the transfer began, the drive had $243.2$ megabytes on it."
   ]
  },
  {
   "cell_type": "markdown",
   "metadata": {},
   "source": [
    "**How many seconds from the time that Agent Hunt started the transfer did it take the drive to be completely full?**"
   ]
  },
  {
   "cell_type": "markdown",
   "metadata": {},
   "source": [
    "Plug $S=1000$ into the equation and solve for $T$:"
   ]
  },
  {
   "cell_type": "code",
   "execution_count": 14,
   "metadata": {},
   "outputs": [
    {
     "data": {
      "text/plain": [
       "{172.0}"
      ]
     },
     "execution_count": 14,
     "metadata": {},
     "output_type": "execute_result"
    }
   ],
   "source": [
    "solveset(eq.subs([(A, 243.2), (S, 1000)]))"
   ]
  },
  {
   "cell_type": "markdown",
   "metadata": {},
   "source": [
    "$\\qquad\\begin{aligned}243.2&=1000-4.4T\\\\ 4.4T&=756.8\\\\ T&=172\\end{aligned}$"
   ]
  },
  {
   "cell_type": "markdown",
   "metadata": {},
   "source": [
    "**It took the drive $172$ seconds to be completely full.**"
   ]
  },
  {
   "cell_type": "markdown",
   "metadata": {},
   "source": [
    "## Agent Bourne's files\n",
    "\n",
    "Agent Bourne transferred classified files from the CIA mainframe into his flash drive. The drive had 36.536.536, point, 5 megabytes on it before the transfer, and the transfer happened at a constant rate. After 125125125 seconds, there were 549549549 megabytes on the drive. The drive had a maximum capacity of 100010001000 megabytes.\n",
    "What was the speed of the transfer?\n",
    " megabytes per second\n",
    "How long did it take the drive to be completely full?\n",
    " seconds\n",
    "Hint #11 / 4\n",
    "Let's say that the files were transferred at a rate of VVV megabytes per second. Then, V\\cdot TV⋅TV, dot, T megabytes were transferred in TTT seconds. In addition, we know that there were originally 36.536.536, point, 5 megabytes on the drive.\n",
    "The size of the files on the drive is comprised of the files that were on the drive before the transfer began and the files that were transferred. We can express this with the equation S=36.5+V\\cdot TS=36.5+V⋅TS, equals, 36, point, 5, plus, V, dot, T, where:\n",
    "SSS represents the size of the files on the drive at a given time (in megabytes)\n",
    "VVV represents the transfer's rate (in megabytes per second)\n",
    "TTT represents the time (in seconds)\n",
    "Hint #22 / 4\n",
    "We know that after 125125125 seconds (T=\\blue{125})(T=125)left parenthesis, T, equals, start color blue, 125, end color blue, right parenthesis, there were 549549549 megabytes on the drive (S=\\pink{549})(S=549)left parenthesis, S, equals, start color pink, 549, end color pink, right parenthesis. Let's plug these values into the equation to find the value of VVV.\n",
    "\\qquad \\begin{aligned}\\pink{549}&=36.5+V\\cdot\\blue{125}\\\\ 125V&=512.5\\\\ V&=4.1\\end{aligned} \n",
    "549\n",
    "125V\n",
    "V\n",
    "​\t  \n",
    "=36.5+V⋅125\n",
    "=512.5\n",
    "=4.1\n",
    "​\t \n",
    "Therefore, the speed of the transfer was 4.14.14, point, 1 megabytes per second.\n",
    "Hint #33 / 4\n",
    "To find how long it took the drive to be completely full, we can plug S=1000S=1000S, equals, 1000 into the equation and solve for TTT.\n",
    "\\qquad\\begin{aligned}1000&=36.5+4.1T\\\\ 4.1T&=963.5\\\\ T&=235\\end{aligned} \n",
    "1000\n",
    "4.1T\n",
    "T\n",
    "​\t  \n",
    "=36.5+4.1T\n",
    "=963.5\n",
    "=235\n",
    "​\t \n",
    "Hint #44 / 4\n",
    "The speed of the transfer was 4.14.14, point, 1 megabytes per second.\n",
    "It took the drive 235235235 seconds to be completely full."
   ]
  },
  {
   "cell_type": "markdown",
   "metadata": {},
   "source": [
    "## Jada's cumin\n",
    "\n",
    "Jada has a stand in the marketplace where she sells ground cumin. Her weekly expenses are $\\$300$, and she sells her cumin at a fixed price per kilogram. If she sells $120$ kilograms of cumin, her weekly net profit is $\\$600$.\n",
    "\n",
    "**How many dollars per kilogram is Jada's cumin?**"
   ]
  },
  {
   "cell_type": "markdown",
   "metadata": {},
   "source": [
    "Let's say that each kilogram of cumin costs $C$ dollars. Then, $W$ kilograms of cumin cost $W\\cdot C$ dollars. In addition, we know that Jada's weekly expenses are $\\$300$.\n",
    "\n",
    "Jada's weekly net profit is found by taking her income from selling cumin and subtracting her weekly expenses. We can express this with the equation $P=W\\cdot C-300$, where:\n",
    "\n",
    "* $P$ represents Jada's weekly net profit (in dollars)\n",
    "* $W$ represents the amount of cumin she sold (in kilograms)\n",
    "* $C$ represents the price of $1$ kilogram of cumin (in dollars)"
   ]
  },
  {
   "cell_type": "code",
   "execution_count": 1,
   "metadata": {},
   "outputs": [],
   "source": [
    "from sympy import *\n",
    "P, W, C = symbols('P W C')\n",
    "eq = Eq(P, W * C - 300)"
   ]
  },
  {
   "cell_type": "markdown",
   "metadata": {},
   "source": [
    "We know that if Jada sells $120$ kilograms of cumin $(W={120})$ her weekly net profit is $\\$600$ $(P=600)$. Let's plug these values into the equation to find the value of $C$."
   ]
  },
  {
   "cell_type": "code",
   "execution_count": 2,
   "metadata": {},
   "outputs": [
    {
     "data": {
      "text/plain": [
       "{15/2}"
      ]
     },
     "execution_count": 2,
     "metadata": {},
     "output_type": "execute_result"
    }
   ],
   "source": [
    "solveset(eq.subs([(P, 600), (W, 120)]))"
   ]
  },
  {
   "cell_type": "markdown",
   "metadata": {},
   "source": [
    "$\\qquad \\begin{aligned}{600}&={120}\\cdot C-300\\\\ 120C&=900\\\\ C&=7.5\\end{aligned}$\n",
    "\n",
    "Therefore, each kilogram of Jada's cumin costs $\\$7.50$."
   ]
  },
  {
   "cell_type": "markdown",
   "metadata": {},
   "source": [
    "**How many kilograms of cumin does Jada have to sell to cover her weekly expenses?**"
   ]
  },
  {
   "cell_type": "markdown",
   "metadata": {},
   "source": [
    "Plug $P=0$ into the equation and solve for $W$:"
   ]
  },
  {
   "cell_type": "code",
   "execution_count": 9,
   "metadata": {},
   "outputs": [
    {
     "data": {
      "text/plain": [
       "{40.0}"
      ]
     },
     "execution_count": 9,
     "metadata": {},
     "output_type": "execute_result"
    }
   ],
   "source": [
    "solveset(eq.subs([(P, 0), (C, 7.5)]), W)"
   ]
  },
  {
   "cell_type": "markdown",
   "metadata": {},
   "source": [
    "$\\qquad\\begin{aligned}0&=W\\cdot7.5-300\\\\ 7.5W&=300\\\\ W&=40\\end{aligned}$\n",
    "\n",
    "* **Each kilogram of Jada's cumin costs $\\$7.50$.**\n",
    "\n",
    "* **Jada has to sell $40$ kilograms of cumin to cover her weekly expenses.**"
   ]
  },
  {
   "cell_type": "markdown",
   "metadata": {},
   "source": [
    "## Alexandra's cumin\n",
    "\n",
    "Alexandra has a stand in the marketplace where she sells ground cumin. She has a fixed amount of weekly expenses, and she sells her cumin for $\\$7.20$ per kilogram. If she sells $90$ kilograms of cumin, her weekly net profit is $\\$414$.\n",
    "\n",
    "**What are Alexandra's weekly expenses?**"
   ]
  },
  {
   "cell_type": "markdown",
   "metadata": {},
   "source": [
    "Each kilogram of Alexandra's cumin costs $\\$7.20$ so Alexandra makes a profit of $7.2W$ dollars for selling $W$ kilograms of cumin.\n",
    "\n",
    "Alexandra's weekly net profit is found by taking her income from selling cumin and subtracting from it her weekly expenses. We can express this with the equation $P=7.2W-E$, where:\n",
    "\n",
    "* $P$ represents Alexandra's weekly net profit (in dollars)\n",
    "* $W$ represents the amount of cumin she sold (in kilograms)\n",
    "* $E$ represents Alexandra's expenses (in dollars)"
   ]
  },
  {
   "cell_type": "code",
   "execution_count": 14,
   "metadata": {},
   "outputs": [],
   "source": [
    "from sympy import *\n",
    "P, W, E = symbols('P W E')\n",
    "eq = Eq(P, 7.2 * W - E)"
   ]
  },
  {
   "cell_type": "markdown",
   "metadata": {},
   "source": [
    "We want to find $E$, so let's first solve the equation for $E$:"
   ]
  },
  {
   "cell_type": "code",
   "execution_count": 15,
   "metadata": {},
   "outputs": [
    {
     "data": {
      "text/plain": [
       "{-P + 7.2*W}"
      ]
     },
     "execution_count": 15,
     "metadata": {},
     "output_type": "execute_result"
    }
   ],
   "source": [
    "solveset(eq, E)"
   ]
  },
  {
   "cell_type": "markdown",
   "metadata": {},
   "source": [
    "$\\qquad\\begin{aligned}P&=7.2W-E\\\\ E&=7.2W-P\\end{aligned}$\n",
    "\n",
    "Now, we know that if Alexandra sells $90$ kilograms of cumin $(W={90})$, her weekly net profit is $\\$414$ $(P={414})$. Let's plug these values into the equation to find the value of $E$."
   ]
  },
  {
   "cell_type": "code",
   "execution_count": 16,
   "metadata": {},
   "outputs": [
    {
     "data": {
      "text/plain": [
       "{234.0}"
      ]
     },
     "execution_count": 16,
     "metadata": {},
     "output_type": "execute_result"
    }
   ],
   "source": [
    "solveset(eq, E).subs([(W, 90), (P, 414)])"
   ]
  },
  {
   "cell_type": "markdown",
   "metadata": {},
   "source": [
    "$\\qquad E=7.2\\cdot{90}-{414}=234$\n",
    "\n",
    "Therefore, Alexandra's weekly expenses are $\\$234$."
   ]
  },
  {
   "cell_type": "markdown",
   "metadata": {},
   "source": [
    "**How many kilograms of cumin does Alexandra have to sell to cover her weekly expenses?**"
   ]
  },
  {
   "cell_type": "markdown",
   "metadata": {},
   "source": [
    "To find how much cumin Alexandra has to sell to cover her weekly expenses, we can plug $P=0$, into the equation and solve for $W$."
   ]
  },
  {
   "cell_type": "code",
   "execution_count": 18,
   "metadata": {},
   "outputs": [
    {
     "data": {
      "text/plain": [
       "{32.5}"
      ]
     },
     "execution_count": 18,
     "metadata": {},
     "output_type": "execute_result"
    }
   ],
   "source": [
    "solveset(eq, W).subs([(E, 234), (P, 0)])"
   ]
  },
  {
   "cell_type": "markdown",
   "metadata": {},
   "source": [
    "$\\qquad\\begin{aligned}234&=7.2W-0\\\\ 7.2W&=234\\\\ W&=32.5\\end{aligned}$\n",
    "\n",
    "* **Alexandra's weekly expenses are $\\$234$.**\n",
    "\n",
    "* **Alexandra has to sell $32.5$ kilograms of cumin to cover her weekly expenses.**"
   ]
  },
  {
   "cell_type": "markdown",
   "metadata": {},
   "source": [
    "## William's marbles\n",
    "\n",
    "William has a $26$-liter glass tank. First, he wants to put some marbles in it, all of the same volume. Then, he wants to fill the tank with water until it's completely full. If he uses $85$ marbles, he will have to add $20.9$ liters of water."
   ]
  },
  {
   "cell_type": "markdown",
   "metadata": {},
   "source": [
    "**How many liters is each marble?**"
   ]
  },
  {
   "cell_type": "markdown",
   "metadata": {},
   "source": [
    "Let's say that the volume of a single marble is $V$ liters. Then, the volume of $N$ marbles is $N\\cdot V$ liters. In addition, we know that the volume of the tank is $26$ liters."
   ]
  },
  {
   "cell_type": "markdown",
   "metadata": {},
   "source": [
    "The sum of the water's volume and the marbles' volume should be equal to the tank's volume. We can express this with the equation $W+N\\cdot V=26$, where:\n",
    "* $W$ represents the volume of water used (in liters)\n",
    "* $N$ represents the number of marbles used\n",
    "* $V$ represents the volume of a single marble (in liters)"
   ]
  },
  {
   "cell_type": "code",
   "execution_count": 19,
   "metadata": {},
   "outputs": [],
   "source": [
    "from sympy import *\n",
    "W, N, V = symbols('W N V')\n",
    "eq = Eq(W + N * V, 26)"
   ]
  },
  {
   "cell_type": "markdown",
   "metadata": {},
   "source": [
    "We know that if William uses $85$ marbles $(N={85})$, he will have to add $20.9$ liters of water $(W={20.9})$. Let's plug these values into the equation to find the value of $V$:"
   ]
  },
  {
   "cell_type": "code",
   "execution_count": 21,
   "metadata": {},
   "outputs": [
    {
     "data": {
      "text/plain": [
       "{0.06}"
      ]
     },
     "execution_count": 21,
     "metadata": {},
     "output_type": "execute_result"
    }
   ],
   "source": [
    "solveset(eq.subs([(N, 85), (W, 20.9)]))"
   ]
  },
  {
   "cell_type": "markdown",
   "metadata": {},
   "source": [
    "$\\qquad \\begin{aligned}{20.9}+{85}V&=26\\\\ 85V&=5.1\\\\ V&=0.06\\end{aligned}$\n",
    "\n",
    "Therefore, the volume of each marble is $0.06$ liters."
   ]
  },
  {
   "cell_type": "markdown",
   "metadata": {},
   "source": [
    "**How many liters of water is necessary if William uses $200$ marbles?**"
   ]
  },
  {
   "cell_type": "markdown",
   "metadata": {},
   "source": [
    "Plug $N=200$ into the equation and solve for $W$:"
   ]
  },
  {
   "cell_type": "code",
   "execution_count": 25,
   "metadata": {},
   "outputs": [
    {
     "data": {
      "text/plain": [
       "{-200*V + 26}"
      ]
     },
     "execution_count": 25,
     "metadata": {},
     "output_type": "execute_result"
    }
   ],
   "source": [
    "solveset(eq.subs(N, 200), W)"
   ]
  },
  {
   "cell_type": "markdown",
   "metadata": {},
   "source": [
    "$\\qquad\\begin{aligned}W+200\\cdot 0.06&=26\\\\ W&=26-12\\\\ W&=14\\end{aligned}$\n",
    "\n",
    "* **The volume of each marble is $0.060$ liters.**\n",
    "\n",
    "* **William needs $14$ liters of water if he uses $200$ marbles.**"
   ]
  },
  {
   "cell_type": "markdown",
   "metadata": {},
   "source": [
    "## Zane's volcano climbing\n",
    "\n",
    "Zane is a dangerous fellow who likes to go rock climbing in active volcanoes. One time while inside a volcano, he heard some rumbling, so he decided to climb up out of there as quickly as he could. He climbed up at a rate of $4$ meters per second. After $3$ seconds, he was $13$ meters below the edge of the volcano.\n",
    "\n",
    "**How many meters was Zane below the edge of the volcano when he started climbing?**"
   ]
  },
  {
   "cell_type": "markdown",
   "metadata": {},
   "source": [
    "Zane climbed up at a rate of $4$ meters per second, so he climbed up $4T$ meters in $T$ seconds.\n",
    "\n",
    "The remaining distance Zane had to climb is found by taking the original distance and subtracting from it the distance Zane had already climbed. We can express this with the equation $R=D-4T$, where:\n",
    "* $R$ represents Zane's remaining distance to climb (in meters)\n",
    "* $D$ represents Zane's original distance from the edge of the volcano (in meters)\n",
    "* $T$ represents the time (in seconds)"
   ]
  },
  {
   "cell_type": "code",
   "execution_count": 26,
   "metadata": {},
   "outputs": [],
   "source": [
    "from sympy import *\n",
    "R, D, T = symbols('R D T')\n",
    "eq = Eq(R, D - 4 * T)"
   ]
  },
  {
   "cell_type": "markdown",
   "metadata": {},
   "source": [
    "We want to find $D$, so let's first solve the equation for $D$:"
   ]
  },
  {
   "cell_type": "code",
   "execution_count": 27,
   "metadata": {},
   "outputs": [
    {
     "data": {
      "text/plain": [
       "{R + 4*T}"
      ]
     },
     "execution_count": 27,
     "metadata": {},
     "output_type": "execute_result"
    }
   ],
   "source": [
    "solveset(eq, D)"
   ]
  },
  {
   "cell_type": "markdown",
   "metadata": {},
   "source": [
    "$\\qquad\\begin{aligned}R&=D-4T\\\\ D&=R+4T\\end{aligned}$\n",
    "\n",
    "Now, we know that after $3$ seconds $(T={3})$, Zane was $13$ meters below the edge of the volcano $(R={13})$. Let's plug these values into the equation to find the value of $D$."
   ]
  },
  {
   "cell_type": "code",
   "execution_count": 28,
   "metadata": {},
   "outputs": [
    {
     "data": {
      "text/plain": [
       "{25}"
      ]
     },
     "execution_count": 28,
     "metadata": {},
     "output_type": "execute_result"
    }
   ],
   "source": [
    "solveset(eq.subs([(T, 3), (R, 13)]), D)"
   ]
  },
  {
   "cell_type": "markdown",
   "metadata": {},
   "source": [
    "$\\qquad D={13}+4\\cdot{3}=25$\n",
    "\n",
    "Therefore, Zane was $25$ meters below the edge of the volcano when he started climbing."
   ]
  },
  {
   "cell_type": "markdown",
   "metadata": {},
   "source": [
    "**In total, how many seconds did it take Zane to reach the edge of the volcano?**"
   ]
  },
  {
   "cell_type": "markdown",
   "metadata": {},
   "source": [
    "Plug $R=0$ into the equation and solve for $T$."
   ]
  },
  {
   "cell_type": "code",
   "execution_count": 31,
   "metadata": {},
   "outputs": [
    {
     "data": {
      "text/plain": [
       "{6.25}"
      ]
     },
     "execution_count": 31,
     "metadata": {},
     "output_type": "execute_result"
    }
   ],
   "source": [
    "solveset(eq.subs([(R, 0), (D, 25.0)]), T)"
   ]
  },
  {
   "cell_type": "markdown",
   "metadata": {},
   "source": [
    "$\\qquad\\begin{aligned}25&=0+4T\\\\ 4T&=25\\\\ T&=6.25\\end{aligned}$\n",
    "\n",
    "* **Zane was $25$ meters below the edge of the volcano when he started climbing.**\n",
    "\n",
    "* **It took Zane $6.25$ seconds to reach the edge of the volcano.**"
   ]
  },
  {
   "cell_type": "markdown",
   "metadata": {},
   "source": [
    "## Shota's volcano climbing\n",
    "\n",
    "Shota is a dangerous fellow who likes to go rock climbing in active volcanoes. One time, when he was $30$ meters below the edge of a volcano, he heard some rumbling, so he decided to climb up out of there as quickly as he could. He climbed up at a constant rate. After $4.5$ seconds, he was $7.5$ meters below the edge of the volcano.\n",
    "\n",
    "**How many meters per second did Shota climb?**"
   ]
  },
  {
   "cell_type": "markdown",
   "metadata": {},
   "source": [
    "Let's say that Shota climbed at a rate of $V$ meters per second. Then, he climbed $V\\cdot T$ meters in $T$ seconds. In addition, we know that when he began to climb, his distance from the edge of the volcano was $30$ meters.\n",
    "\n",
    "The remaining distance Shota had to climb is found by taking the original distance and subtracting from it the distance Shota had already climbed. We can express this with the equation $R=30-V\\cdot T$, where:\n",
    "* $R$ represents Shota's remaining distance to climb (in meters)\n",
    "* $V$ represents Shota's climbing speed (in meters per second)\n",
    "* $T$ represents the time (in seconds)"
   ]
  },
  {
   "cell_type": "code",
   "execution_count": 51,
   "metadata": {},
   "outputs": [],
   "source": [
    "R, V, T = symbols('R V T')\n",
    "eq = Eq(R, 30 - V * T)"
   ]
  },
  {
   "cell_type": "markdown",
   "metadata": {},
   "source": [
    "We know that after $4.5$ seconds $(T={4.5})$, Shota was $7.5$ meters below the edge of the volcano $(R={7.5})$. Let's plug these values into the equation to find the value of $V$."
   ]
  },
  {
   "cell_type": "code",
   "execution_count": 52,
   "metadata": {},
   "outputs": [
    {
     "data": {
      "text/plain": [
       "{5.0}"
      ]
     },
     "execution_count": 52,
     "metadata": {},
     "output_type": "execute_result"
    }
   ],
   "source": [
    "solveset(eq.subs([(T, 4.5), (R, 7.5)]))"
   ]
  },
  {
   "cell_type": "markdown",
   "metadata": {},
   "source": [
    "$\\qquad \\begin{aligned}{7.5}&=30-V\\cdot{4.5}\\\\ 4.5V&=22.5\\\\ V&=5\\end{aligned}$\n",
    "\n",
    "Therefore, Shota climbed up at a rate of $5$ meters per second."
   ]
  },
  {
   "cell_type": "markdown",
   "metadata": {},
   "source": [
    "**In total, how many seconds did it take Shota to reach the edge of the volcano?**"
   ]
  },
  {
   "cell_type": "markdown",
   "metadata": {},
   "source": [
    "To find how long it took Shota to reach the edge of the volcano, we can plug $R=0$ into the equation and solve for $T$."
   ]
  },
  {
   "cell_type": "code",
   "execution_count": 53,
   "metadata": {},
   "outputs": [
    {
     "data": {
      "text/plain": [
       "{6}"
      ]
     },
     "execution_count": 53,
     "metadata": {},
     "output_type": "execute_result"
    }
   ],
   "source": [
    "solveset(eq.subs([(R, 0), (V, 5)]))"
   ]
  },
  {
   "cell_type": "markdown",
   "metadata": {},
   "source": [
    "$\\qquad\\begin{aligned}0&=30-5T\\\\ 5T&=30\\\\ T&=6\\end{aligned}$\n",
    "\n",
    "* **Shota climbed up at a rate of $5$ meters per second.**\n",
    "\n",
    "* **It took Shota $6$ seconds to reach the edge of the volcano.**"
   ]
  },
  {
   "cell_type": "markdown",
   "metadata": {},
   "source": [
    "## Shryia's book reading\n",
    "\n",
    "Shryia read a $481$-page-long book cover to cover in a single session, at a constant rate. After reading for $1.5$ hours, she had $403$ pages left to read.\n",
    "\n",
    "**How many pages per hour was Shryia reading?**"
   ]
  },
  {
   "cell_type": "markdown",
   "metadata": {},
   "source": [
    "Let's say that Shryia was reading at a rate of $V$ pages per hour. Then, she read $V\\cdot T$ pages in $T$ hours. In addition, we know that she had $481$ pages to read in total.\n",
    "\n",
    "The total number of pages is comprised of the number of pages Shryia had already read and the number of pages that remained. We can express this with the equation $481=V\\cdot T+R$, where:\n",
    "* $V$ represents Shryia's reading speed (in pages per hour)\n",
    "* $T$ represents the time (in hours)\n",
    "* $R$ represents the number of remaining pages to read at a given time"
   ]
  },
  {
   "cell_type": "code",
   "execution_count": 32,
   "metadata": {},
   "outputs": [],
   "source": [
    "from sympy import *\n",
    "V, T, R = symbols('V T R')\n",
    "eq = Eq(481, V * T + R)"
   ]
  },
  {
   "cell_type": "markdown",
   "metadata": {},
   "source": [
    "We know that after $1.5$ hours $(T={1.5})$, Shryia had $403$ pages left to read $(R={403})$. Let's plug these values into the equation to find the value of $V$."
   ]
  },
  {
   "cell_type": "code",
   "execution_count": 34,
   "metadata": {},
   "outputs": [
    {
     "data": {
      "text/plain": [
       "{52.0}"
      ]
     },
     "execution_count": 34,
     "metadata": {},
     "output_type": "execute_result"
    }
   ],
   "source": [
    "solveset(eq.subs([(T, 1.5), (R, 403)]))"
   ]
  },
  {
   "cell_type": "markdown",
   "metadata": {},
   "source": [
    "$\\qquad \\begin{aligned}481&=V\\cdot{1.5}+{403}\\\\ 1.5V&=78\\\\ V&=52\\end{aligned}$\n",
    "\n",
    "Therefore, Shryia was reading at a rate of $52$ pages per hour."
   ]
  },
  {
   "cell_type": "markdown",
   "metadata": {},
   "source": [
    "**How many hours did it take her to read the entire book?**"
   ]
  },
  {
   "cell_type": "markdown",
   "metadata": {},
   "source": [
    "To find how long it took Shryia to finish the entire book, we can plug $R=0$ into the equation and solve for $T$."
   ]
  },
  {
   "cell_type": "code",
   "execution_count": 36,
   "metadata": {},
   "outputs": [
    {
     "data": {
      "text/plain": [
       "{9.25}"
      ]
     },
     "execution_count": 36,
     "metadata": {},
     "output_type": "execute_result"
    }
   ],
   "source": [
    "solveset(eq.subs([(R, 0), (V, 52.0)]))"
   ]
  },
  {
   "cell_type": "markdown",
   "metadata": {},
   "source": [
    "$\\qquad\\begin{aligned}481&=52T+0\\\\ 52T&=481\\\\ T&=9.25\\end{aligned}$\n",
    "\n",
    "* **Shryia was reading at a rate of $52$ pages per hour.**\n",
    "\n",
    "* **It took Shryia $9.25$ hours to finish the entire book.**"
   ]
  },
  {
   "cell_type": "markdown",
   "metadata": {},
   "source": [
    "## Andrei's tank of marbles\n",
    "\n",
    "Andrei has a glass tank. First, he wants to put in some marbles, each of which has a volume of $0.04$ liters. Then, he wants to fill the tank with water until it's completely full. If he uses $50$ marbles, he will have to add $33$ liters of water.\n",
    "\n",
    "**How many liters is the volume of the tank?**"
   ]
  },
  {
   "cell_type": "markdown",
   "metadata": {},
   "source": [
    "The volume of each marble is $0.04$ liters, so the volume of $N$ marbles is $0.04N$ liters.\n",
    "\n",
    "The sum of the water's volume and the marbles' volume should be equal to the tank's volume. We can express this with the equation $W+0.04N=T$, where:\n",
    "* $W$ represents the volume of water used (in liters)\n",
    "* $N$ represents the number of marbles used\n",
    "* $T$ represents the tank's volume (in liters)"
   ]
  },
  {
   "cell_type": "code",
   "execution_count": 37,
   "metadata": {},
   "outputs": [],
   "source": [
    "from sympy import *\n",
    "W, N, T = symbols('W N T')\n",
    "eq = Eq(W + 0.04 * N, T)"
   ]
  },
  {
   "cell_type": "markdown",
   "metadata": {},
   "source": [
    "We know that if Andrei uses $50$ marbles $(N={50})$, he will have to add $33$ liters of water $(W={33})$. Let's plug these values into the equation to find the value of $T$."
   ]
  },
  {
   "cell_type": "code",
   "execution_count": 39,
   "metadata": {},
   "outputs": [
    {
     "data": {
      "text/plain": [
       "{35.0}"
      ]
     },
     "execution_count": 39,
     "metadata": {},
     "output_type": "execute_result"
    }
   ],
   "source": [
    "solveset(eq.subs([(N, 50), (W, 33)]))"
   ]
  },
  {
   "cell_type": "markdown",
   "metadata": {},
   "source": [
    "$\\qquad T={33}+0.04\\cdot{50}=35$\n",
    "\n",
    "Therefore, the volume of the tank is $35$ liters."
   ]
  },
  {
   "cell_type": "markdown",
   "metadata": {},
   "source": [
    "**Andrei has exactly $20$ liters of water. How many marbles does he need so the tank is full?**"
   ]
  },
  {
   "cell_type": "markdown",
   "metadata": {},
   "source": [
    "To find the number of marbles that corresponds to $20$ liters of water, we can plug $W=20$ into the equation and solve for $N$."
   ]
  },
  {
   "cell_type": "code",
   "execution_count": 40,
   "metadata": {},
   "outputs": [
    {
     "data": {
      "text/plain": [
       "{375.0}"
      ]
     },
     "execution_count": 40,
     "metadata": {},
     "output_type": "execute_result"
    }
   ],
   "source": [
    "solveset(eq.subs([(T, 35), (W, 20)]))"
   ]
  },
  {
   "cell_type": "markdown",
   "metadata": {},
   "source": [
    "$\\qquad\\begin{aligned}35&=20+0.04N\\\\ 0.04N&=15\\\\ N&=375\\end{aligned}$\n",
    "\n",
    "* **The volume of the tank is $35$ liters.**\n",
    "\n",
    "* **Andrei needs $375$ marbles to fill up the tank with $20$ liters of water.**"
   ]
  },
  {
   "cell_type": "markdown",
   "metadata": {},
   "source": [
    "## Wang Yong's debt payment\n",
    "\n",
    "Wang Yong owes the bank $\\$8500$. To repay the debt, he paid a fixed amount back to the bank each month. After $12$ months, his remaining debt was $\\$6460$.\n",
    "\n",
    "**How much did Wang Yong pay each month?**"
   ]
  },
  {
   "cell_type": "markdown",
   "metadata": {},
   "source": [
    "**How many months did it take Wang Yong to pay back his entire debt?**"
   ]
  },
  {
   "cell_type": "markdown",
   "metadata": {},
   "source": [
    "Let's say that Wang Yong pays $V$ dollars back to the bank each month. Then, he pays $V\\cdot T$ dollars in $T$ months. In addition, we know that his original debt was $\\$8500$.\n",
    "\n",
    "Wang Yong's remaining debt is found by taking the original debt and subtracting from it the money he already paid back. We can express this with the equation $R=8500-V\\cdot T$, where:\n",
    "* $R$ represents Wang Yong's remaining debt at a given time (in dollars)\n",
    "* $V$ represents Wang Yong's monthly payment to the bank(in dollars)\n",
    "* $T$ represents the time (in months)"
   ]
  },
  {
   "cell_type": "code",
   "execution_count": 41,
   "metadata": {},
   "outputs": [],
   "source": [
    "from sympy import *\n",
    "R, V, T = symbols('R V T')\n",
    "eq = Eq(R, 8500 - V * T)"
   ]
  },
  {
   "cell_type": "markdown",
   "metadata": {},
   "source": [
    "We know that after $12$ months $(T={12})$, Wang Yong's remaining debt was $\\$6460$ $(R={6460})$. Let's plug these values into the equation to find the value of $V$."
   ]
  },
  {
   "cell_type": "code",
   "execution_count": 42,
   "metadata": {},
   "outputs": [
    {
     "data": {
      "text/plain": [
       "{170}"
      ]
     },
     "execution_count": 42,
     "metadata": {},
     "output_type": "execute_result"
    }
   ],
   "source": [
    "solveset(eq.subs([(T, 12), (R, 6460)]))"
   ]
  },
  {
   "cell_type": "markdown",
   "metadata": {},
   "source": [
    "$\\qquad \\begin{aligned}{6460}&=8500-V\\cdot{12}\\\\ 12V&=2040\\\\ V&=170\\end{aligned}$\n",
    "\n",
    "Therefore, Wang Yong paid the bank $\\$170$ each month."
   ]
  },
  {
   "cell_type": "markdown",
   "metadata": {},
   "source": [
    "To find how long it took Wang Yong to pay back his entire debt, we can plug $R=0$ into the equation and solve for $T$."
   ]
  },
  {
   "cell_type": "code",
   "execution_count": 43,
   "metadata": {},
   "outputs": [
    {
     "data": {
      "text/plain": [
       "{50}"
      ]
     },
     "execution_count": 43,
     "metadata": {},
     "output_type": "execute_result"
    }
   ],
   "source": [
    "solveset(eq.subs([(R, 0), (V, 170)]))"
   ]
  },
  {
   "cell_type": "markdown",
   "metadata": {},
   "source": [
    "$\\qquad\\begin{aligned}0&=8500-170T\\\\ 170T&=8500\\\\ T&=50\\end{aligned}$\n",
    "\n",
    "* **Wang Yong paid the bank $\\$170$ each month.**\n",
    "\n",
    "* **It took Wang Yong $50$ months to pay back his entire debt.**"
   ]
  },
  {
   "cell_type": "markdown",
   "metadata": {},
   "source": [
    "## Harry's debt payment\n",
    "\n",
    "Harry owes the bank money. To repay his debt, he paid $\\$150$ back to the bank each month. After $10$ months, his remaining debt was $\\$6900$.\n",
    "\n",
    "**What was the original amount of Harry's debt?**"
   ]
  },
  {
   "cell_type": "markdown",
   "metadata": {},
   "source": [
    "Harry paid $\\$150$ back to the bank each month, so he paid $150T$ dollars in $T$ months.\n",
    "\n",
    "Harry's remaining debt is found by taking the original debt and subtracting from it the money he already paid back. We can express this with the equation $R=L-150T$, where:\n",
    "* $R$ represents Harry's remaining debt at a given time (in dollars)\n",
    "* $L$ represents the original debt (in dollars)\n",
    "* $T$ represents the time (in months)"
   ]
  },
  {
   "cell_type": "code",
   "execution_count": 54,
   "metadata": {},
   "outputs": [],
   "source": [
    "R, L, T = symbols('R L T')\n",
    "eq = Eq(R, L - 150 * T)"
   ]
  },
  {
   "cell_type": "markdown",
   "metadata": {},
   "source": [
    "We want to find $L$, so let's first solve the equation for $L$:"
   ]
  },
  {
   "cell_type": "markdown",
   "metadata": {},
   "source": [
    "$\\qquad\\begin{aligned}R&=L-150T\\\\ L&=R+150T\\end{aligned}$\n",
    "\n",
    "Now, we know that after $10$ months $(T={10})$, Harry's remaining debt is $\\$6900$ $(R={6900})$. Let's plug these values into the equation to find the value of $L$."
   ]
  },
  {
   "cell_type": "code",
   "execution_count": 55,
   "metadata": {},
   "outputs": [
    {
     "data": {
      "text/plain": [
       "{8400}"
      ]
     },
     "execution_count": 55,
     "metadata": {},
     "output_type": "execute_result"
    }
   ],
   "source": [
    "solveset(eq.subs([(T, 10), (R, 6900)]))"
   ]
  },
  {
   "cell_type": "markdown",
   "metadata": {},
   "source": [
    "$\\qquad L={6900}+150\\cdot{10}=8400$\n",
    "\n",
    "Therefore, Harry's original debt was $\\$8400$."
   ]
  },
  {
   "cell_type": "markdown",
   "metadata": {},
   "source": [
    "**How many months did it take Harry to pay back his entire debt?**"
   ]
  },
  {
   "cell_type": "markdown",
   "metadata": {},
   "source": [
    "To find how long it took Harry to pay back his entire debt, we can plug $R=0$ into the equation and solve for $T$."
   ]
  },
  {
   "cell_type": "code",
   "execution_count": 56,
   "metadata": {},
   "outputs": [
    {
     "data": {
      "text/plain": [
       "{56}"
      ]
     },
     "execution_count": 56,
     "metadata": {},
     "output_type": "execute_result"
    }
   ],
   "source": [
    "solveset(eq.subs([(L, 8400), (R, 0)]))"
   ]
  },
  {
   "cell_type": "markdown",
   "metadata": {},
   "source": [
    "$\\qquad\\begin{aligned}8400&=0+150T\\\\ 150T&=8400\\\\ T&=56\\end{aligned}$\n",
    "\n",
    "* **Harry's original debt was $\\$8400$.**\n",
    "\n",
    "* **It took Harry $56$ months to pay back his entire debt.**"
   ]
  },
  {
   "cell_type": "markdown",
   "metadata": {},
   "source": [
    "## Mark's battery charging\n",
    "\n",
    "Mark charged a battery. Each minute, the percentage of the battery's capacity that was charged increased by $2.5$ percent. After $17$ minutes of charging, the battery was $61.5$ percent full.\n",
    "\n",
    "**At what percentage was the battery when the charging began?**"
   ]
  },
  {
   "cell_type": "markdown",
   "metadata": {},
   "source": [
    "The percentage of the battery's capacity that was charged increased by $2.5$ percent each minute, so it increased by $2.5T$ percent in $T$ minutes.\n",
    "\n",
    "The percentage of the battery's capacity that was charged at any given time is found by taking the percentage the battery was already charged when the charging began and adding to it the percentage that was additionally charged since then. We can express this with the equation $C=A+2.5T$, where:\n",
    "* $C$ represents the percentage of the battery's capacity that is charged at a given time\n",
    "* $A$ represents the percentage of the battery's capacity that was charged when the charging began\n",
    "* $T$ represents the time (in minutes)"
   ]
  },
  {
   "cell_type": "code",
   "execution_count": 47,
   "metadata": {},
   "outputs": [],
   "source": [
    "C, A, T = symbols('C A T')\n",
    "eq = Eq(C, A + 2.5 * T)"
   ]
  },
  {
   "cell_type": "markdown",
   "metadata": {},
   "source": [
    "We want to find $A$, so let's first solve the equation for $A$:"
   ]
  },
  {
   "cell_type": "code",
   "execution_count": 48,
   "metadata": {},
   "outputs": [
    {
     "data": {
      "text/plain": [
       "{C - 2.5*T}"
      ]
     },
     "execution_count": 48,
     "metadata": {},
     "output_type": "execute_result"
    }
   ],
   "source": [
    "solveset(eq, A)"
   ]
  },
  {
   "cell_type": "markdown",
   "metadata": {},
   "source": [
    "$\\qquad\\begin{aligned}C&=A+2.5T\\\\ A&=C-2.5T\\end{aligned}$\n",
    "\n",
    "Now, we know that after $17$ minutes of charging $(T={17})$, the battery was $61.5$ percent full $(C={61.5})$. Let's plug these values into the equation to find the value of $A$."
   ]
  },
  {
   "cell_type": "code",
   "execution_count": 49,
   "metadata": {},
   "outputs": [
    {
     "data": {
      "text/plain": [
       "{19.0}"
      ]
     },
     "execution_count": 49,
     "metadata": {},
     "output_type": "execute_result"
    }
   ],
   "source": [
    "solveset(eq.subs([(T, 17), (C, 61.5)]))"
   ]
  },
  {
   "cell_type": "markdown",
   "metadata": {},
   "source": [
    "$\\qquad A={61.5}-2.5\\cdot{17}=19$\n",
    "\n",
    "Therefore, when the charging began, the battery was $19$ percent full."
   ]
  },
  {
   "cell_type": "markdown",
   "metadata": {},
   "source": [
    "**How many minutes from the time that Mark started charging did it take the battery to be fully charged?**"
   ]
  },
  {
   "cell_type": "markdown",
   "metadata": {},
   "source": [
    "Plug $C=100$ into the equation and solve for $T$:"
   ]
  },
  {
   "cell_type": "code",
   "execution_count": 50,
   "metadata": {},
   "outputs": [
    {
     "data": {
      "text/plain": [
       "{32.4}"
      ]
     },
     "execution_count": 50,
     "metadata": {},
     "output_type": "execute_result"
    }
   ],
   "source": [
    "solveset(eq.subs([(A, 19), (C, 100)]))"
   ]
  },
  {
   "cell_type": "markdown",
   "metadata": {},
   "source": [
    "$\\qquad\\begin{aligned}19&=100-2.5T\\\\ 2.5T&=81\\\\ T&=32.4\\end{aligned}$\n",
    "\n",
    "* **When the charging began, the battery was $19$ percent full.**\n",
    "\n",
    "* **It took the battery $32.4$ minutes to be fully charged.**"
   ]
  },
  {
   "cell_type": "markdown",
   "metadata": {},
   "source": [
    "A big cruise ship dropped anchor off the Caribbean island of Antigua. The heavy anchor dropped into the water at a rate of 2.52.52, point, 5 meters per second. After 454545 seconds, the anchor was 404040 meters below the water's surface.\n",
    "From what height (above the water's surface) was the anchor released?\n",
    " meters\n",
    "How long did it take the anchor to reach the water's surface?\n",
    " seconds\n",
    "Hint #11 / 4\n",
    "The anchor dropped at a rate of 2.52.52, point, 5 meters per second, so it dropped 2.5T2.5T2, point, 5, T meters in TTT seconds.\n",
    "The anchor's elevation relative to the water's surface can be found by taking the height from which the anchor was released and subtracting the distance it dropped. We can express this with the equation E=H-2.5TE=H−2.5TE, equals, H, minus, 2, point, 5, T, where:\n",
    "EEE represents the anchor's elevation relative to the water's surface at a given time (in meters)\n",
    "HHH represents the height from which the anchor was released (in meters)\n",
    "TTT represents the time (in seconds)\n",
    "Hint #22 / 4\n",
    "We want to find HHH, so let's first solve the equation for HHH:\n",
    "\\qquad\\begin{aligned}E&=H-2.5T\\\\ H&=E+2.5T\\end{aligned} \n",
    "E\n",
    "H\n",
    "​\t  \n",
    "=H−2.5T\n",
    "=E+2.5T\n",
    "​\t \n",
    "Now, we know that after 454545 seconds (T=\\blue{45})(T=45)left parenthesis, T, equals, start color blue, 45, end color blue, right parenthesis, the anchor was 404040 meters below the water's surface (E=\\pink{-40})(E=−40)left parenthesis, E, equals, start color pink, minus, 40, end color pink, right parenthesis. Let's plug these values into the equation to find the value of HHH.\n",
    "\\qquad H=\\pink{-40}+2.5\\cdot\\blue{45}=72.5H=−40+2.5⋅45=72.5space, H, equals, start color pink, minus, 40, end color pink, plus, 2, point, 5, dot, start color blue, 45, end color blue, equals, 72, point, 5\n",
    "Therefore, the anchor was released from a height of 72.572.572, point, 5 meters above the water's surface.\n",
    "Hint #33 / 4\n",
    "To find how long it took the anchor to reach the water's surface, we can plug E=0E=0E, equals, 0 into the equation and solve for TTT.\n",
    "\\qquad\\begin{aligned}72.5&=0+2.5T\\\\ 2.5T&=72.5\\\\ T&=29\\end{aligned} \n",
    "72.5\n",
    "2.5T\n",
    "T\n",
    "​\t  \n",
    "=0+2.5T\n",
    "=72.5\n",
    "=29\n",
    "​\t \n",
    "Hint #44 / 4"
   ]
  },
  {
   "cell_type": "markdown",
   "metadata": {},
   "source": [
    "* **The anchor was released from a height of $72.5$ meters above the water's surface.**\n",
    "\n",
    "* **It took the anchor $29$ seconds to reach the water's surface.**"
   ]
  },
  {
   "cell_type": "markdown",
   "metadata": {},
   "source": [
    "A big cruise ship dropped anchor off the Caribbean island of Barbuda. The heavy anchor was released from a height of 545454 meters above the water's surface, and it fell at a constant rate. After 353535 seconds, the anchor was 999 meters below the water's surface.\n",
    "How fast did the anchor drop?\n",
    " meters per second\n",
    "How long did it take the anchor to reach the water's surface?\n",
    " seconds\n",
    "Hint #11 / 4\n",
    "Let's say that the anchor dropped at a rate of VVV meters per second. Then, it dropped V\\cdot TV⋅TV, dot, T meters in TTT seconds. In addition, we know that the anchor was released from 545454 meters above the water's surface.\n",
    "The anchor's elevation relative to the water's surface can be found by taking the height from which the anchor was released and subtracting the distance it dropped. We can express this with the equation E=54-V\\cdot TE=54−V⋅TE, equals, 54, minus, V, dot, T, where:\n",
    "EEE represents the anchor's elevation relative to the water's surface at a given time (in meters)\n",
    "VVV represents the speed at which the anchor dropped (in meters per second)\n",
    "TTT represents the time (in seconds)\n",
    "Hint #22 / 4\n",
    "We know that after 353535 seconds (T=\\blue{35})(T=35)left parenthesis, T, equals, start color blue, 35, end color blue, right parenthesis, the anchor was 999 meters below the water's surface (E=\\pink{-9})(E=−9)left parenthesis, E, equals, start color pink, minus, 9, end color pink, right parenthesis. Let's plug these values into the equation to find the value of VVV.\n",
    "\\qquad \\begin{aligned}\\pink{-9}&=54-V\\cdot\\blue{35}\\\\ 35V&=63\\\\ V&=1.8\\end{aligned} \n",
    "−9\n",
    "35V\n",
    "V\n",
    "​\t  \n",
    "=54−V⋅35\n",
    "=63\n",
    "=1.8\n",
    "​\t \n",
    "Therefore, the anchor dropped at a rate of 1.81.81, point, 8 meters per second.\n",
    "Hint #33 / 4\n",
    "To find how long it took the anchor to reach the water's surface, we can plug E=0E=0E, equals, 0 into the equation and solve for TTT.\n",
    "\\qquad\\begin{aligned}0&=54-1.8T\\\\ 1.8T&=54\\\\ T&=30\\end{aligned} \n",
    "0\n",
    "1.8T\n",
    "T\n",
    "​\t  \n",
    "=54−1.8T\n",
    "=54\n",
    "=30\n",
    "​\t \n",
    "Hint #44 / 4\n",
    "\n",
    "* **The anchor dropped at a rate of $1.8$ meters per second.**\n",
    "\n",
    "* **It took the anchor $30$ seconds to reach the water's surface.**"
   ]
  },
  {
   "cell_type": "code",
   "execution_count": null,
   "metadata": {},
   "outputs": [],
   "source": []
  }
 ],
 "metadata": {
  "kernelspec": {
   "display_name": "Python 3",
   "language": "python",
   "name": "python3"
  },
  "language_info": {
   "codemirror_mode": {
    "name": "ipython",
    "version": 3
   },
   "file_extension": ".py",
   "mimetype": "text/x-python",
   "name": "python",
   "nbconvert_exporter": "python",
   "pygments_lexer": "ipython3",
   "version": "3.7.1"
  }
 },
 "nbformat": 4,
 "nbformat_minor": 2
}
