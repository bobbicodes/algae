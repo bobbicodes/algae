{
  "nbformat": 4,
  "nbformat_minor": 0,
  "metadata": {
    "colab": {
      "name": "polynomials.ipynb",
      "version": "0.3.2",
      "provenance": [],
      "collapsed_sections": [],
      "include_colab_link": true
    },
    "kernelspec": {
      "name": "python3",
      "display_name": "Python 3"
    }
  },
  "cells": [
    {
      "cell_type": "markdown",
      "metadata": {
        "id": "view-in-github",
        "colab_type": "text"
      },
      "source": [
        "<a href=\"https://colab.research.google.com/github/porkostomus/jupyter/blob/master/polynomials.ipynb\" target=\"_parent\"><img src=\"https://colab.research.google.com/assets/colab-badge.svg\" alt=\"Open In Colab\"/></a>"
      ]
    },
    {
      "metadata": {
        "id": "o75twCiqXk_r",
        "colab_type": "code",
        "colab": {}
      },
      "cell_type": "code",
      "source": [
        "from sympy import *"
      ],
      "execution_count": 0,
      "outputs": []
    },
    {
      "metadata": {
        "id": "xqRwfLDhYCs0",
        "colab_type": "code",
        "outputId": "b5d5a647-9163-41be-f908-ebcfcf5898de",
        "colab": {
          "base_uri": "https://localhost:8080/",
          "height": 35
        }
      },
      "cell_type": "code",
      "source": [
        "c, d = symbols('c d')\n",
        "\n",
        "(2*c**3*d**2) * (9*d**7)"
      ],
      "execution_count": 0,
      "outputs": [
        {
          "output_type": "execute_result",
          "data": {
            "text/plain": [
              "18*c**3*d**9"
            ]
          },
          "metadata": {
            "tags": []
          },
          "execution_count": 2
        }
      ]
    },
    {
      "metadata": {
        "id": "glj2Q4h-YRR2",
        "colab_type": "code",
        "outputId": "f3d7843b-0529-4417-b769-bcc52c54ebb8",
        "colab": {
          "base_uri": "https://localhost:8080/",
          "height": 35
        }
      },
      "cell_type": "code",
      "source": [
        "a, b = symbols('a b')\n",
        "\n",
        "(6*a**2*b)*(-7*a**4*b**7)"
      ],
      "execution_count": 0,
      "outputs": [
        {
          "output_type": "execute_result",
          "data": {
            "text/plain": [
              "-42*a**6*b**8"
            ]
          },
          "metadata": {
            "tags": []
          },
          "execution_count": 3
        }
      ]
    },
    {
      "metadata": {
        "id": "BuAzrtkiYvtp",
        "colab_type": "code",
        "outputId": "5df43904-e316-41d3-ebe2-9df875df9602",
        "colab": {
          "base_uri": "https://localhost:8080/",
          "height": 35
        }
      },
      "cell_type": "code",
      "source": [
        "(4*b**2 + 2*b + 6) * 3"
      ],
      "execution_count": 0,
      "outputs": [
        {
          "output_type": "execute_result",
          "data": {
            "text/plain": [
              "12*b**2 + 6*b + 18"
            ]
          },
          "metadata": {
            "tags": []
          },
          "execution_count": 4
        }
      ]
    },
    {
      "metadata": {
        "id": "vmTCZhdAZjPd",
        "colab_type": "code",
        "outputId": "2b1e1a5c-3d64-41f8-9bd9-d7758db6ba4f",
        "colab": {
          "base_uri": "https://localhost:8080/",
          "height": 35
        }
      },
      "cell_type": "code",
      "source": [
        "w = Symbol('w')\n",
        "\n",
        "expand((5*w**2 + 3*w + 4) * w)"
      ],
      "execution_count": 0,
      "outputs": [
        {
          "output_type": "execute_result",
          "data": {
            "text/plain": [
              "5*w**3 + 3*w**2 + 4*w"
            ]
          },
          "metadata": {
            "tags": []
          },
          "execution_count": 7
        }
      ]
    },
    {
      "metadata": {
        "id": "styr3JuRZ3GJ",
        "colab_type": "code",
        "outputId": "26a1e39b-0c0b-4abd-c11b-622a44ffb75d",
        "colab": {
          "base_uri": "https://localhost:8080/",
          "height": 35
        }
      },
      "cell_type": "code",
      "source": [
        "x = Symbol('x')\n",
        "\n",
        "expand((3*x**2 + 8*x +7) * (7*x**2))"
      ],
      "execution_count": 0,
      "outputs": [
        {
          "output_type": "execute_result",
          "data": {
            "text/plain": [
              "21*x**4 + 56*x**3 + 49*x**2"
            ]
          },
          "metadata": {
            "tags": []
          },
          "execution_count": 9
        }
      ]
    },
    {
      "metadata": {
        "id": "dSnSgKhaaqCN",
        "colab_type": "code",
        "outputId": "4d2bab8e-ecc7-4c43-c4ff-ba58d6ac41be",
        "colab": {
          "base_uri": "https://localhost:8080/",
          "height": 35
        }
      },
      "cell_type": "code",
      "source": [
        "(x**2 + 3*x + 2) * 4"
      ],
      "execution_count": 0,
      "outputs": [
        {
          "output_type": "execute_result",
          "data": {
            "text/plain": [
              "4*x**2 + 12*x + 8"
            ]
          },
          "metadata": {
            "tags": []
          },
          "execution_count": 10
        }
      ]
    },
    {
      "metadata": {
        "id": "VDdIR71WbDTX",
        "colab_type": "code",
        "outputId": "1549e8ff-ac1b-4b10-bf97-b0eb9c9a2aa0",
        "colab": {
          "base_uri": "https://localhost:8080/",
          "height": 35
        }
      },
      "cell_type": "code",
      "source": [
        "y = Symbol('y')\n",
        "\n",
        "expand(-2*x * (x + x*y - 3*y**2))"
      ],
      "execution_count": 0,
      "outputs": [
        {
          "output_type": "execute_result",
          "data": {
            "text/plain": [
              "-2*x**2*y - 2*x**2 + 6*x*y**2"
            ]
          },
          "metadata": {
            "tags": []
          },
          "execution_count": 13
        }
      ]
    },
    {
      "metadata": {
        "id": "TFZXOUqsbeoV",
        "colab_type": "code",
        "outputId": "6472602c-ba60-4233-f002-a562185f86d5",
        "colab": {
          "base_uri": "https://localhost:8080/",
          "height": 35
        }
      },
      "cell_type": "code",
      "source": [
        "expand(-11*(y**2 - a*y + 2))"
      ],
      "execution_count": 0,
      "outputs": [
        {
          "output_type": "execute_result",
          "data": {
            "text/plain": [
              "11*a*y - 11*y**2 - 22"
            ]
          },
          "metadata": {
            "tags": []
          },
          "execution_count": 14
        }
      ]
    },
    {
      "metadata": {
        "id": "svHrShxWcDen",
        "colab_type": "code",
        "outputId": "bd96db10-3e80-4c9c-8756-73043b2d7264",
        "colab": {
          "base_uri": "https://localhost:8080/",
          "height": 35
        }
      },
      "cell_type": "code",
      "source": [
        "expand(2*a*b**2*(3*a**2 + 6*a - b**3))"
      ],
      "execution_count": 0,
      "outputs": [
        {
          "output_type": "execute_result",
          "data": {
            "text/plain": [
              "6*a**3*b**2 + 12*a**2*b**2 - 2*a*b**5"
            ]
          },
          "metadata": {
            "tags": []
          },
          "execution_count": 15
        }
      ]
    },
    {
      "metadata": {
        "id": "0VBZLrfGdPb7",
        "colab_type": "code",
        "outputId": "33e5efd7-b7f3-41f7-fb43-4b36cadeb3d3",
        "colab": {
          "base_uri": "https://localhost:8080/",
          "height": 35
        }
      },
      "cell_type": "code",
      "source": [
        "expand(4*y*(a*y**2 - 7*y + b))"
      ],
      "execution_count": 0,
      "outputs": [
        {
          "output_type": "execute_result",
          "data": {
            "text/plain": [
              "4*a*y**3 + 4*b*y - 28*y**2"
            ]
          },
          "metadata": {
            "tags": []
          },
          "execution_count": 16
        }
      ]
    },
    {
      "metadata": {
        "id": "2Vht-r9bdlsi",
        "colab_type": "code",
        "outputId": "5953ded4-b287-4f4e-f830-9635cfc5fde5",
        "colab": {
          "base_uri": "https://localhost:8080/",
          "height": 35
        }
      },
      "cell_type": "code",
      "source": [
        "expand((x+6)*(x+2))"
      ],
      "execution_count": 0,
      "outputs": [
        {
          "output_type": "execute_result",
          "data": {
            "text/plain": [
              "x**2 + 8*x + 12"
            ]
          },
          "metadata": {
            "tags": []
          },
          "execution_count": 18
        }
      ]
    },
    {
      "metadata": {
        "id": "QDvAU-xWevFi",
        "colab_type": "code",
        "outputId": "7d40ea0f-e773-4d20-a472-bf3d650fdb5b",
        "colab": {
          "base_uri": "https://localhost:8080/",
          "height": 35
        }
      },
      "cell_type": "code",
      "source": [
        "expand((x+9)*(x+2))"
      ],
      "execution_count": 0,
      "outputs": [
        {
          "output_type": "execute_result",
          "data": {
            "text/plain": [
              "x**2 + 11*x + 18"
            ]
          },
          "metadata": {
            "tags": []
          },
          "execution_count": 19
        }
      ]
    },
    {
      "metadata": {
        "id": "AtjL1fuofBQr",
        "colab_type": "code",
        "outputId": "add70011-74cc-44bb-d983-69bc937d108b",
        "colab": {
          "base_uri": "https://localhost:8080/",
          "height": 35
        }
      },
      "cell_type": "code",
      "source": [
        "expand((x-3)*(x-5))"
      ],
      "execution_count": 0,
      "outputs": [
        {
          "output_type": "execute_result",
          "data": {
            "text/plain": [
              "x**2 - 8*x + 15"
            ]
          },
          "metadata": {
            "tags": []
          },
          "execution_count": 25
        }
      ]
    },
    {
      "metadata": {
        "id": "Q7s8RUiTCs6s",
        "colab_type": "text"
      },
      "cell_type": "markdown",
      "source": [
        "(y^2-9)(y^2-4)"
      ]
    },
    {
      "metadata": {
        "id": "ljuLO8HbC-xP",
        "colab_type": "code",
        "outputId": "9f6232fb-7046-469d-eae0-fa8f5952a6e0",
        "colab": {
          "base_uri": "https://localhost:8080/",
          "height": 35
        }
      },
      "cell_type": "code",
      "source": [
        "expand((y**2-9)*(y**2-4))"
      ],
      "execution_count": 0,
      "outputs": [
        {
          "output_type": "execute_result",
          "data": {
            "text/plain": [
              "y**4 - 13*y**2 + 36"
            ]
          },
          "metadata": {
            "tags": []
          },
          "execution_count": 27
        }
      ]
    },
    {
      "metadata": {
        "id": "iBOIeTq8DC8a",
        "colab_type": "code",
        "outputId": "2e32ebc8-7f29-4a88-a41b-3049b0dc6817",
        "colab": {
          "base_uri": "https://localhost:8080/",
          "height": 35
        }
      },
      "cell_type": "code",
      "source": [
        "expand((2-5*y)*(y**2+6*y+9))"
      ],
      "execution_count": 0,
      "outputs": [
        {
          "output_type": "execute_result",
          "data": {
            "text/plain": [
              "-5*y**3 - 28*y**2 - 33*y + 18"
            ]
          },
          "metadata": {
            "tags": []
          },
          "execution_count": 30
        }
      ]
    },
    {
      "metadata": {
        "id": "Uz2LHxU_D0Yf",
        "colab_type": "code",
        "outputId": "4d27c048-1842-4bab-f7a0-8b8f59e8defd",
        "colab": {
          "base_uri": "https://localhost:8080/",
          "height": 35
        }
      },
      "cell_type": "code",
      "source": [
        "p = Symbol('p')\n",
        "\n",
        "expand((-p**2+4*p-3)*(p**2+2))"
      ],
      "execution_count": 33,
      "outputs": [
        {
          "output_type": "execute_result",
          "data": {
            "text/plain": [
              "-p**4 + 4*p**3 - 5*p**2 + 8*p - 6"
            ]
          },
          "metadata": {
            "tags": []
          },
          "execution_count": 33
        }
      ]
    },
    {
      "metadata": {
        "id": "4l1Z3bGJE00b",
        "colab_type": "code",
        "colab": {
          "base_uri": "https://localhost:8080/",
          "height": 35
        },
        "outputId": "b0af50f6-6988-4b67-e313-eb5d832689d8"
      },
      "cell_type": "code",
      "source": [
        "expand((d**2-3)*(d**2+2))"
      ],
      "execution_count": 34,
      "outputs": [
        {
          "output_type": "execute_result",
          "data": {
            "text/plain": [
              "d**4 - d**2 - 6"
            ]
          },
          "metadata": {
            "tags": []
          },
          "execution_count": 34
        }
      ]
    },
    {
      "metadata": {
        "id": "iB-Cf5kpKjq_",
        "colab_type": "code",
        "colab": {
          "base_uri": "https://localhost:8080/",
          "height": 35
        },
        "outputId": "28a5a2fd-674d-4a38-de5e-feb4cc9ac3ee"
      },
      "cell_type": "code",
      "source": [
        "r = Symbol('r')\n",
        "expand((5*r+2)*(5*r-2))"
      ],
      "execution_count": 36,
      "outputs": [
        {
          "output_type": "execute_result",
          "data": {
            "text/plain": [
              "25*r**2 - 4"
            ]
          },
          "metadata": {
            "tags": []
          },
          "execution_count": 36
        }
      ]
    },
    {
      "metadata": {
        "id": "fXpwQACEK4xM",
        "colab_type": "code",
        "colab": {
          "base_uri": "https://localhost:8080/",
          "height": 35
        },
        "outputId": "eab195e9-c565-4a00-9c25-dba22ed11f0b"
      },
      "cell_type": "code",
      "source": [
        "expand((9*c-2*d)*(9*c-2*d))"
      ],
      "execution_count": 37,
      "outputs": [
        {
          "output_type": "execute_result",
          "data": {
            "text/plain": [
              "81*c**2 - 36*c*d + 4*d**2"
            ]
          },
          "metadata": {
            "tags": []
          },
          "execution_count": 37
        }
      ]
    },
    {
      "metadata": {
        "id": "nVACzCe2LSn5",
        "colab_type": "code",
        "colab": {
          "base_uri": "https://localhost:8080/",
          "height": 35
        },
        "outputId": "6ab9336a-f537-4eea-fbf7-54c8840e16a3"
      },
      "cell_type": "code",
      "source": [
        "expand((6*a**2+2)*(6*a**2+2))"
      ],
      "execution_count": 38,
      "outputs": [
        {
          "output_type": "execute_result",
          "data": {
            "text/plain": [
              "36*a**4 + 24*a**2 + 4"
            ]
          },
          "metadata": {
            "tags": []
          },
          "execution_count": 38
        }
      ]
    },
    {
      "metadata": {
        "id": "37JedphANPC-",
        "colab_type": "code",
        "colab": {
          "base_uri": "https://localhost:8080/",
          "height": 35
        },
        "outputId": "3223d5c3-ab9a-46a8-d941-3b1cc5eddb5e"
      },
      "cell_type": "code",
      "source": [
        "expand((6*w-y)*(6*w+y))"
      ],
      "execution_count": 40,
      "outputs": [
        {
          "output_type": "execute_result",
          "data": {
            "text/plain": [
              "36*w**2 - y**2"
            ]
          },
          "metadata": {
            "tags": []
          },
          "execution_count": 40
        }
      ]
    },
    {
      "metadata": {
        "id": "-8wHu2MdNXvK",
        "colab_type": "code",
        "colab": {
          "base_uri": "https://localhost:8080/",
          "height": 35
        },
        "outputId": "d8bd88cf-2e3c-4390-e5da-13df690cccc8"
      },
      "cell_type": "code",
      "source": [
        "expand((x + 1)*(x - 6))"
      ],
      "execution_count": 41,
      "outputs": [
        {
          "output_type": "execute_result",
          "data": {
            "text/plain": [
              "x**2 - 5*x - 6"
            ]
          },
          "metadata": {
            "tags": []
          },
          "execution_count": 41
        }
      ]
    },
    {
      "metadata": {
        "id": "KF3no09dSFly",
        "colab_type": "code",
        "colab": {
          "base_uri": "https://localhost:8080/",
          "height": 35
        },
        "outputId": "91992ebf-d2a8-41ea-ad4d-f6b2841708b6"
      },
      "cell_type": "code",
      "source": [
        "(-4*b**3+b-1) + (6*b-6)"
      ],
      "execution_count": 42,
      "outputs": [
        {
          "output_type": "execute_result",
          "data": {
            "text/plain": [
              "-4*b**3 + 7*b - 7"
            ]
          },
          "metadata": {
            "tags": []
          },
          "execution_count": 42
        }
      ]
    },
    {
      "metadata": {
        "id": "UvugheCrSS_M",
        "colab_type": "code",
        "colab": {
          "base_uri": "https://localhost:8080/",
          "height": 35
        },
        "outputId": "ce12d8a7-b3e3-4a82-db9b-01b9726e7525"
      },
      "cell_type": "code",
      "source": [
        "h = Symbol('h')\n",
        "expand(3*h*(-h**2+2*h-1))"
      ],
      "execution_count": 44,
      "outputs": [
        {
          "output_type": "execute_result",
          "data": {
            "text/plain": [
              "-3*h**3 + 6*h**2 - 3*h"
            ]
          },
          "metadata": {
            "tags": []
          },
          "execution_count": 44
        }
      ]
    },
    {
      "metadata": {
        "id": "T7mxtkbKSjs1",
        "colab_type": "code",
        "colab": {
          "base_uri": "https://localhost:8080/",
          "height": 35
        },
        "outputId": "a5443b68-a711-42f3-f798-0d2048d1a1b4"
      },
      "cell_type": "code",
      "source": [
        "z, m, n = symbols('z m n')\n",
        "(4*z**m)*(n*z**2)"
      ],
      "execution_count": 49,
      "outputs": [
        {
          "output_type": "execute_result",
          "data": {
            "text/plain": [
              "4*n*z**2*z**m"
            ]
          },
          "metadata": {
            "tags": []
          },
          "execution_count": 49
        }
      ]
    },
    {
      "metadata": {
        "id": "uiI-sj8cTEib",
        "colab_type": "code",
        "colab": {
          "base_uri": "https://localhost:8080/",
          "height": 35
        },
        "outputId": "e02eec7b-3e23-441b-ae32-88b8df5b3dd9"
      },
      "cell_type": "code",
      "source": [
        "4*11*z**2*z**7 == 44*z**9"
      ],
      "execution_count": 51,
      "outputs": [
        {
          "output_type": "execute_result",
          "data": {
            "text/plain": [
              "True"
            ]
          },
          "metadata": {
            "tags": []
          },
          "execution_count": 51
        }
      ]
    },
    {
      "metadata": {
        "id": "HSme4N_FXXDX",
        "colab_type": "code",
        "colab": {
          "base_uri": "https://localhost:8080/",
          "height": 35
        },
        "outputId": "578b3abf-628f-418d-a976-e3d8c7aba824"
      },
      "cell_type": "code",
      "source": [
        "expand((x+3)*(x+8))"
      ],
      "execution_count": 53,
      "outputs": [
        {
          "output_type": "execute_result",
          "data": {
            "text/plain": [
              "x**2 + 11*x + 24"
            ]
          },
          "metadata": {
            "tags": []
          },
          "execution_count": 53
        }
      ]
    },
    {
      "metadata": {
        "id": "GHxvogc-Xm9f",
        "colab_type": "code",
        "colab": {
          "base_uri": "https://localhost:8080/",
          "height": 35
        },
        "outputId": "82cfe1fd-fdb1-46a3-98d4-5ffcbf257d46"
      },
      "cell_type": "code",
      "source": [
        "expand(3*x**2*y*(4+2*y-x*y**2))"
      ],
      "execution_count": 54,
      "outputs": [
        {
          "output_type": "execute_result",
          "data": {
            "text/plain": [
              "-3*x**3*y**3 + 6*x**2*y**2 + 12*x**2*y"
            ]
          },
          "metadata": {
            "tags": []
          },
          "execution_count": 54
        }
      ]
    },
    {
      "metadata": {
        "id": "tioVeuk6X-vM",
        "colab_type": "code",
        "colab": {
          "base_uri": "https://localhost:8080/",
          "height": 35
        },
        "outputId": "9d4132fa-f080-49a2-eaf8-4f943ac42b77"
      },
      "cell_type": "code",
      "source": [
        "expand((x**2+8*x+15)*(2*x))"
      ],
      "execution_count": 55,
      "outputs": [
        {
          "output_type": "execute_result",
          "data": {
            "text/plain": [
              "2*x**3 + 16*x**2 + 30*x"
            ]
          },
          "metadata": {
            "tags": []
          },
          "execution_count": 55
        }
      ]
    },
    {
      "metadata": {
        "id": "xiwkyEhYYehA",
        "colab_type": "code",
        "colab": {
          "base_uri": "https://localhost:8080/",
          "height": 35
        },
        "outputId": "e979f2f2-7ec6-4f50-e231-dd77236838c6"
      },
      "cell_type": "code",
      "source": [
        "(-4*x**4+6*x**2+3) - (5*x**2-3)"
      ],
      "execution_count": 56,
      "outputs": [
        {
          "output_type": "execute_result",
          "data": {
            "text/plain": [
              "-4*x**4 + x**2 + 6"
            ]
          },
          "metadata": {
            "tags": []
          },
          "execution_count": 56
        }
      ]
    },
    {
      "metadata": {
        "id": "ULtdDfc-ZXox",
        "colab_type": "code",
        "colab": {
          "base_uri": "https://localhost:8080/",
          "height": 35
        },
        "outputId": "a98a540f-a6f6-4d59-a392-e73701e9b429"
      },
      "cell_type": "code",
      "source": [
        "(-8*r**2+11*r-6) +  (-7*r**2-9*r+14)"
      ],
      "execution_count": 58,
      "outputs": [
        {
          "output_type": "execute_result",
          "data": {
            "text/plain": [
              "-15*r**2 + 2*r + 8"
            ]
          },
          "metadata": {
            "tags": []
          },
          "execution_count": 58
        }
      ]
    },
    {
      "metadata": {
        "id": "ZyacfiB7aDN5",
        "colab_type": "code",
        "colab": {
          "base_uri": "https://localhost:8080/",
          "height": 35
        },
        "outputId": "1eef3fd9-4dc7-4788-f4cf-8d82aaf4bcc5"
      },
      "cell_type": "code",
      "source": [
        "f = Symbol('f')\n",
        "expand((6*f-7)*(8*f-9))"
      ],
      "execution_count": 60,
      "outputs": [
        {
          "output_type": "execute_result",
          "data": {
            "text/plain": [
              "48*f**2 - 110*f + 63"
            ]
          },
          "metadata": {
            "tags": []
          },
          "execution_count": 60
        }
      ]
    },
    {
      "metadata": {
        "id": "Apc7QjqBib76",
        "colab_type": "code",
        "colab": {
          "base_uri": "https://localhost:8080/",
          "height": 35
        },
        "outputId": "661bffed-f708-441a-a7ed-2831d93f31f0"
      },
      "cell_type": "code",
      "source": [
        "expand((x+3)*(x+4))"
      ],
      "execution_count": 62,
      "outputs": [
        {
          "output_type": "execute_result",
          "data": {
            "text/plain": [
              "x**2 + 7*x + 12"
            ]
          },
          "metadata": {
            "tags": []
          },
          "execution_count": 62
        }
      ]
    },
    {
      "metadata": {
        "id": "UNTwItD5iwlb",
        "colab_type": "code",
        "colab": {
          "base_uri": "https://localhost:8080/",
          "height": 35
        },
        "outputId": "3e83c372-d0f3-48df-c47d-05050ad231c6"
      },
      "cell_type": "code",
      "source": [
        "(5*w**4-7*w**2*z**2-3*z**4) + (-w**4+13*w**2*z**2-4*z**4)"
      ],
      "execution_count": 63,
      "outputs": [
        {
          "output_type": "execute_result",
          "data": {
            "text/plain": [
              "4*w**4 + 6*w**2*z**2 - 7*z**4"
            ]
          },
          "metadata": {
            "tags": []
          },
          "execution_count": 63
        }
      ]
    },
    {
      "metadata": {
        "id": "330ilmW0l5Sk",
        "colab_type": "code",
        "colab": {
          "base_uri": "https://localhost:8080/",
          "height": 35
        },
        "outputId": "f2cbb679-f20b-4a42-e931-832812c8021a"
      },
      "cell_type": "code",
      "source": [
        "expand((c**2 - 6)*(2*c**2 + 3*c - 1))"
      ],
      "execution_count": 64,
      "outputs": [
        {
          "output_type": "execute_result",
          "data": {
            "text/plain": [
              "2*c**4 + 3*c**3 - 13*c**2 - 18*c + 6"
            ]
          },
          "metadata": {
            "tags": []
          },
          "execution_count": 64
        }
      ]
    },
    {
      "metadata": {
        "id": "RlCjZSW9mS-l",
        "colab_type": "code",
        "colab": {
          "base_uri": "https://localhost:8080/",
          "height": 35
        },
        "outputId": "ff9fa5ae-9630-41e3-a07c-158da16a2e65"
      },
      "cell_type": "code",
      "source": [
        "q = Symbol('q')\n",
        "(-7*p**3-4*p**2*q+q**2) +(p**3-6*p*q**2+5*q**2)"
      ],
      "execution_count": 66,
      "outputs": [
        {
          "output_type": "execute_result",
          "data": {
            "text/plain": [
              "-6*p**3 - 4*p**2*q - 6*p*q**2 + 6*q**2"
            ]
          },
          "metadata": {
            "tags": []
          },
          "execution_count": 66
        }
      ]
    },
    {
      "metadata": {
        "id": "xdqpn0Zlmti5",
        "colab_type": "code",
        "colab": {
          "base_uri": "https://localhost:8080/",
          "height": 35
        },
        "outputId": "75e83f32-b126-41a9-8b1e-1ddc51679ac9"
      },
      "cell_type": "code",
      "source": [
        "(9*c**6)*(3*c**6)"
      ],
      "execution_count": 67,
      "outputs": [
        {
          "output_type": "execute_result",
          "data": {
            "text/plain": [
              "27*c**12"
            ]
          },
          "metadata": {
            "tags": []
          },
          "execution_count": 67
        }
      ]
    },
    {
      "metadata": {
        "id": "3MZYoR4jnOEi",
        "colab_type": "code",
        "colab": {
          "base_uri": "https://localhost:8080/",
          "height": 35
        },
        "outputId": "b172ad1a-ef01-4bc5-bbb9-d634a919ee84"
      },
      "cell_type": "code",
      "source": [
        "expand((5*b-7)**2)"
      ],
      "execution_count": 68,
      "outputs": [
        {
          "output_type": "execute_result",
          "data": {
            "text/plain": [
              "25*b**2 - 70*b + 49"
            ]
          },
          "metadata": {
            "tags": []
          },
          "execution_count": 68
        }
      ]
    },
    {
      "metadata": {
        "id": "poRkthsonXy4",
        "colab_type": "code",
        "colab": {
          "base_uri": "https://localhost:8080/",
          "height": 35
        },
        "outputId": "b310426d-3e5d-4511-e13f-e96b59ce17ff"
      },
      "cell_type": "code",
      "source": [
        "expand((x+3)**2)"
      ],
      "execution_count": 70,
      "outputs": [
        {
          "output_type": "execute_result",
          "data": {
            "text/plain": [
              "x**2 + 6*x + 9"
            ]
          },
          "metadata": {
            "tags": []
          },
          "execution_count": 70
        }
      ]
    },
    {
      "metadata": {
        "id": "5Ob5mBrinjR4",
        "colab_type": "code",
        "colab": {}
      },
      "cell_type": "code",
      "source": [
        ""
      ],
      "execution_count": 0,
      "outputs": []
    }
  ]
}