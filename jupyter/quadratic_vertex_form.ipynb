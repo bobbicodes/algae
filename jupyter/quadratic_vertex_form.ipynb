{
  "nbformat": 4,
  "nbformat_minor": 0,
  "metadata": {
    "colab": {
      "name": "quadratic-vertex-form.ipynb",
      "version": "0.3.2",
      "provenance": [],
      "collapsed_sections": [],
      "include_colab_link": true
    },
    "kernelspec": {
      "name": "python3",
      "display_name": "Python 3"
    }
  },
  "cells": [
    {
      "cell_type": "markdown",
      "metadata": {
        "id": "view-in-github",
        "colab_type": "text"
      },
      "source": [
        "<a href=\"https://colab.research.google.com/github/porkostomus/jupyter/blob/master/quadratic_vertex_form.ipynb\" target=\"_parent\"><img src=\"https://colab.research.google.com/assets/colab-badge.svg\" alt=\"Open In Colab\"/></a>"
      ]
    },
    {
      "metadata": {
        "id": "AEBUX8Sst_YT",
        "colab_type": "text"
      },
      "cell_type": "markdown",
      "source": [
        "## Quadratics in vertex form \n",
        "\n",
        "**What is the vertex of the function?**\n",
        "\n",
        "$f(x)=3(x-2)^2+4$\n",
        "\n",
        "The function is given in vertex form.\n",
        "\n",
        "The coordinates of the vertex of a parabola in the form $a(x- h)^2+ k$ are $( h, k)$.\n",
        "\n",
        "The vertex of $3(x- 2)^2+ 4$ is at\n",
        "$( 2, 4)$."
      ]
    },
    {
      "metadata": {
        "id": "OhO5SM2Zth4e",
        "colab_type": "code",
        "outputId": "921b94c5-27aa-40a6-a15d-f20e8d0b8f75",
        "colab": {
          "base_uri": "https://localhost:8080/",
          "height": 35
        }
      },
      "cell_type": "code",
      "source": [
        "from sympy import *\n",
        "\n",
        "x = Symbol('x')\n",
        "\n",
        "solveset(Eq(8*x**2 - 800, 0))"
      ],
      "execution_count": 1,
      "outputs": [
        {
          "output_type": "execute_result",
          "data": {
            "text/plain": [
              "{-10, 10}"
            ]
          },
          "metadata": {
            "tags": []
          },
          "execution_count": 1
        }
      ]
    },
    {
      "metadata": {
        "id": "i8u71TVO2BQW",
        "colab_type": "text"
      },
      "cell_type": "markdown",
      "source": [
        "$g(x)=2(x-3)^2-8$\n",
        "\n",
        "**1) What is the vertex of the function?**\n",
        "\n",
        "**2) Write one of the function's zeros (either one is accepted).**\n",
        "\n",
        "**3) Graph the function.**\n",
        "\n",
        "The function is given in *vertex form*.\n",
        "\n",
        "The coordinates of the vertex of a parabola in the form $a(x- h)^2+ k$ are $( h, k)$.\n",
        "\n",
        "So the vertex of $2(x- 3)^2{-8}$ is at\n",
        "$( 3,{-8})$.\n",
        "\n",
        "To find the zeros, we need to solve the equation $g(x)=0$:\n",
        "\n",
        "\\begin{aligned} 2(x-3)^2-8&=0 \\\\\\\\ 2(x-3)^2&=8 \\\\\\\\ (x-3)^2&=4 \\\\\\\\ \\sqrt{(x-3)^2}&=\\pm\\sqrt{4} \\\\\\\\ x-3&=\\pm 2 \\\\\\\\ x=5&\\text{ or }x=1 \\end{aligned}\n",
        "\n",
        "So the zeros of the function are $(5,0)$ and $(1,0)$.\n",
        "\n",
        "**In conclusion, the vertex of the parabola is at $(3,-8)$ and the zeros are\n",
        "$(5,0)$ and $(1,0)$.**\n",
        "\n",
        "**In order to graph, we need the vertex and another point. That other point can be one of the zeros we found, like $(1,0)$.**"
      ]
    },
    {
      "metadata": {
        "id": "a-YBgPDs5BMs",
        "colab_type": "code",
        "outputId": "40751eee-1145-44d4-e50c-3641041a713a",
        "colab": {
          "base_uri": "https://localhost:8080/",
          "height": 35
        }
      },
      "cell_type": "code",
      "source": [
        "solveset(Eq(2*(x - 3)**2 - 8, 0))"
      ],
      "execution_count": 0,
      "outputs": [
        {
          "output_type": "execute_result",
          "data": {
            "text/plain": [
              "{1, 5}"
            ]
          },
          "metadata": {
            "tags": []
          },
          "execution_count": 12
        }
      ]
    },
    {
      "metadata": {
        "id": "ZWkCHTF78GfL",
        "colab_type": "text"
      },
      "cell_type": "markdown",
      "source": [
        "$h(x)=0.5(x+4)^2 +1$\n",
        "\n",
        "**1) What is the vertex of the function?**\n",
        "\n",
        "**2) What is the function's $y$-intercept?**\n",
        "\n",
        "**3) Graph the function.**\n",
        "\n",
        "The function is given in vertex form.\n",
        "\n",
        "The coordinates of the vertex of a parabola in the form $a(x- h)^2+ k$ are $( h, k)$.\n",
        "\n",
        "So the vertex of $0.5(x-({-4}))^2+{1}$ is at\n",
        "$({-4},{1})$.\n",
        "\n",
        "To find the $y$-intercept, we can plug $x=0$ into $h$:\n",
        "\n",
        "\\begin{aligned} h(0)&=0.5(0+4)^2+1 \\\\\\\\ &=0.5\\cdot 16+1 \\\\\\\\ &=9 \\end{aligned}\n",
        "\n",
        "So the $y$-intercept is at $(0,9)$.\n",
        "\n",
        "In conclusion, the vertex of the parabola is at\n",
        "$(-4,1)$ and the $y$-intercept is at\n",
        "$(0,9)$.\n",
        "\n",
        "In order to graph, we need the vertex and another point. That other point can be the $y$-intercept we found."
      ]
    },
    {
      "metadata": {
        "id": "9k4-x2nR7mec",
        "colab_type": "code",
        "outputId": "ab834d2c-0c5f-4f25-eaa4-16bc72af27b4",
        "colab": {
          "base_uri": "https://localhost:8080/",
          "height": 35
        }
      },
      "cell_type": "code",
      "source": [
        "solveset(Eq(3*x**2 + 1.0, 0))"
      ],
      "execution_count": 0,
      "outputs": [
        {
          "output_type": "execute_result",
          "data": {
            "text/plain": [
              "{-0.577350269189626*I, 0.577350269189626*I}"
            ]
          },
          "metadata": {
            "tags": []
          },
          "execution_count": 21
        }
      ]
    },
    {
      "metadata": {
        "id": "UIBV3e4fB1fr",
        "colab_type": "text"
      },
      "cell_type": "markdown",
      "source": [
        "Graph the function.\n",
        "\n",
        "$g(x)=3x^2+1$\n",
        "\n",
        "The equation is in vertex form $g(x)=a(x-h)^2+k$.\n",
        "\n",
        "To graph the parabola, we need its vertex and another point on the parabola.\n",
        "\n",
        "* In vertex form, the vertex coordinates are simply $(h,k)$.\n",
        "* The other point can be a point next to the vertex (where $x=h\\pm 1$).\n",
        "\n",
        "### Finding the vertex\n",
        "\n",
        "The coordinates of the vertex of a parabola in the form $g(x)=a(x- h)^2+ k$ are $( h, k)$.\n",
        "\n",
        "Note that $h$ is found when it is *subtracted* from $x$. For this reason, let's rewrite the given equation as follows:\n",
        "\n",
        "$g(x)=3(x-{0})^2+{1}$\n",
        "\n",
        "Therefore, the vertex is at $({0},{1})$.\n",
        "\n",
        "### Finding another point\n",
        "\n",
        "When the equation is given in vertex form, it's usually best to look for another point that is near the vertex. Since the vertex is at $x=0$, let's plug $x=1$ into the equation:\n",
        "\n",
        "\\begin{aligned} g(x)&=3(1)^2+1\\\\\\\\ &=3+1\\\\\\\\ &=4 \\end{aligned}\n",
        "\n",
        "Therefore, another point on the parabola is $(1,4)$.\n",
        "\n",
        "**The vertex of the parabola is at $(0,1)$ and another point on the parabola is at $(1,4)$.**"
      ]
    },
    {
      "metadata": {
        "id": "-xKWqPtuAaKj",
        "colab_type": "code",
        "outputId": "c466e06b-0a8a-43b7-9b33-d6af4def7deb",
        "colab": {
          "base_uri": "https://localhost:8080/",
          "height": 35
        }
      },
      "cell_type": "code",
      "source": [
        "3*1**2 + 1"
      ],
      "execution_count": 0,
      "outputs": [
        {
          "output_type": "execute_result",
          "data": {
            "text/plain": [
              "4"
            ]
          },
          "metadata": {
            "tags": []
          },
          "execution_count": 23
        }
      ]
    },
    {
      "metadata": {
        "id": "o5eRkcLyFDZM",
        "colab_type": "code",
        "outputId": "2f935126-779e-492a-eb32-5df5ba6d4170",
        "colab": {
          "base_uri": "https://localhost:8080/",
          "height": 35
        }
      },
      "cell_type": "code",
      "source": [
        "-4*(-1 + 2)**2 - 1"
      ],
      "execution_count": 0,
      "outputs": [
        {
          "output_type": "execute_result",
          "data": {
            "text/plain": [
              "-5"
            ]
          },
          "metadata": {
            "tags": []
          },
          "execution_count": 27
        }
      ]
    },
    {
      "metadata": {
        "id": "aMgknnyEFQzc",
        "colab_type": "code",
        "outputId": "14aa710e-822f-499d-d795-a0edf093098c",
        "colab": {
          "base_uri": "https://localhost:8080/",
          "height": 35
        }
      },
      "cell_type": "code",
      "source": [
        "Rational(3,2)*(2 - 4)**2 + 3"
      ],
      "execution_count": 0,
      "outputs": [
        {
          "output_type": "execute_result",
          "data": {
            "text/plain": [
              "9"
            ]
          },
          "metadata": {
            "tags": []
          },
          "execution_count": 30
        }
      ]
    },
    {
      "metadata": {
        "id": "W5T_NieSGLdu",
        "colab_type": "text"
      },
      "cell_type": "markdown",
      "source": [
        "The number of mosquitoes in Minneapolis, Minnesota (in millions of mosquitoes) as a function of rainfall (in centimeters) is modeled by:\n",
        "\n",
        "$m(x)=-(x-5)^2+25$\n",
        "\n",
        "**What is the maximum possible number of mosquitoes?**\n",
        "\n",
        "The number of mosquitoes is modeled by a quadratic function, whose graph is a parabola.\n",
        "\n",
        "The maximum number of mosquitoes is reached at the vertex.\n",
        "\n",
        "So in order to find the maximum number of mosquitoes, we need to find the vertex's $y$-coordinate.\n",
        "\n",
        "The function $m(x)$ is given in vertex form.\n",
        "\n",
        "The vertex of $-(x-{5})^2{+25}$ is at $({5},{25})$.\n",
        "\n",
        "In conclusion, the maximum number of mosquitoes is $25$ million."
      ]
    },
    {
      "metadata": {
        "id": "V_WK9iUHeBv8",
        "colab_type": "code",
        "colab": {}
      },
      "cell_type": "code",
      "source": [
        ""
      ],
      "execution_count": 0,
      "outputs": []
    },
    {
      "metadata": {
        "id": "-PBBPFshHptZ",
        "colab_type": "text"
      },
      "cell_type": "markdown",
      "source": [
        "Amir stands on a balcony and throws a ball to his dog, who is at ground level.\n",
        "\n",
        "The ball's height (in meters above the ground), $x$ seconds after Amir threw it, is modeled by:\n",
        "\n",
        "$h(x)=-(x-2)^2+16$\n",
        "\n",
        "**How many seconds after being thrown will the ball hit the ground?**\n",
        "\n",
        "The ball hits the ground when $h(x)=0$\n",
        "\n",
        "\\begin{aligned} h(x)&=0 \\\\\\\\ -(x-2)^2+16&=0 \\\\\\\\ -(x-2)^2&=-16 \\\\\\\\ (x-2)^2&=16 \\\\\\\\ \\sqrt{(x-2)^2}&=\\sqrt{16} \\\\\\\\ x-2&=\\pm4 \\\\\\\\ x&=\\pm4+2 \\\\\\\\ x=6&\\text{ or }x=-2 \\end{aligned}\n",
        "\n",
        "We found that $h(x)=0$ for $x=6$ or $x=-2$. Since $x=-2$ doesn't make sense in our context, the only reasonable answer is $x=6$.\n",
        "\n",
        "**In conclusion, the ball will hit the ground after $6$ seconds.**"
      ]
    },
    {
      "metadata": {
        "id": "7ooyr8zqeZMH",
        "colab_type": "code",
        "outputId": "13ce23d2-bfb6-4e16-cf5a-01a404a78660",
        "colab": {
          "base_uri": "https://localhost:8080/",
          "height": 35
        }
      },
      "cell_type": "code",
      "source": [
        "from sympy import *\n",
        "\n",
        "x = Symbol('x')\n",
        "\n",
        "expr = -1*(x + 6)**2\n",
        "expr.subs(x,-3)"
      ],
      "execution_count": 45,
      "outputs": [
        {
          "output_type": "execute_result",
          "data": {
            "text/plain": [
              "-9"
            ]
          },
          "metadata": {
            "tags": []
          },
          "execution_count": 45
        }
      ]
    },
    {
      "metadata": {
        "id": "ER2icE4HiB_B",
        "colab_type": "code",
        "colab": {
          "base_uri": "https://localhost:8080/",
          "height": 35
        },
        "outputId": "41570bf4-c22a-4373-b495-1549f793f645"
      },
      "cell_type": "code",
      "source": [
        "expr = -Rational(1,5)*(x + 5)**2 - 2\n",
        "expr.subs(x,0)"
      ],
      "execution_count": 32,
      "outputs": [
        {
          "output_type": "execute_result",
          "data": {
            "text/plain": [
              "-7"
            ]
          },
          "metadata": {
            "tags": []
          },
          "execution_count": 32
        }
      ]
    },
    {
      "metadata": {
        "id": "2G4X6HCwbovM",
        "colab_type": "text"
      },
      "cell_type": "markdown",
      "source": [
        "The fish population in a certain part of the ocean (in thousands of fish) as a function of the water's temperature (in degrees Celsius) is modeled by:\n",
        "\n",
        "$P(x)=-2(x-9)^2+200$\n",
        "\n",
        "**What temperature will result in the maximum number of fish?**\n",
        "\n",
        "The fish population is modeled by a quadratic function, whose graph is a parabola.\n",
        "\n",
        "The maximum number of fish is reached at the vertex.\n",
        "\n",
        "So in order to find when that happens, we need to find the vertex's $x$-coordinate.\n",
        "\n",
        "The function $P(x)$ is given in vertex form.\n",
        "\n",
        "The vertex of $-2(x-{9})^2{+200}$ is at $({9},{200})$.\n",
        "\n",
        "**In conclusion, the maximum fish population will occur at $9$ degrees Celsius.**"
      ]
    },
    {
      "metadata": {
        "id": "PQbmBbG4uLAp",
        "colab_type": "text"
      },
      "cell_type": "markdown",
      "source": [
        "A hovercraft takes off from a platform.\n",
        "\n",
        "Its height (in meters), $x$ seconds after takeoff, is modeled by:\n",
        "\n",
        "$h(x)=-3(x-3)^2+108$"
      ]
    },
    {
      "metadata": {
        "id": "4hyqGK3quOvJ",
        "colab_type": "code",
        "colab": {}
      },
      "cell_type": "code",
      "source": [
        "expr = -3*(x - 3)**2 + 108"
      ],
      "execution_count": 0,
      "outputs": []
    },
    {
      "metadata": {
        "id": "7oQ-N8lNuoiL",
        "colab_type": "text"
      },
      "cell_type": "markdown",
      "source": [
        "**What is the height of the hovercraft at the time of takeoff?**"
      ]
    },
    {
      "metadata": {
        "id": "mCqdBO91up4Y",
        "colab_type": "code",
        "colab": {
          "base_uri": "https://localhost:8080/",
          "height": 35
        },
        "outputId": "24b4c569-95fc-4a3a-fac4-897fdc624c8c"
      },
      "cell_type": "code",
      "source": [
        "expr.subs(x,0)"
      ],
      "execution_count": 55,
      "outputs": [
        {
          "output_type": "execute_result",
          "data": {
            "text/plain": [
              "81"
            ]
          },
          "metadata": {
            "tags": []
          },
          "execution_count": 55
        }
      ]
    },
    {
      "metadata": {
        "id": "qJQQEej0dXrf",
        "colab_type": "text"
      },
      "cell_type": "markdown",
      "source": [
        "The height of the hovercraft at the time of takeoff is given by $h(0)$.\n",
        "\n",
        "\\begin{aligned} h( 0)&=-3( 0-3)^2+108 \\\\\\\\ &=-3(9)+108 \\\\\\\\ &=81 \\end{aligned}\n",
        "\n",
        "**How many seconds after takeoff will the hovercraft land on the ground?**\n",
        "\n",
        "The hovercraft lands on the ground when $h(x)=0$."
      ]
    },
    {
      "metadata": {
        "id": "dtVy13LeFq87",
        "colab_type": "code",
        "colab": {
          "base_uri": "https://localhost:8080/",
          "height": 35
        },
        "outputId": "c527b0a0-6cd8-4bfd-c4df-3f3912b2425e"
      },
      "cell_type": "code",
      "source": [
        "solveset(Eq(expr, 0))"
      ],
      "execution_count": 56,
      "outputs": [
        {
          "output_type": "execute_result",
          "data": {
            "text/plain": [
              "{-3, 9}"
            ]
          },
          "metadata": {
            "tags": []
          },
          "execution_count": 56
        }
      ]
    },
    {
      "metadata": {
        "id": "_4zuDmDCrN_N",
        "colab_type": "text"
      },
      "cell_type": "markdown",
      "source": [
        "The power generated by an electrical circuit (in watts) as a function of its current $c$ (in amperes) is modeled by:\n",
        "\n",
        "$P(c)=-20(c-3)^2+180$\n",
        "\n",
        "**Which currents will produce no power (i.e. $0$ watts)?**"
      ]
    },
    {
      "metadata": {
        "id": "2459FBTFMqzw",
        "colab_type": "code",
        "colab": {
          "base_uri": "https://localhost:8080/",
          "height": 35
        },
        "outputId": "2acb15c3-9457-4e05-ebdf-f3c272955962"
      },
      "cell_type": "code",
      "source": [
        "c = Symbol('c')\n",
        "\n",
        "solveset(Eq(-20*(c - 3)**2 + 180, 0))"
      ],
      "execution_count": 52,
      "outputs": [
        {
          "output_type": "execute_result",
          "data": {
            "text/plain": [
              "{0, 6}"
            ]
          },
          "metadata": {
            "tags": []
          },
          "execution_count": 52
        }
      ]
    },
    {
      "metadata": {
        "id": "tgiDcgxnqT_v",
        "colab_type": "code",
        "colab": {
          "base_uri": "https://localhost:8080/",
          "height": 35
        },
        "outputId": "e3d0d1ea-6a7b-455c-df37-5c6227808d2c"
      },
      "cell_type": "code",
      "source": [
        "-5*(0 - 4)**2 + 180"
      ],
      "execution_count": 53,
      "outputs": [
        {
          "output_type": "execute_result",
          "data": {
            "text/plain": [
              "100"
            ]
          },
          "metadata": {
            "tags": []
          },
          "execution_count": 53
        }
      ]
    },
    {
      "metadata": {
        "id": "vp9T1DMdsKtb",
        "colab_type": "code",
        "colab": {}
      },
      "cell_type": "code",
      "source": [
        ""
      ],
      "execution_count": 0,
      "outputs": []
    }
  ]
}