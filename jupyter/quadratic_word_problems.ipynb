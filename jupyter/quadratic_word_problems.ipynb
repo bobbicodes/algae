{
  "nbformat": 4,
  "nbformat_minor": 0,
  "metadata": {
    "colab": {
      "name": "quadratic-word-problems.ipynb",
      "version": "0.3.2",
      "provenance": [],
      "collapsed_sections": [],
      "include_colab_link": true
    },
    "kernelspec": {
      "name": "python3",
      "display_name": "Python 3"
    }
  },
  "cells": [
    {
      "cell_type": "markdown",
      "metadata": {
        "id": "view-in-github",
        "colab_type": "text"
      },
      "source": [
        "<a href=\"https://colab.research.google.com/github/porkostomus/jupyter/blob/master/quadratic_word_problems.ipynb\" target=\"_parent\"><img src=\"https://colab.research.google.com/assets/colab-badge.svg\" alt=\"Open In Colab\"/></a>"
      ]
    },
    {
      "metadata": {
        "id": "uWyoxVE3DHIL",
        "colab_type": "text"
      },
      "cell_type": "markdown",
      "source": [
        "## Quadratic word problems (factored form)"
      ]
    },
    {
      "metadata": {
        "id": "9QhDZwEKDRfC",
        "colab_type": "text"
      },
      "cell_type": "markdown",
      "source": [
        "Amir stands on a balcony and throws a ball to his dog, who is at ground level.\n",
        "\n",
        "The ball's height (in meters above the ground), $x$ seconds after Amir threw it, is modeled by\n",
        "\n",
        "$h(x)=-(x+1)(x-7)$"
      ]
    },
    {
      "metadata": {
        "id": "Xrucf9FSDb8Z",
        "colab_type": "code",
        "colab": {
          "base_uri": "https://localhost:8080/",
          "height": 35
        },
        "outputId": "0acbbf90-7d62-426b-a788-15d733e7f3cb"
      },
      "cell_type": "code",
      "source": [
        "from sympy import *\n",
        "\n",
        "x = Symbol('x')\n",
        "\n",
        "coeff = -1\n",
        "term1 = 1\n",
        "term2 = -7\n",
        "y = coeff * (x + term1)*(x + term2)\n",
        "zero1 = solveset(Eq(x + term1))\n",
        "zero2 = solveset(Eq(x + term2))\n",
        "vertx = sum(zero1 + zero2) / 2\n",
        "verty = y.subs(x, vertx)\n",
        "vertex = (vertx, verty);\n",
        "graph = {'Vertex': vertex, 'Zeros': zero1 + zero2}\n",
        "graph"
      ],
      "execution_count": 2,
      "outputs": [
        {
          "output_type": "execute_result",
          "data": {
            "text/plain": [
              "{'Vertex': (3, 16), 'Zeros': {-1, 7}}"
            ]
          },
          "metadata": {
            "tags": []
          },
          "execution_count": 2
        }
      ]
    },
    {
      "metadata": {
        "id": "GkfJLYPBEBXo",
        "colab_type": "text"
      },
      "cell_type": "markdown",
      "source": [
        "**What is the maximum height that the ball will reach?**"
      ]
    },
    {
      "metadata": {
        "id": "x2G8Rk3rED9n",
        "colab_type": "code",
        "colab": {
          "base_uri": "https://localhost:8080/",
          "height": 35
        },
        "outputId": "2306cbd6-2d0b-493f-ea7b-e24d32791dc2"
      },
      "cell_type": "code",
      "source": [
        "verty"
      ],
      "execution_count": 3,
      "outputs": [
        {
          "output_type": "execute_result",
          "data": {
            "text/plain": [
              "16"
            ]
          },
          "metadata": {
            "tags": []
          },
          "execution_count": 3
        }
      ]
    },
    {
      "metadata": {
        "id": "eKJF5bsfE16x",
        "colab_type": "text"
      },
      "cell_type": "markdown",
      "source": [
        "**How many seconds after being thrown will the ball reach its maximum height?**"
      ]
    },
    {
      "metadata": {
        "id": "JutmYn6cE_T2",
        "colab_type": "code",
        "colab": {
          "base_uri": "https://localhost:8080/",
          "height": 35
        },
        "outputId": "a5c6b7f1-c289-418c-92d1-43ce7e7e7281"
      },
      "cell_type": "code",
      "source": [
        "vertx"
      ],
      "execution_count": 4,
      "outputs": [
        {
          "output_type": "execute_result",
          "data": {
            "text/plain": [
              "3"
            ]
          },
          "metadata": {
            "tags": []
          },
          "execution_count": 4
        }
      ]
    },
    {
      "metadata": {
        "id": "vtzumD2-DCSr",
        "colab_type": "text"
      },
      "cell_type": "markdown",
      "source": [
        "The ball's height is modeled by a quadratic function, whose graph is a parabola.\n",
        "\n",
        "The maximum height is reached at the vertex.\n",
        "\n",
        "So in order to find the maximum height, we need to find the vertex's $y$-coordinate.\n",
        "\n",
        "We will start by finding the vertex's $x$-coordinate, and then plug that into $h(x)$.\n",
        "\n",
        "The vertex's $x$-coordinate is the average of the two zeros, so let's find those first:\n",
        "\n",
        "\\begin{aligned} h(x)&=0 \\\\\\\\ -(x+1)(x-7)&=0 \\\\\\\\ \\swarrow\\quad&\\searrow \\\\\\\\ x+1=0\\text{ or }&x-7=0 \\\\\\\\ x={-1}\\text{ or }&x={7} \\end{aligned}\n",
        "\n",
        "Now let's take the zeros' average:\n",
        "\n",
        "$\\dfrac{({-1})+({7})}{2}=\\dfrac62={3}$\n",
        "\n",
        "The vertex's $x$-coordinate is $3$. Now let's find $h({3}):\n",
        "\n",
        "\\begin{aligned} h( 3)&=-( 3+1)( 3-7) \\\\\\\\ &=-(4)(-4) \\\\\\\\ &=16 \\end{aligned}\n",
        "\n",
        "**In conclusion, the maximum height that the ball will reach is $16$ meters.**"
      ]
    },
    {
      "metadata": {
        "id": "6VzeR_YF1l5A",
        "colab_type": "text"
      },
      "cell_type": "markdown",
      "source": [
        "Ana dives into a pool off of a springboard high dive.\n",
        "\n",
        "Her height (in meters above the water), $x$ seconds after diving, is modeled by\n",
        "\n",
        "$h(x)=-5(x+1)(x-3)$\n",
        "\n",
        "**What is the height of Ana above the water at the time of diving?**"
      ]
    },
    {
      "metadata": {
        "id": "5up-z-JW5BrN",
        "colab_type": "code",
        "outputId": "d39e3f2f-e0db-4d80-f1ea-bacdc74fe3f1",
        "colab": {
          "base_uri": "https://localhost:8080/",
          "height": 35
        }
      },
      "cell_type": "code",
      "source": [
        "-5*(0 + 1)*(0 - 3)"
      ],
      "execution_count": 0,
      "outputs": [
        {
          "output_type": "execute_result",
          "data": {
            "text/plain": [
              "15"
            ]
          },
          "metadata": {
            "tags": []
          },
          "execution_count": 2
        }
      ]
    },
    {
      "metadata": {
        "id": "5-DeD9M-vUcN",
        "colab_type": "text"
      },
      "cell_type": "markdown",
      "source": [
        "**How many seconds after diving will Ana hit the water?**\n",
        "\n",
        "Ana hits the water when $h(x)=0$.\n",
        "\n",
        "\\begin{aligned} h(x)&=0 \\\\\\\\ -5(x+1)(x-3)&=0 \\\\\\\\ \\swarrow\\quad&\\searrow \\\\\\\\ x+1=0\\text{ or }&x-3=0 \\\\\\\\ x=-1\\text{ or }&x=3 \\end{aligned}\n",
        "\n",
        "We found that $h(x)=0$ for $x=-1$ or $x=3$. Since $x=-1$ doesn't make sense in our context, the only reasonable answer is $x=3$.\n",
        "\n",
        "In conclusion, Ana hit the water after $3$ seconds."
      ]
    },
    {
      "metadata": {
        "id": "2mEmFMBKgWQ5",
        "colab_type": "text"
      },
      "cell_type": "markdown",
      "source": [
        "Simon has $160$ meters of fencing to build a rectangular garden.\n",
        "\n",
        "The garden's area (in square meters) as a function of the garden's width $w$ (in meters) is modeled by\n",
        "\n",
        "$A(w)=-w(w-80)$\n",
        "\n",
        "**What width will produce the maximum garden area?**\n",
        "\n",
        "The garden's area is modeled by a quadratic function, whose graph is a parabola.\n",
        "\n",
        "The maximum area is reached at the vertex.\n",
        "So in order to find the width that produces the maximum area, we need to find the vertex's $x$-coordinate.\n",
        "\n",
        "The vertex's $x$-coordinate is the average of the two zeros, so let's find those first.\n",
        "\n",
        "\\begin{aligned} A(w)&=0 \\\\\\\\ -w(w-80)&=0 \\\\\\\\ \\swarrow\\quad&\\searrow \\\\\\\\ -w=0\\text{ or }&w-80=0 \\\\\\\\ w={0}\\text{ or }&w={80} \\end{aligned}\n",
        "\n",
        "Now let's take the zeros' average:\n",
        "\n",
        "$\\dfrac{({0})+({80})}{2}=\\dfrac{80}{2}=40$\n",
        "\n",
        "In conclusion, the maximum area is produced when the rectangle's width is $40$ meters."
      ]
    },
    {
      "metadata": {
        "id": "DoxGBmhwFXeQ",
        "colab_type": "text"
      },
      "cell_type": "markdown",
      "source": [
        "**What is the maximum area possible?**\n",
        "\n",
        "In order to find the maximum area, we need to find the vertex's $y$-coordinate.\n",
        "\n",
        "We will start by finding the vertex's $x$-coordinate, and then plug that into $A(w).\n",
        "\n",
        "The vertex's $x$-coordinate is $40$. Now let's find $A({{40}})$:\n",
        "\n",
        "\\begin{aligned} A({40})&=-({40})({40}-80) \\\\\\\\ &=-(40)(-40) \\\\\\\\ &=1600 \\end{aligned}\n",
        "\n",
        "**In conclusion, the maximum area is $1600$ square meters.**"
      ]
    },
    {
      "metadata": {
        "id": "FS80m0bn5J2N",
        "colab_type": "code",
        "colab": {}
      },
      "cell_type": "code",
      "source": [
        ""
      ],
      "execution_count": 0,
      "outputs": []
    },
    {
      "metadata": {
        "id": "dvcz4k1xsHnX",
        "colab_type": "text"
      },
      "cell_type": "markdown",
      "source": [
        "Guillermo is a professional deep water free diver.\n",
        "\n",
        "His altitude (in meters relative to sea level), $x$ seconds after diving, is modeled by\n",
        "\n",
        "$g(x)=\\dfrac{1}{20}x(x-100)$\n",
        "\n",
        "What is the lowest altitude Guillermo will reach?\n",
        "\n",
        "Guillermo's altitude is modeled by a quadratic function, whose graph is a parabola.\n",
        "\n",
        "The lowest altitude is reached at the vertex.\n",
        "\n",
        "So in order to find the lowest altitude, we need to find the vertex's $y$-coordinate.\n",
        "\n",
        "We will start by finding the vertex's $x$-coordinate, and then plug that into $g(x)$.\n",
        "\n",
        "The vertex's $x$-coordinate is the average of the two zeros, so let's find those first.\n",
        "\n",
        "\\begin{aligned} g(x)&=0 \\\\\\\\ \\dfrac{1}{20}x(x-100)&=0 \\\\\\\\ \\swarrow\\quad&\\searrow \\\\\\\\ \\dfrac{1}{20}x=0\\text{ or }&x-100=0 \\\\\\\\ x={0}\\text{ or }&x={100} \\end{aligned}\n",
        "\n",
        "Now let's take the zeros' average:\n",
        "\n",
        "$\\dfrac{({0})+({100})}{2}=\\dfrac{100}{2}={50}$\n",
        "\n",
        "The vertex's $x$-coordinate is ${50}$. Now let's find $g({50})$:\n",
        "\n",
        "\\begin{aligned} g({50})&=\\dfrac{1}{20}({50})({50}-100) \\\\\\\\ &=\\dfrac{1}{20}(50)(-50) \\\\\\\\ &=-125 \\end{aligned}\n",
        "\n",
        "In conclusion, the lowest altitude Guillermo will reach is $-125$ meters relative to sea level."
      ]
    },
    {
      "metadata": {
        "id": "0dlpKLdquhGe",
        "colab_type": "code",
        "colab": {}
      },
      "cell_type": "code",
      "source": [
        ""
      ],
      "execution_count": 0,
      "outputs": []
    },
    {
      "metadata": {
        "id": "Frv3JTaK9qCT",
        "colab_type": "text"
      },
      "cell_type": "markdown",
      "source": [
        "A certain company's main source of income is a mobile app.\n",
        "\n",
        "The company's annual profit (in millions of dollars) as a function of the app's price (in dollars) is modeled by\n",
        "\n",
        "$P(x)=-2(x-3)(x-11)$\n",
        "\n",
        "**What would be the company's profit if the app price is $0$ dollars?**\n",
        "\n",
        "The company's profit if the app price is $0$ dollars is given by $P(0)$.\n",
        "\n",
        "\\begin{aligned} P( 0)&=-2( 0-3)( 0-11) \\\\\\\\ &=-2(-3)(-11) \\\\\\\\ &=-66 \\end{aligned}\n",
        "\n",
        "In conclusion, the company will have a profit of $-66$ million dollars if the app price is $0$ dollars.\n",
        "\n",
        "(In other words, the company would lose $66$ million dollars.)"
      ]
    },
    {
      "metadata": {
        "id": "Xv_Hx2jm-uTm",
        "colab_type": "code",
        "colab": {}
      },
      "cell_type": "code",
      "source": [
        ""
      ],
      "execution_count": 0,
      "outputs": []
    },
    {
      "metadata": {
        "id": "wE0Dk5NXVFuW",
        "colab_type": "text"
      },
      "cell_type": "markdown",
      "source": [
        "Ricardo throws a stone off a bridge into a river below.\n",
        "\n",
        "The stone's height (in meters above the water), $x$ seconds after Ricardo threw it, is modeled by\n",
        "\n",
        "$w(x)=-5(x-8)(x+4)$\n",
        "\n",
        "**How many seconds after being thrown will the stone reach its maximum height?**\n",
        "\n",
        "The stone's height is modeled by a quadratic function, whose graph is a parabola.\n",
        "\n",
        "The maximum height is reached at the vertex.\n",
        "\n",
        "So in order to find when that happens, we need to find the vertex's $x$-coordinate.\n",
        "\n",
        "The vertex's $x$-coordinate is the average of the two zeros, so let's find those first.\n",
        "\n",
        "\\begin{aligned} w(x)&=0 \\\\\\\\ -5(x-8)(x+4)&=0 \\\\\\\\ \\swarrow\\quad&\\searrow \\\\\\\\ x-8=0\\text{ or }&x+4=0 \\\\\\\\ x={8}\\text{ or }&x={-4} \\end{aligned}\n",
        "\n",
        "Now let's take the zeros' average:\n",
        "\n",
        "$\\dfrac{({8})+({-4})}{2}=\\dfrac42=2$\n",
        "\n",
        "**In conclusion, the stone will reach its maximum height after $2$ seconds.**"
      ]
    },
    {
      "metadata": {
        "id": "j0-yAXSwL_qE",
        "colab_type": "code",
        "outputId": "495918bd-da70-4acd-ded5-079f91ac49b7",
        "colab": {
          "base_uri": "https://localhost:8080/",
          "height": 35
        }
      },
      "cell_type": "code",
      "source": [
        "(-1 + 7) / 2"
      ],
      "execution_count": 0,
      "outputs": [
        {
          "output_type": "execute_result",
          "data": {
            "text/plain": [
              "3.0"
            ]
          },
          "metadata": {
            "tags": []
          },
          "execution_count": 2
        }
      ]
    },
    {
      "metadata": {
        "id": "iC0YIrLEHqZM",
        "colab_type": "text"
      },
      "cell_type": "markdown",
      "source": [
        "An object is launched from a platform.\n",
        "\n",
        "Its height (in meters), $x$ seconds after the launch, is modeled by\n",
        "\n",
        "$h(x)=-5(x+1)(x-9)$\n",
        "\n",
        "**How many seconds after launch will the object hit the ground?**\n",
        "\n",
        "The object hits the ground when $h(x)=0$.\n",
        "\n",
        "\\begin{aligned} h(x)&=0 \\\\\\\\ -5(x+1)(x-9)&=0 \\\\\\\\ \\swarrow\\quad&\\searrow \\\\\\\\ x+1=0\\text{ or }&x-9=0 \\\\\\\\ x=-1\\text{ or }&x=9 \\end{aligned}\n",
        "\n",
        "We found that $h(x)=0$ for $x=-1$ or $x=9$. Since $x=-1$ doesn't make sense in our context, the only reasonable answer is $x=9$.\n",
        "\n",
        "**In conclusion, the object will hit the ground after $9$ seconds.**"
      ]
    },
    {
      "metadata": {
        "id": "DQ9OWuH8UeUW",
        "colab_type": "code",
        "outputId": "1da142ff-9a1a-4a81-ed14-7dcab6e23ef9",
        "colab": {
          "base_uri": "https://localhost:8080/",
          "height": 35
        }
      },
      "cell_type": "code",
      "source": [
        "-5*(0 + 1)*(0 - 9)"
      ],
      "execution_count": 0,
      "outputs": [
        {
          "output_type": "execute_result",
          "data": {
            "text/plain": [
              "45"
            ]
          },
          "metadata": {
            "tags": []
          },
          "execution_count": 3
        }
      ]
    },
    {
      "metadata": {
        "id": "5R2KOXbeI_dS",
        "colab_type": "text"
      },
      "cell_type": "markdown",
      "source": [
        "A hovercraft takes off from a platform.\n",
        "\n",
        "Its height (in meters), $x$ seconds after takeoff, is modeled by\n",
        "\n",
        "$h(x)=-(x-11)(x+3)$\n",
        "\n",
        "**What is the height of the hovercraft at the time of takeoff?**\n",
        "\n",
        "The height of the hovercraft at the time of takeoff is given by $h(0)$.\n",
        "\n",
        "\\begin{aligned} h( 0)&=-( 0-11)( 0+3) \\\\\\\\ &=-(-11)(3) \\\\\\\\ &=33 \\end{aligned}\n",
        "\n",
        "**In conclusion, the height of the hovercraft at the time of takeoff is $33$ meters.**"
      ]
    },
    {
      "metadata": {
        "id": "lVWhIJqTrN2S",
        "colab_type": "text"
      },
      "cell_type": "markdown",
      "source": [
        "**How many seconds after takeoff will the hovercraft land on the ground?**\n",
        "\n",
        "The hovercraft lands on the ground when $h(x)=0$.\n",
        "\n",
        "\\begin{aligned} h(x)&=0 \\\\\\\\ -(x-11)(x+3)&=0 \\\\\\\\ \\swarrow\\quad&\\searrow \\\\\\\\ x-11=0\\text{ or }&x+3=0 \\\\\\\\ x=11\\text{ or }&x=-3 \\end{aligned}\n",
        "\n",
        "We found that $h(x)=0$ for $x=11$ or $x=-3$. Since $x=-3$ doesn't make sense in our context, the only reasonable answer is $x=11$.\n",
        "\n",
        "**In conclusion, the hovercraft will land on the ground after $11$ seconds.**"
      ]
    },
    {
      "metadata": {
        "id": "04MrG4-TrDtC",
        "colab_type": "code",
        "outputId": "7191867f-fb74-4c95-96ae-a5908ac97b71",
        "colab": {
          "base_uri": "https://localhost:8080/",
          "height": 35
        }
      },
      "cell_type": "code",
      "source": [
        "(11 + -3) / 2"
      ],
      "execution_count": 0,
      "outputs": [
        {
          "output_type": "execute_result",
          "data": {
            "text/plain": [
              "4.0"
            ]
          },
          "metadata": {
            "tags": []
          },
          "execution_count": 5
        }
      ]
    },
    {
      "metadata": {
        "id": "gOPh4oSwJ8_2",
        "colab_type": "text"
      },
      "cell_type": "markdown",
      "source": [
        "The power generated by an electrical circuit (in watts) as a function of its current $c$ (in amperes) is modeled by\n",
        "\n",
        "$P(c)=-15c(c-8)$\n",
        "\n",
        "**What current will produce the maximum power?**\n",
        "\n",
        "The circuit's power is modeled by a quadratic function, whose graph is a parabola.\n",
        "\n",
        "The maximum power is reached at the vertex.\n",
        "\n",
        "So in order to find the current that will produce the maximum power, we need to find the vertex's $x$-coordinate.\n",
        "\n",
        "The vertex's $x$-coordinate is the average of the two zeros, so let's find those first.\n",
        "\n",
        "\\begin{aligned} P(c)&=0 \\\\\\\\ -15c(c-8)&=0 \\\\\\\\ \\swarrow\\quad&\\searrow \\\\\\\\ -15c=0\\text{ or }&c-8=0 \\\\\\\\ c={0}\\text{ or }&c={8} \\end{aligned}\n",
        "\n",
        "Now let's take the zeros' average:\n",
        "\n",
        "$\\dfrac{({0})+({8})}{2}=\\dfrac82=4$\n",
        "\n",
        "**In conclusion, the maximum power occurs when the current is $4$ amperes.**"
      ]
    },
    {
      "metadata": {
        "id": "1Uq0grJpp-F6",
        "colab_type": "code",
        "outputId": "9a28432f-0d5e-4a53-c11d-2787dc22c30b",
        "colab": {
          "base_uri": "https://localhost:8080/",
          "height": 35
        }
      },
      "cell_type": "code",
      "source": [
        "-2*(2 - 4)"
      ],
      "execution_count": 0,
      "outputs": [
        {
          "output_type": "execute_result",
          "data": {
            "text/plain": [
              "4"
            ]
          },
          "metadata": {
            "tags": []
          },
          "execution_count": 4
        }
      ]
    },
    {
      "metadata": {
        "id": "9_oVcfROEEH1",
        "colab_type": "code",
        "outputId": "0fbc96df-83d6-47e5-e40e-f5f196d10a3b",
        "colab": {
          "base_uri": "https://localhost:8080/",
          "height": 35
        }
      },
      "cell_type": "code",
      "source": [
        "from sympy import *\n",
        "\n",
        "x = Symbol('x')\n",
        "\n",
        "solveset(Eq(x**2 + 7, 43))"
      ],
      "execution_count": 0,
      "outputs": [
        {
          "output_type": "execute_result",
          "data": {
            "text/plain": [
              "{-6, 6}"
            ]
          },
          "metadata": {
            "tags": []
          },
          "execution_count": 6
        }
      ]
    }
  ]
}