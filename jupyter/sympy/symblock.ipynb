{
 "cells": [
  {
   "cell_type": "markdown",
   "metadata": {},
   "source": [
    "# Floating block"
   ]
  },
  {
   "cell_type": "markdown",
   "metadata": {},
   "source": [
    "See http://farside.ph.utexas.edu/teaching/336L/Fluidhtml/node32.html  \n",
    "and http://datagenetics.com/blog/june22016/index.html"
   ]
  },
  {
   "cell_type": "markdown",
   "metadata": {},
   "source": [
    "Consider a long block with a unit square cross-section floating in a liquid. The liquid has a unit density and the bar has a uniform density of $\\rho$. Determine the stable equilibrium positions, $\\theta$, for all values of $\\rho$."
   ]
  },
  {
   "cell_type": "markdown",
   "metadata": {},
   "source": [
    "![Block at angle in liquid](floating.svg)"
   ]
  },
  {
   "cell_type": "markdown",
   "metadata": {},
   "source": [
    "## Three sides wetted"
   ]
  },
  {
   "cell_type": "markdown",
   "metadata": {},
   "source": [
    "Reorient our point of view to make the analysis easier. Start by assuming that three sides of the block are at least partially immersed. Assume also that $\\rho \\le 1/2$ and $\\theta \\le 45°$."
   ]
  },
  {
   "cell_type": "markdown",
   "metadata": {},
   "source": [
    "![Reoriented block with three wetted sides](three-sides.svg)"
   ]
  },
  {
   "cell_type": "code",
   "execution_count": 1,
   "metadata": {
    "collapsed": true
   },
   "outputs": [],
   "source": [
    "from sympy import *\n",
    "init_printing()"
   ]
  },
  {
   "cell_type": "code",
   "execution_count": 2,
   "metadata": {
    "collapsed": false
   },
   "outputs": [],
   "source": [
    "alpha, beta, rho, x, y, theta = symbols('alpha beta rho x y theta')"
   ]
  },
  {
   "cell_type": "markdown",
   "metadata": {},
   "source": [
    "Geometric equations:"
   ]
  },
  {
   "cell_type": "code",
   "execution_count": 3,
   "metadata": {
    "collapsed": false
   },
   "outputs": [],
   "source": [
    "e1 = rho - (alpha + beta)/2\n",
    "e2 = tan(theta) - (alpha - beta)\n",
    "s12 = solve((e1, e2), (alpha, beta))"
   ]
  },
  {
   "cell_type": "code",
   "execution_count": 4,
   "metadata": {
    "collapsed": false
   },
   "outputs": [
    {
     "data": {
      "image/png": "[encoded data removed]",
      "text/latex": [
       "$$\\left \\{ \\alpha : \\rho + \\frac{1}{2} \\tan{\\left (\\theta \\right )}, \\quad \\beta : \\rho - \\frac{1}{2} \\tan{\\left (\\theta \\right )}\\right \\}$$"
      ],
      "text/plain": [
       "⎧       tan(θ)         tan(θ)⎫\n",
       "⎨α: ρ + ──────, β: ρ - ──────⎬\n",
       "⎩         2              2   ⎭"
      ]
     },
     "execution_count": 4,
     "metadata": {},
     "output_type": "execute_result"
    }
   ],
   "source": [
    "s12"
   ]
  },
  {
   "cell_type": "markdown",
   "metadata": {},
   "source": [
    "Position of the center of buoyancy, $(x, y)$:"
   ]
  },
  {
   "cell_type": "code",
   "execution_count": 5,
   "metadata": {
    "collapsed": false
   },
   "outputs": [],
   "source": [
    "x = (Rational(1,2)*beta + Rational(1,3)*Rational(1,2)*(alpha-beta))/rho\n",
    "y = (beta/2*beta + (beta + Rational(1,3)*(alpha-beta))*Rational(1,2)*(alpha-beta))/rho"
   ]
  },
  {
   "cell_type": "code",
   "execution_count": 6,
   "metadata": {
    "collapsed": false
   },
   "outputs": [],
   "source": [
    "x = expand(x.subs(s12))"
   ]
  },
  {
   "cell_type": "code",
   "execution_count": 7,
   "metadata": {
    "collapsed": false
   },
   "outputs": [
    {
     "data": {
      "image/png": "[encoded data removed]",
      "text/latex": [
       "$$\\frac{1}{2} - \\frac{\\tan{\\left (\\theta \\right )}}{12 \\rho}$$"
      ],
      "text/plain": [
       "1   tan(θ)\n",
       "─ - ──────\n",
       "2    12⋅ρ "
      ]
     },
     "execution_count": 7,
     "metadata": {},
     "output_type": "execute_result"
    }
   ],
   "source": [
    "x"
   ]
  },
  {
   "cell_type": "code",
   "execution_count": 8,
   "metadata": {
    "collapsed": true
   },
   "outputs": [],
   "source": [
    "y = expand(y.subs(s12))"
   ]
  },
  {
   "cell_type": "code",
   "execution_count": 9,
   "metadata": {
    "collapsed": false
   },
   "outputs": [
    {
     "data": {
      "image/png": "[encoded data removed]",
      "text/latex": [
       "$$\\frac{\\rho}{2} + \\frac{\\tan^{2}{\\left (\\theta \\right )}}{24 \\rho}$$"
      ],
      "text/plain": [
       "       2   \n",
       "ρ   tan (θ)\n",
       "─ + ───────\n",
       "2     24⋅ρ "
      ]
     },
     "execution_count": 9,
     "metadata": {},
     "output_type": "execute_result"
    }
   ],
   "source": [
    "y"
   ]
  },
  {
   "cell_type": "markdown",
   "metadata": {},
   "source": [
    "Square of the distance from the center of mass of the block, $(1/2, 1/2)$, to the center of buoyancy, $r^2$"
   ]
  },
  {
   "cell_type": "code",
   "execution_count": 10,
   "metadata": {
    "collapsed": true
   },
   "outputs": [],
   "source": [
    "r2 = (Rational(1,2) - x)**2 + (Rational(1,2) - y)**2"
   ]
  },
  {
   "cell_type": "code",
   "execution_count": 11,
   "metadata": {
    "collapsed": false,
    "scrolled": true
   },
   "outputs": [
    {
     "data": {
      "image/png": "[encoded data removed]",
      "text/latex": [
       "$$\\left(- \\frac{\\rho}{2} + \\frac{1}{2} - \\frac{\\tan^{2}{\\left (\\theta \\right )}}{24 \\rho}\\right)^{2} + \\frac{\\tan^{2}{\\left (\\theta \\right )}}{144 \\rho^{2}}$$"
      ],
      "text/plain": [
       "                   2          \n",
       "⎛             2   ⎞       2   \n",
       "⎜  ρ   1   tan (θ)⎟    tan (θ)\n",
       "⎜- ─ + ─ - ───────⎟  + ───────\n",
       "⎝  2   2     24⋅ρ ⎠          2\n",
       "                        144⋅ρ "
      ]
     },
     "execution_count": 11,
     "metadata": {},
     "output_type": "execute_result"
    }
   ],
   "source": [
    "r2"
   ]
  },
  {
   "cell_type": "markdown",
   "metadata": {},
   "source": [
    "We want to minimize this w.r.t. $\\theta$. To make the math easier, note that $\\tan \\theta$ is monotonic with $\\theta$ over the range of interest, $0 \\le \\theta \\le \\pi/4$. So we can substitute $t = \\tan \\theta$ into the expression for $r^2$ and minimize w.r.t. $t$."
   ]
  },
  {
   "cell_type": "code",
   "execution_count": 12,
   "metadata": {
    "collapsed": true
   },
   "outputs": [],
   "source": [
    "t = symbols('t')"
   ]
  },
  {
   "cell_type": "code",
   "execution_count": 13,
   "metadata": {
    "collapsed": false
   },
   "outputs": [],
   "source": [
    "r2 = r2.subs(tan(theta), t)"
   ]
  },
  {
   "cell_type": "code",
   "execution_count": 14,
   "metadata": {
    "collapsed": false
   },
   "outputs": [
    {
     "data": {
      "image/png": "[encoded data removed]",
      "text/latex": [
       "$$\\left(- \\frac{\\rho}{2} + \\frac{1}{2} - \\frac{t^{2}}{24 \\rho}\\right)^{2} + \\frac{t^{2}}{144 \\rho^{2}}$$"
      ],
      "text/plain": [
       "                2         \n",
       "⎛            2 ⎞       2  \n",
       "⎜  ρ   1    t  ⎟      t   \n",
       "⎜- ─ + ─ - ────⎟  + ──────\n",
       "⎝  2   2   24⋅ρ⎠         2\n",
       "                    144⋅ρ "
      ]
     },
     "execution_count": 14,
     "metadata": {},
     "output_type": "execute_result"
    }
   ],
   "source": [
    "r2"
   ]
  },
  {
   "cell_type": "code",
   "execution_count": 15,
   "metadata": {
    "collapsed": true
   },
   "outputs": [],
   "source": [
    "d1 = diff(r2, t)"
   ]
  },
  {
   "cell_type": "code",
   "execution_count": 16,
   "metadata": {
    "collapsed": false
   },
   "outputs": [
    {
     "data": {
      "image/png": "[encoded data removed]",
      "text/latex": [
       "$$- \\frac{t}{6 \\rho} \\left(- \\frac{\\rho}{2} + \\frac{1}{2} - \\frac{t^{2}}{24 \\rho}\\right) + \\frac{t}{72 \\rho^{2}}$$"
      ],
      "text/plain": [
       "    ⎛            2 ⎞        \n",
       "    ⎜  ρ   1    t  ⎟        \n",
       "  t⋅⎜- ─ + ─ - ────⎟        \n",
       "    ⎝  2   2   24⋅ρ⎠     t  \n",
       "- ────────────────── + ─────\n",
       "         6⋅ρ               2\n",
       "                       72⋅ρ "
      ]
     },
     "execution_count": 16,
     "metadata": {},
     "output_type": "execute_result"
    }
   ],
   "source": [
    "d1"
   ]
  },
  {
   "cell_type": "code",
   "execution_count": 17,
   "metadata": {
    "collapsed": false
   },
   "outputs": [],
   "source": [
    "sd1 = solve(d1, t)"
   ]
  },
  {
   "cell_type": "code",
   "execution_count": 18,
   "metadata": {
    "collapsed": false
   },
   "outputs": [
    {
     "data": {
      "image/png": "[encoded data removed]",
      "text/latex": [
       "$$\\left [ 0, \\quad - \\sqrt{2} \\sqrt{- 6 \\rho^{2} + 6 \\rho - 1}, \\quad \\sqrt{2} \\sqrt{- 6 \\rho^{2} + 6 \\rho - 1}\\right ]$$"
      ],
      "text/plain": [
       "⎡          __________________        __________________⎤\n",
       "⎢         ╱      2                  ╱      2           ⎥\n",
       "⎣0, -√2⋅╲╱  - 6⋅ρ  + 6⋅ρ - 1 , √2⋅╲╱  - 6⋅ρ  + 6⋅ρ - 1 ⎦"
      ]
     },
     "execution_count": 18,
     "metadata": {},
     "output_type": "execute_result"
    }
   ],
   "source": [
    "sd1"
   ]
  },
  {
   "cell_type": "markdown",
   "metadata": {},
   "source": [
    "There are three solutions. The first is the simplest: $t = 0$, which means $\\theta = 0$. To determine whether this is a stable equilibrium position, we check the sign of the second derivative at $t = 0$."
   ]
  },
  {
   "cell_type": "code",
   "execution_count": 19,
   "metadata": {
    "collapsed": true
   },
   "outputs": [],
   "source": [
    "d2 = diff(d1, t)"
   ]
  },
  {
   "cell_type": "code",
   "execution_count": 20,
   "metadata": {
    "collapsed": false
   },
   "outputs": [
    {
     "data": {
      "image/png": "[encoded data removed]",
      "text/latex": [
       "$$- \\frac{1}{6 \\rho} \\left(- \\frac{\\rho}{2} + \\frac{1}{2} - \\frac{t^{2}}{24 \\rho}\\right) + \\frac{t^{2}}{72 \\rho^{2}} + \\frac{1}{72 \\rho^{2}}$$"
      ],
      "text/plain": [
       "              2                 \n",
       "    ρ   1    t                  \n",
       "  - ─ + ─ - ────      2         \n",
       "    2   2   24⋅ρ     t       1  \n",
       "- ────────────── + ───── + ─────\n",
       "       6⋅ρ             2       2\n",
       "                   72⋅ρ    72⋅ρ "
      ]
     },
     "execution_count": 20,
     "metadata": {},
     "output_type": "execute_result"
    }
   ],
   "source": [
    "d2"
   ]
  },
  {
   "cell_type": "code",
   "execution_count": 21,
   "metadata": {
    "collapsed": false
   },
   "outputs": [
    {
     "data": {
      "image/png": "[encoded data removed]",
      "text/latex": [
       "$$\\frac{1}{12} - \\frac{1}{12 \\rho} + \\frac{1}{72 \\rho^{2}}$$"
      ],
      "text/plain": [
       "1     1       1  \n",
       "── - ──── + ─────\n",
       "12   12⋅ρ       2\n",
       "            72⋅ρ "
      ]
     },
     "execution_count": 21,
     "metadata": {},
     "output_type": "execute_result"
    }
   ],
   "source": [
    "expand(d2.subs(t, 0))"
   ]
  },
  {
   "cell_type": "markdown",
   "metadata": {},
   "source": [
    "This is positive for very small values of $\\rho$, but will flip signs as $rho$ gets larger. To find the crossover point, solve for $\\rho$ when this becomes zero."
   ]
  },
  {
   "cell_type": "code",
   "execution_count": 22,
   "metadata": {
    "collapsed": false,
    "scrolled": false
   },
   "outputs": [],
   "source": [
    "s3 = solve(expand(d2.subs(t, 0)), rho)"
   ]
  },
  {
   "cell_type": "code",
   "execution_count": 23,
   "metadata": {
    "collapsed": false
   },
   "outputs": [
    {
     "data": {
      "image/png": "[encoded data removed]",
      "text/latex": [
       "$$\\left [ - \\frac{\\sqrt{3}}{6} + \\frac{1}{2}, \\quad \\frac{\\sqrt{3}}{6} + \\frac{1}{2}\\right ]$$"
      ],
      "text/plain": [
       "⎡  √3   1  √3   1⎤\n",
       "⎢- ── + ─, ── + ─⎥\n",
       "⎣  6    2  6    2⎦"
      ]
     },
     "execution_count": 23,
     "metadata": {},
     "output_type": "execute_result"
    }
   ],
   "source": [
    "s3"
   ]
  },
  {
   "cell_type": "markdown",
   "metadata": {},
   "source": [
    "The second solution is greater than $1/2$, so it's outside the range for which our analysis is valid. Therefore, the crossover point corresponds to the first solution and we have a stable solution of\n",
    "\n",
    "$$ \\theta = 0 \\quad \\text{for} \\quad 0 \\le \\rho \\le \\frac{1}{2} - \\frac{\\sqrt{3}}{6} $$\n",
    "\n",
    "In decimal form, the upper bound on $\\rho$ is"
   ]
  },
  {
   "cell_type": "code",
   "execution_count": 24,
   "metadata": {
    "collapsed": false
   },
   "outputs": [
    {
     "data": {
      "image/png": "[encoded data removed]",
      "text/latex": [
       "$$0.211324865405187$$"
      ],
      "text/plain": [
       "0.211324865405187"
      ]
     },
     "execution_count": 24,
     "metadata": {},
     "output_type": "execute_result"
    }
   ],
   "source": [
    "s3[0].evalf()"
   ]
  },
  {
   "cell_type": "markdown",
   "metadata": {},
   "source": [
    "Now let's look at the other two solutions. We can eliminate the second solution immediately, as it is negative and our analysis was set up for positive angles only. For the third solution to be valid, the discriminant has to be greater than or equal to zero."
   ]
  },
  {
   "cell_type": "code",
   "execution_count": 25,
   "metadata": {
    "collapsed": false,
    "scrolled": true
   },
   "outputs": [
    {
     "name": "stdout",
     "output_type": "stream",
     "text": [
      "sqrt(2)*sqrt(-6*rho**2 + 6*rho - 1)\n"
     ]
    }
   ],
   "source": [
    "print(sd1[2])"
   ]
  },
  {
   "cell_type": "code",
   "execution_count": 26,
   "metadata": {
    "collapsed": false
   },
   "outputs": [],
   "source": [
    "discriminant = -6*rho**2 + 6*rho - 1"
   ]
  },
  {
   "cell_type": "code",
   "execution_count": 27,
   "metadata": {
    "collapsed": false
   },
   "outputs": [
    {
     "data": {
      "image/png": "[encoded data removed]",
      "text/latex": [
       "$$- 6 \\rho^{2} + 6 \\rho - 1$$"
      ],
      "text/plain": [
       "     2          \n",
       "- 6⋅ρ  + 6⋅ρ - 1"
      ]
     },
     "execution_count": 27,
     "metadata": {},
     "output_type": "execute_result"
    }
   ],
   "source": [
    "discriminant"
   ]
  },
  {
   "cell_type": "markdown",
   "metadata": {},
   "source": [
    "This is negative for small values of $\\rho$. To determine where it crosses over to positive values, set it equal to zero and solve for $\\rho$."
   ]
  },
  {
   "cell_type": "code",
   "execution_count": 28,
   "metadata": {
    "collapsed": true
   },
   "outputs": [],
   "source": [
    "s4 = solve(discriminant, rho)"
   ]
  },
  {
   "cell_type": "code",
   "execution_count": 29,
   "metadata": {
    "collapsed": false
   },
   "outputs": [
    {
     "data": {
      "image/png": "[encoded data removed]",
      "text/latex": [
       "$$\\left [ - \\frac{\\sqrt{3}}{6} + \\frac{1}{2}, \\quad \\frac{\\sqrt{3}}{6} + \\frac{1}{2}\\right ]$$"
      ],
      "text/plain": [
       "⎡  √3   1  √3   1⎤\n",
       "⎢- ── + ─, ── + ─⎥\n",
       "⎣  6    2  6    2⎦"
      ]
     },
     "execution_count": 29,
     "metadata": {},
     "output_type": "execute_result"
    }
   ],
   "source": [
    "s4"
   ]
  },
  {
   "cell_type": "markdown",
   "metadata": {},
   "source": [
    "This is the same solution we got for the stability of the $\\theta = 0$ equilibrium point. This shouldn't be surprising, as the expression for the discriminant is a multiple of the expression for the second derivative at $\\theta=0$."
   ]
  },
  {
   "cell_type": "code",
   "execution_count": 30,
   "metadata": {
    "collapsed": false
   },
   "outputs": [
    {
     "name": "stdout",
     "output_type": "stream",
     "text": [
      "\\sqrt{2} \\sqrt{- 6 \\rho^{2} + 6 \\rho - 1}\n"
     ]
    }
   ],
   "source": [
    "print(latex(sd1[2]))"
   ]
  },
  {
   "cell_type": "markdown",
   "metadata": {},
   "source": [
    "So we have an equilibrium solution of\n",
    "\n",
    "$$ \\tan \\theta = \\sqrt{2} \\sqrt{- 6 \\rho^{2} + 6 \\rho - 1} \\quad \\text{for} \\quad \\rho \\ge \\frac{1}{2} - \\frac{\\sqrt{3}}{6} $$\n",
    "\n",
    "This solution is valid only for $\\beta \\ge 0$, because we started with the assumption that three sides of the block are wetted. Let's see how this limit can be expressed as a limit on $\\rho$."
   ]
  },
  {
   "cell_type": "code",
   "execution_count": 31,
   "metadata": {
    "collapsed": false
   },
   "outputs": [],
   "source": [
    "ebeta = beta.subs(s12).subs(tan(theta), sd1[2])"
   ]
  },
  {
   "cell_type": "code",
   "execution_count": 32,
   "metadata": {
    "collapsed": false
   },
   "outputs": [
    {
     "data": {
      "image/png": "[encoded data removed]",
      "text/latex": [
       "$$\\left [ \\frac{1}{4}, \\quad \\frac{1}{2}\\right ]$$"
      ],
      "text/plain": [
       "[1/4, 1/2]"
      ]
     },
     "execution_count": 32,
     "metadata": {},
     "output_type": "execute_result"
    }
   ],
   "source": [
    "solve(ebeta, rho)"
   ]
  },
  {
   "cell_type": "markdown",
   "metadata": {},
   "source": [
    "We get two solutions for $\\rho$. The second, $\\rho=1/2$, is a valid solution, but matches only the special case where the block is half-submerged with two opposite corners at the waterline. The first solution is the one that matches an intermediate angle. Therefore, our intermediate equilibrium solution is\n",
    "\n",
    "$$ \\tan \\theta = \\sqrt{2} \\sqrt{- 6 \\rho^{2} + 6 \\rho - 1} \\quad \\text{for} \\quad \\frac{1}{2} - \\frac{\\sqrt{3}}{6} \\le \\rho \\le \\frac{1}{4} $$"
   ]
  },
  {
   "cell_type": "markdown",
   "metadata": {},
   "source": [
    "We still haven't checked to see if this is a stable solution, though. We'll substitute this value of $t$ into the expression for the second derivative of $r^4$ and see what the sign is."
   ]
  },
  {
   "cell_type": "code",
   "execution_count": 33,
   "metadata": {
    "collapsed": false
   },
   "outputs": [],
   "source": [
    "d22 = expand(d2.subs(t, sqrt(2)*sqrt(-6*rho**2 + 6*rho - 1)))"
   ]
  },
  {
   "cell_type": "code",
   "execution_count": 34,
   "metadata": {
    "collapsed": false
   },
   "outputs": [
    {
     "data": {
      "image/png": "[encoded data removed]",
      "text/latex": [
       "$$- \\frac{1}{6} + \\frac{1}{6 \\rho} - \\frac{1}{36 \\rho^{2}}$$"
      ],
      "text/plain": [
       "  1    1      1  \n",
       "- ─ + ─── - ─────\n",
       "  6   6⋅ρ       2\n",
       "            36⋅ρ "
      ]
     },
     "execution_count": 34,
     "metadata": {},
     "output_type": "execute_result"
    }
   ],
   "source": [
    "d22"
   ]
  },
  {
   "cell_type": "code",
   "execution_count": 35,
   "metadata": {
    "collapsed": false
   },
   "outputs": [
    {
     "data": {
      "image/png": "[encoded data removed]",
      "text/latex": [
       "$$\\frac{1}{18}$$"
      ],
      "text/plain": [
       "1/18"
      ]
     },
     "execution_count": 35,
     "metadata": {},
     "output_type": "execute_result"
    }
   ],
   "source": [
    "d22.subs(rho, Rational(1,4))"
   ]
  },
  {
   "cell_type": "code",
   "execution_count": 36,
   "metadata": {
    "collapsed": false
   },
   "outputs": [
    {
     "data": {
      "image/png": "[encoded data removed]",
      "text/latex": [
       "$$0$$"
      ],
      "text/plain": [
       "0"
      ]
     },
     "execution_count": 36,
     "metadata": {},
     "output_type": "execute_result"
    }
   ],
   "source": [
    "simplify(d22.subs(rho, Rational(1,2) - sqrt(3)/6))"
   ]
  },
  {
   "cell_type": "code",
   "execution_count": 37,
   "metadata": {
    "collapsed": false
   },
   "outputs": [
    {
     "data": {
      "image/png": "[encoded data removed]",
      "text/latex": [
       "$$0.0035425559792418$$"
      ],
      "text/plain": [
       "0.00354255597924180"
      ]
     },
     "execution_count": 37,
     "metadata": {},
     "output_type": "execute_result"
    }
   ],
   "source": [
    "d22.subs(rho, .213)"
   ]
  },
  {
   "cell_type": "markdown",
   "metadata": {},
   "source": [
    "If I knew SymPy better, I'd probably be able to show that the second derivative is greater than zero for all values of $\\rho$ in the range for which we have an intermediate equilibrium solution. But I can test it for many values between 0.2113 and .25, and it works for all of them. So I'm going to conclude that the intermediate equilibrium solution is stable over that entire range of $\\rho$."
   ]
  },
  {
   "cell_type": "markdown",
   "metadata": {},
   "source": [
    "## Two sides wetted"
   ]
  },
  {
   "cell_type": "markdown",
   "metadata": {},
   "source": [
    "We're sticking with the assumption that $\\rho \\le 1/2$, but now we're assuming that the block has tilted far enough that only two sides are partially immersed."
   ]
  },
  {
   "cell_type": "markdown",
   "metadata": {},
   "source": [
    "![Block with two sides wetted](two-sides.svg)"
   ]
  },
  {
   "cell_type": "markdown",
   "metadata": {},
   "source": [
    "Geometric equations:"
   ]
  },
  {
   "cell_type": "code",
   "execution_count": 38,
   "metadata": {
    "collapsed": false
   },
   "outputs": [],
   "source": [
    "e4 = rho - alpha*beta/2\n",
    "e5 = tan(theta) - alpha/beta\n",
    "s45 = solve((e4, e5), (alpha, beta))"
   ]
  },
  {
   "cell_type": "code",
   "execution_count": 39,
   "metadata": {
    "collapsed": false,
    "scrolled": true
   },
   "outputs": [
    {
     "data": {
      "image/png": "[encoded data removed]",
      "text/latex": [
       "$$\\left [ \\left ( - \\sqrt{2} \\sqrt{\\frac{\\rho}{\\tan{\\left (\\theta \\right )}}} \\tan{\\left (\\theta \\right )}, \\quad - \\sqrt{2} \\sqrt{\\frac{\\rho}{\\tan{\\left (\\theta \\right )}}}\\right ), \\quad \\left ( \\sqrt{2} \\sqrt{\\frac{\\rho}{\\tan{\\left (\\theta \\right )}}} \\tan{\\left (\\theta \\right )}, \\quad \\sqrt{2} \\sqrt{\\frac{\\rho}{\\tan{\\left (\\theta \\right )}}}\\right )\\right ]$$"
      ],
      "text/plain": [
       "⎡⎛        ________                 ________⎞  ⎛       ________                \n",
       "⎢⎜       ╱   ρ                    ╱   ρ    ⎟  ⎜      ╱   ρ                   ╱\n",
       "⎢⎜-√2⋅  ╱  ────── ⋅tan(θ), -√2⋅  ╱  ────── ⎟, ⎜√2⋅  ╱  ────── ⋅tan(θ), √2⋅  ╱ \n",
       "⎣⎝    ╲╱   tan(θ)              ╲╱   tan(θ) ⎠  ⎝   ╲╱   tan(θ)             ╲╱  \n",
       "\n",
       "________⎞⎤\n",
       "   ρ    ⎟⎥\n",
       " ────── ⎟⎥\n",
       " tan(θ) ⎠⎦"
      ]
     },
     "execution_count": 39,
     "metadata": {},
     "output_type": "execute_result"
    }
   ],
   "source": [
    "s45"
   ]
  },
  {
   "cell_type": "markdown",
   "metadata": {},
   "source": [
    "Only the second makes physical sense because it gives positive values."
   ]
  },
  {
   "cell_type": "code",
   "execution_count": 40,
   "metadata": {
    "collapsed": false
   },
   "outputs": [
    {
     "data": {
      "image/png": "[encoded data removed]",
      "text/latex": [
       "$$\\left ( \\sqrt{2} \\sqrt{\\frac{\\rho}{\\tan{\\left (\\theta \\right )}}} \\tan{\\left (\\theta \\right )}, \\quad \\sqrt{2} \\sqrt{\\frac{\\rho}{\\tan{\\left (\\theta \\right )}}}\\right )$$"
      ],
      "text/plain": [
       "⎛       ________                ________⎞\n",
       "⎜      ╱   ρ                   ╱   ρ    ⎟\n",
       "⎜√2⋅  ╱  ────── ⋅tan(θ), √2⋅  ╱  ────── ⎟\n",
       "⎝   ╲╱   tan(θ)             ╲╱   tan(θ) ⎠"
      ]
     },
     "execution_count": 40,
     "metadata": {},
     "output_type": "execute_result"
    }
   ],
   "source": [
    "s45[1]"
   ]
  },
  {
   "cell_type": "code",
   "execution_count": 41,
   "metadata": {
    "collapsed": false
   },
   "outputs": [],
   "source": [
    "alpha = s45[1][0]"
   ]
  },
  {
   "cell_type": "code",
   "execution_count": 42,
   "metadata": {
    "collapsed": false
   },
   "outputs": [],
   "source": [
    "beta = s45[1][1]"
   ]
  },
  {
   "cell_type": "code",
   "execution_count": 43,
   "metadata": {
    "collapsed": false
   },
   "outputs": [
    {
     "data": {
      "image/png": "[encoded data removed]",
      "text/latex": [
       "$$\\sqrt{2} \\sqrt{\\frac{\\rho}{\\tan{\\left (\\theta \\right )}}} \\tan{\\left (\\theta \\right )}$$"
      ],
      "text/plain": [
       "       ________       \n",
       "      ╱   ρ           \n",
       "√2⋅  ╱  ────── ⋅tan(θ)\n",
       "   ╲╱   tan(θ)        "
      ]
     },
     "execution_count": 43,
     "metadata": {},
     "output_type": "execute_result"
    }
   ],
   "source": [
    "alpha"
   ]
  },
  {
   "cell_type": "code",
   "execution_count": 44,
   "metadata": {
    "collapsed": false
   },
   "outputs": [
    {
     "data": {
      "image/png": "[encoded data removed]",
      "text/latex": [
       "$$\\sqrt{2} \\sqrt{\\frac{\\rho}{\\tan{\\left (\\theta \\right )}}}$$"
      ],
      "text/plain": [
       "       ________\n",
       "      ╱   ρ    \n",
       "√2⋅  ╱  ────── \n",
       "   ╲╱   tan(θ) "
      ]
     },
     "execution_count": 44,
     "metadata": {},
     "output_type": "execute_result"
    }
   ],
   "source": [
    "beta"
   ]
  },
  {
   "cell_type": "markdown",
   "metadata": {},
   "source": [
    "Coordinates of the center of buoyancy"
   ]
  },
  {
   "cell_type": "code",
   "execution_count": 45,
   "metadata": {
    "collapsed": true
   },
   "outputs": [],
   "source": [
    "x = Rational(1,3)*beta\n",
    "y = Rational(1,3)*alpha"
   ]
  },
  {
   "cell_type": "code",
   "execution_count": 46,
   "metadata": {
    "collapsed": false
   },
   "outputs": [
    {
     "data": {
      "image/png": "[encoded data removed]",
      "text/latex": [
       "$$\\frac{\\sqrt{2}}{3} \\sqrt{\\frac{\\rho}{\\tan{\\left (\\theta \\right )}}}$$"
      ],
      "text/plain": [
       "       ________\n",
       "      ╱   ρ    \n",
       "√2⋅  ╱  ────── \n",
       "   ╲╱   tan(θ) \n",
       "───────────────\n",
       "       3       "
      ]
     },
     "execution_count": 46,
     "metadata": {},
     "output_type": "execute_result"
    }
   ],
   "source": [
    "x"
   ]
  },
  {
   "cell_type": "code",
   "execution_count": 47,
   "metadata": {
    "collapsed": false
   },
   "outputs": [
    {
     "data": {
      "image/png": "[encoded data removed]",
      "text/latex": [
       "$$\\frac{\\sqrt{2}}{3} \\sqrt{\\frac{\\rho}{\\tan{\\left (\\theta \\right )}}} \\tan{\\left (\\theta \\right )}$$"
      ],
      "text/plain": [
       "       ________       \n",
       "      ╱   ρ           \n",
       "√2⋅  ╱  ────── ⋅tan(θ)\n",
       "   ╲╱   tan(θ)        \n",
       "──────────────────────\n",
       "          3           "
      ]
     },
     "execution_count": 47,
     "metadata": {},
     "output_type": "execute_result"
    }
   ],
   "source": [
    "y"
   ]
  },
  {
   "cell_type": "markdown",
   "metadata": {},
   "source": [
    "As before, get an expression for the square of distance from the center of mass of the block to the center of buoyancy, $r^2$:"
   ]
  },
  {
   "cell_type": "code",
   "execution_count": 48,
   "metadata": {
    "collapsed": true
   },
   "outputs": [],
   "source": [
    "r2 = (Rational(1,2) - x)**2 + (Rational(1,2) - y)**2"
   ]
  },
  {
   "cell_type": "code",
   "execution_count": 49,
   "metadata": {
    "collapsed": false,
    "scrolled": true
   },
   "outputs": [
    {
     "data": {
      "image/png": "[encoded data removed]",
      "text/latex": [
       "$$\\left(- \\frac{\\sqrt{2}}{3} \\sqrt{\\frac{\\rho}{\\tan{\\left (\\theta \\right )}}} + \\frac{1}{2}\\right)^{2} + \\left(- \\frac{\\sqrt{2}}{3} \\sqrt{\\frac{\\rho}{\\tan{\\left (\\theta \\right )}}} \\tan{\\left (\\theta \\right )} + \\frac{1}{2}\\right)^{2}$$"
      ],
      "text/plain": [
       "                       2                                 2\n",
       "⎛         ________    ⎞    ⎛         ________           ⎞ \n",
       "⎜        ╱   ρ        ⎟    ⎜        ╱   ρ               ⎟ \n",
       "⎜  √2⋅  ╱  ──────     ⎟    ⎜  √2⋅  ╱  ────── ⋅tan(θ)    ⎟ \n",
       "⎜     ╲╱   tan(θ)    1⎟    ⎜     ╲╱   tan(θ)           1⎟ \n",
       "⎜- ─────────────── + ─⎟  + ⎜- ────────────────────── + ─⎟ \n",
       "⎝         3          2⎠    ⎝            3              2⎠ "
      ]
     },
     "execution_count": 49,
     "metadata": {},
     "output_type": "execute_result"
    }
   ],
   "source": [
    "r2"
   ]
  },
  {
   "cell_type": "markdown",
   "metadata": {},
   "source": [
    "Simplify the math by substituting $t$ for $\\tan \\theta$."
   ]
  },
  {
   "cell_type": "code",
   "execution_count": 50,
   "metadata": {
    "collapsed": true
   },
   "outputs": [],
   "source": [
    "r2 = r2.subs(tan(theta), t)"
   ]
  },
  {
   "cell_type": "code",
   "execution_count": 51,
   "metadata": {
    "collapsed": false,
    "scrolled": true
   },
   "outputs": [
    {
     "data": {
      "image/png": "[encoded data removed]",
      "text/latex": [
       "$$\\left(- \\frac{\\sqrt{2} \\sqrt{\\frac{\\rho}{t}}}{3} + \\frac{1}{2}\\right)^{2} + \\left(- \\frac{\\sqrt{2} t}{3} \\sqrt{\\frac{\\rho}{t}} + \\frac{1}{2}\\right)^{2}$$"
      ],
      "text/plain": [
       "                  2                       2\n",
       "⎛         ___    ⎞    ⎛           ___    ⎞ \n",
       "⎜        ╱ ρ     ⎟    ⎜          ╱ ρ     ⎟ \n",
       "⎜  √2⋅  ╱  ─     ⎟    ⎜  √2⋅t⋅  ╱  ─     ⎟ \n",
       "⎜     ╲╱   t    1⎟    ⎜       ╲╱   t    1⎟ \n",
       "⎜- ────────── + ─⎟  + ⎜- ──────────── + ─⎟ \n",
       "⎝      3        2⎠    ⎝       3         2⎠ "
      ]
     },
     "execution_count": 51,
     "metadata": {},
     "output_type": "execute_result"
    }
   ],
   "source": [
    "r2"
   ]
  },
  {
   "cell_type": "markdown",
   "metadata": {},
   "source": [
    "Find the equilibrium positions by taking the derivative w.r.t. $t$ and setting it equal to zero."
   ]
  },
  {
   "cell_type": "code",
   "execution_count": 52,
   "metadata": {
    "collapsed": true
   },
   "outputs": [],
   "source": [
    "d3 = diff(r2, t)"
   ]
  },
  {
   "cell_type": "code",
   "execution_count": 53,
   "metadata": {
    "collapsed": false
   },
   "outputs": [],
   "source": [
    "d3 = expand(d3)"
   ]
  },
  {
   "cell_type": "code",
   "execution_count": 54,
   "metadata": {
    "collapsed": false
   },
   "outputs": [
    {
     "data": {
      "image/png": "[encoded data removed]",
      "text/latex": [
       "$$- \\frac{2 \\rho}{9 t^{2}} + \\frac{2 \\rho}{9} - \\frac{\\sqrt{2} \\sqrt{\\frac{\\rho}{t}}}{6} + \\frac{\\sqrt{2} \\sqrt{\\frac{\\rho}{t}}}{6 t}$$"
      ],
      "text/plain": [
       "                        ___          ___\n",
       "             ρ         ╱ ρ          ╱ ρ \n",
       "         2⋅t⋅─   √2⋅  ╱  ─    √2⋅  ╱  ─ \n",
       "  2⋅ρ        t      ╲╱   t       ╲╱   t \n",
       "- ──── + ───── - ────────── + ──────────\n",
       "     2     9         6           6⋅t    \n",
       "  9⋅t                                   "
      ]
     },
     "execution_count": 54,
     "metadata": {},
     "output_type": "execute_result"
    }
   ],
   "source": [
    "d3"
   ]
  },
  {
   "cell_type": "code",
   "execution_count": 55,
   "metadata": {
    "collapsed": false
   },
   "outputs": [],
   "source": [
    "sd3 = solve(d3, t)"
   ]
  },
  {
   "cell_type": "code",
   "execution_count": 56,
   "metadata": {
    "collapsed": false
   },
   "outputs": [
    {
     "data": {
      "image/png": "[encoded data removed]",
      "text/latex": [
       "$$\\left [ 1, \\quad - \\frac{1}{16 \\rho} \\left(16 \\rho - 3 \\sqrt{- 32 \\rho + 9} - 9\\right), \\quad - \\frac{1}{16 \\rho} \\left(16 \\rho + 3 \\sqrt{- 32 \\rho + 9} - 9\\right)\\right ]$$"
      ],
      "text/plain": [
       "⎡    ⎛           ___________    ⎞    ⎛           ___________    ⎞ ⎤\n",
       "⎢   -⎝16⋅ρ - 3⋅╲╱ -32⋅ρ + 9  - 9⎠   -⎝16⋅ρ + 3⋅╲╱ -32⋅ρ + 9  - 9⎠ ⎥\n",
       "⎢1, ──────────────────────────────, ──────────────────────────────⎥\n",
       "⎣                16⋅ρ                            16⋅ρ             ⎦"
      ]
     },
     "execution_count": 56,
     "metadata": {},
     "output_type": "execute_result"
    }
   ],
   "source": [
    "sd3"
   ]
  },
  {
   "cell_type": "markdown",
   "metadata": {},
   "source": [
    "In the first solution, $t = \\tan \\theta = 1$, the block is tipped to a 45° angle, which is an obvious solution. To determine whether this is a stable position, we investigate the second derivative at $t= 1$."
   ]
  },
  {
   "cell_type": "code",
   "execution_count": 57,
   "metadata": {
    "collapsed": true
   },
   "outputs": [],
   "source": [
    "d4 = diff(d3, t)"
   ]
  },
  {
   "cell_type": "code",
   "execution_count": 58,
   "metadata": {
    "collapsed": false,
    "scrolled": true
   },
   "outputs": [],
   "source": [
    "d41 = d4.subs(t, 1)"
   ]
  },
  {
   "cell_type": "code",
   "execution_count": 59,
   "metadata": {
    "collapsed": false
   },
   "outputs": [
    {
     "data": {
      "image/png": "[encoded data removed]",
      "text/latex": [
       "$$-0.00674001908664681$$"
      ],
      "text/plain": [
       "-0.00674001908664681"
      ]
     },
     "execution_count": 59,
     "metadata": {},
     "output_type": "execute_result"
    }
   ],
   "source": [
    "d41.subs(rho, .25).evalf()"
   ]
  },
  {
   "cell_type": "code",
   "execution_count": 60,
   "metadata": {
    "collapsed": false
   },
   "outputs": [
    {
     "data": {
      "image/png": "[encoded data removed]",
      "text/latex": [
       "$$\\left [ 0, \\quad \\frac{9}{32}\\right ]$$"
      ],
      "text/plain": [
       "[0, 9/32]"
      ]
     },
     "execution_count": 60,
     "metadata": {},
     "output_type": "execute_result"
    }
   ],
   "source": [
    "solve(d4.subs(t, 1))"
   ]
  },
  {
   "cell_type": "code",
   "execution_count": 61,
   "metadata": {
    "collapsed": false
   },
   "outputs": [
    {
     "data": {
      "image/png": "[encoded data removed]",
      "text/latex": [
       "$$1.10813949114698 \\cdot 10^{-17}$$"
      ],
      "text/plain": [
       "1.10813949114698e-17"
      ]
     },
     "execution_count": 61,
     "metadata": {},
     "output_type": "execute_result"
    }
   ],
   "source": [
    "d41.subs(rho, 9/32).evalf()"
   ]
  },
  {
   "cell_type": "code",
   "execution_count": 62,
   "metadata": {
    "collapsed": false
   },
   "outputs": [
    {
     "data": {
      "image/png": "[encoded data removed]",
      "text/latex": [
       "$$0.00712731971520642$$"
      ],
      "text/plain": [
       "0.00712731971520642"
      ]
     },
     "execution_count": 62,
     "metadata": {},
     "output_type": "execute_result"
    }
   ],
   "source": [
    "d41.subs(rho, 10/32).evalf()"
   ]
  },
  {
   "cell_type": "markdown",
   "metadata": {},
   "source": [
    "The second derivative is positive for $\\rho \\ge 9/32$, so we have stable equilibrium at\n",
    "\n",
    "$$ \\theta = \\frac{\\pi}{4} \\quad \\text{for} \\quad \\frac{9}{32} \\le \\rho \\le \\frac{1}{2} $$"
   ]
  },
  {
   "cell_type": "markdown",
   "metadata": {},
   "source": [
    "Now let's explore the other solutions."
   ]
  },
  {
   "cell_type": "code",
   "execution_count": 63,
   "metadata": {
    "collapsed": false
   },
   "outputs": [],
   "source": [
    "sd31 = expand(sd3[1])"
   ]
  },
  {
   "cell_type": "code",
   "execution_count": 64,
   "metadata": {
    "collapsed": false
   },
   "outputs": [],
   "source": [
    "sd32 = expand(sd3[2])"
   ]
  },
  {
   "cell_type": "code",
   "execution_count": 65,
   "metadata": {
    "collapsed": false
   },
   "outputs": [
    {
     "data": {
      "image/png": "[encoded data removed]",
      "text/latex": [
       "$$-1 + \\frac{3}{16 \\rho} \\sqrt{- 32 \\rho + 9} + \\frac{9}{16 \\rho}$$"
      ],
      "text/plain": [
       "         ___________       \n",
       "     3⋅╲╱ -32⋅ρ + 9     9  \n",
       "-1 + ─────────────── + ────\n",
       "           16⋅ρ        16⋅ρ"
      ]
     },
     "execution_count": 65,
     "metadata": {},
     "output_type": "execute_result"
    }
   ],
   "source": [
    "sd31"
   ]
  },
  {
   "cell_type": "code",
   "execution_count": 66,
   "metadata": {
    "collapsed": false
   },
   "outputs": [
    {
     "data": {
      "image/png": "[encoded data removed]",
      "text/latex": [
       "$$-1 - \\frac{3}{16 \\rho} \\sqrt{- 32 \\rho + 9} + \\frac{9}{16 \\rho}$$"
      ],
      "text/plain": [
       "         ___________       \n",
       "     3⋅╲╱ -32⋅ρ + 9     9  \n",
       "-1 - ─────────────── + ────\n",
       "           16⋅ρ        16⋅ρ"
      ]
     },
     "execution_count": 66,
     "metadata": {},
     "output_type": "execute_result"
    }
   ],
   "source": [
    "sd32"
   ]
  },
  {
   "cell_type": "markdown",
   "metadata": {},
   "source": [
    "In both cases, the discriminant is non-negative when $\\rho \\le 9/32$, so that condition must be met for valid solutions."
   ]
  },
  {
   "cell_type": "code",
   "execution_count": 67,
   "metadata": {
    "collapsed": false
   },
   "outputs": [
    {
     "data": {
      "image/png": "[encoded data removed]",
      "text/latex": [
       "$$1.5$$"
      ],
      "text/plain": [
       "1.50000000000000"
      ]
     },
     "execution_count": 67,
     "metadata": {},
     "output_type": "execute_result"
    }
   ],
   "source": [
    "sd31.subs(rho, .27)"
   ]
  },
  {
   "cell_type": "code",
   "execution_count": 68,
   "metadata": {
    "collapsed": false
   },
   "outputs": [
    {
     "data": {
      "image/png": "[encoded data removed]",
      "text/latex": [
       "$$0.666666666666667$$"
      ],
      "text/plain": [
       "0.666666666666667"
      ]
     },
     "execution_count": 68,
     "metadata": {},
     "output_type": "execute_result"
    }
   ],
   "source": [
    "sd32.subs(rho, .27)"
   ]
  },
  {
   "cell_type": "markdown",
   "metadata": {},
   "source": [
    "The second solution is gives $t = \\tan \\theta \\gt 1$, so it isn't valid because it violates our initial assumptions. The third solution is valid. Let's now look for its lower bound, which is when $\\beta = 1$."
   ]
  },
  {
   "cell_type": "code",
   "execution_count": 69,
   "metadata": {
    "collapsed": false
   },
   "outputs": [
    {
     "name": "stdout",
     "output_type": "stream",
     "text": [
      "-1 - 3*sqrt(-32*rho + 9)/(16*rho) + 9/(16*rho)\n"
     ]
    }
   ],
   "source": [
    "print(sd32)"
   ]
  },
  {
   "cell_type": "code",
   "execution_count": 70,
   "metadata": {
    "collapsed": false
   },
   "outputs": [
    {
     "name": "stdout",
     "output_type": "stream",
     "text": [
      "-1 - \\frac{3}{16 \\rho} \\sqrt{- 32 \\rho + 9} + \\frac{9}{16 \\rho}\n"
     ]
    }
   ],
   "source": [
    "print(latex(sd32))"
   ]
  },
  {
   "cell_type": "code",
   "execution_count": 71,
   "metadata": {
    "collapsed": false
   },
   "outputs": [
    {
     "data": {
      "image/png": "[encoded data removed]",
      "text/latex": [
       "$$\\left [ \\frac{1}{4}\\right ]$$"
      ],
      "text/plain": [
       "[1/4]"
      ]
     },
     "execution_count": 71,
     "metadata": {},
     "output_type": "execute_result"
    }
   ],
   "source": [
    "solve(1 - beta.subs(tan(theta), -1 - 3*sqrt(-32*rho + 9)/(16*rho) + 9/(16*rho)), rho)"
   ]
  },
  {
   "cell_type": "markdown",
   "metadata": {},
   "source": [
    "So we have this equilibrium solution for the case of two wetted sides:\n",
    "\n",
    "$$ \\tan \\theta = -1 - \\frac{3}{16 \\rho} \\sqrt{- 32 \\rho + 9} + \\frac{9}{16 \\rho} \\quad \\text{for} \\quad \\frac{1}{4} \\le \\rho \\le \\frac{9}{32} $$\n",
    "\n",
    "We need to see if this is a stable equilibrium."
   ]
  },
  {
   "cell_type": "code",
   "execution_count": 72,
   "metadata": {
    "collapsed": true
   },
   "outputs": [],
   "source": [
    "d43 = d4.subs(t, sd32)"
   ]
  },
  {
   "cell_type": "code",
   "execution_count": 73,
   "metadata": {
    "collapsed": false
   },
   "outputs": [
    {
     "data": {
      "image/png": "[encoded data removed]",
      "text/latex": [
       "$$0.0555555555555555$$"
      ],
      "text/plain": [
       "0.0555555555555555"
      ]
     },
     "execution_count": 73,
     "metadata": {},
     "output_type": "execute_result"
    }
   ],
   "source": [
    "d43.subs(rho, .25).evalf()"
   ]
  },
  {
   "cell_type": "code",
   "execution_count": 74,
   "metadata": {
    "collapsed": false
   },
   "outputs": [
    {
     "data": {
      "image/png": "[encoded data removed]",
      "text/latex": [
       "$$0.00953564632494512$$"
      ],
      "text/plain": [
       "0.00953564632494512"
      ]
     },
     "execution_count": 74,
     "metadata": {},
     "output_type": "execute_result"
    }
   ],
   "source": [
    "d43.subs(rho, 9/32-.01).evalf()"
   ]
  },
  {
   "cell_type": "markdown",
   "metadata": {},
   "source": [
    "The second derivative of $r^2$ is positive, so this is a stable equilibrium."
   ]
  },
  {
   "cell_type": "markdown",
   "metadata": {},
   "source": [
    "## Summary"
   ]
  },
  {
   "cell_type": "markdown",
   "metadata": {},
   "source": [
    "The stable equilibrium positions are\n",
    "\n",
    "$$ \\theta = 0 \\quad \\text{for} \\quad 0 \\le \\rho \\le \\frac{1}{2} - \\frac{\\sqrt{3}}{6} $$\n",
    "\n",
    "$$ \\tan \\theta = \\sqrt{2} \\sqrt{- 6 \\rho^{2} + 6 \\rho - 1} \\quad \\text{for} \\quad \\frac{1}{2} - \\frac{\\sqrt{3}}{6} \\le \\rho \\le \\frac{1}{4} $$\n",
    "\n",
    "$$ \\tan \\theta = - \\frac{1}{16 \\rho} \\left(16 \\rho + 3 \\sqrt{- 32 \\rho + 9} - 9\\right) \\quad \\text{for} \\quad \\frac{1}{4} \\le \\rho \\le \\frac{9}{32} $$\n",
    "\n",
    "$$ \\theta = \\frac{\\pi}{4} \\quad \\text{for} \\quad \\frac{9}{32} \\le \\rho \\le \\frac{1}{2} $$"
   ]
  },
  {
   "cell_type": "markdown",
   "metadata": {},
   "source": [
    "When the density is greater than $1/2$, the solutions are equivalent to those for $\\rho^\\prime = 1 - \\rho$."
   ]
  },
  {
   "cell_type": "markdown",
   "metadata": {},
   "source": [
    "## Plotting results"
   ]
  },
  {
   "cell_type": "code",
   "execution_count": 75,
   "metadata": {
    "collapsed": false
   },
   "outputs": [],
   "source": [
    "import matplotlib.pyplot as plt\n",
    "from matplotlib import rcParams\n",
    "%matplotlib inline"
   ]
  },
  {
   "cell_type": "code",
   "execution_count": 76,
   "metadata": {
    "collapsed": true
   },
   "outputs": [],
   "source": [
    "density = [z/200 for z in range(201) ]"
   ]
  },
  {
   "cell_type": "code",
   "execution_count": 77,
   "metadata": {
    "collapsed": false
   },
   "outputs": [],
   "source": [
    "def ang(dens):\n",
    "    if dens > 1/2:\n",
    "        dens = 1 - dens\n",
    "    if  0 <= dens < 1/2 - 1/sqrt(12):\n",
    "        return 0\n",
    "    elif 1/2 - 1/sqrt(12) <= dens < 1/4:\n",
    "        return atan(sqrt(2)*sqrt(-6*dens**2 + 6*dens - 1)).evalf()\n",
    "    elif 1/4 <= dens < 9/32:\n",
    "        return atan(-(16*dens + 3*sqrt(-32*dens + 9) - 9)/(16*dens)).evalf()\n",
    "    else:\n",
    "        return (pi/4).evalf()"
   ]
  },
  {
   "cell_type": "code",
   "execution_count": 78,
   "metadata": {
    "collapsed": false
   },
   "outputs": [],
   "source": [
    "angle = [ ang(dens)*180/pi for dens in density ]"
   ]
  },
  {
   "cell_type": "code",
   "execution_count": 79,
   "metadata": {
    "collapsed": false
   },
   "outputs": [
    {
     "data": {
      "image/png": "[encoded data removed]",
      "text/latex": [
       "$$\\left ( 0, \\quad 50\\right )$$"
      ],
      "text/plain": [
       "(0, 50)"
      ]
     },
     "execution_count": 79,
     "metadata": {},
     "output_type": "execute_result"
    },
    {
     "data": {
      "image/png": "[encoded data removed]",
      "text/plain": [
       "<matplotlib.figure.Figure at 0x107253710>"
      ]
     },
     "metadata": {},
     "output_type": "display_data"
    }
   ],
   "source": [
    "rcParams['figure.figsize'] = (12, 5)\n",
    "plt.plot(density, angle, linewidth=3)\n",
    "plt.ylim(0, 50)"
   ]
  }
 ],
 "metadata": {
  "kernelspec": {
   "display_name": "Python 2",
   "language": "python",
   "name": "python2"
  },
  "language_info": {
   "codemirror_mode": {
    "name": "ipython",
    "version": 2
   },
   "file_extension": ".py",
   "mimetype": "text/x-python",
   "name": "python",
   "nbconvert_exporter": "python",
   "pygments_lexer": "ipython2",
   "version": "2.7.11"
  }
 },
 "nbformat": 4,
 "nbformat_minor": 0
}
