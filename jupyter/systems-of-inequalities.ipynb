{
  "nbformat": 4,
  "nbformat_minor": 0,
  "metadata": {
    "colab": {
      "name": "Copy of systems-of-inequalities.ipynb",
      "version": "0.3.2",
      "provenance": [],
      "include_colab_link": true
    },
    "kernelspec": {
      "display_name": "Python 3",
      "language": "python",
      "name": "python3"
    }
  },
  "cells": [
    {
      "cell_type": "markdown",
      "metadata": {
        "id": "view-in-github",
        "colab_type": "text"
      },
      "source": [
        "<a href=\"https://colab.research.google.com/github/porkostomus/jupyter/blob/master/systems-of-inequalities.ipynb\" target=\"_parent\"><img src=\"https://colab.research.google.com/assets/colab-badge.svg\" alt=\"Open In Colab\"/></a>"
      ]
    },
    {
      "metadata": {
        "id": "wbXh21Ll13ra",
        "colab_type": "text"
      },
      "cell_type": "markdown",
      "source": [
        "# Systems of inequalities\n",
        "\n",
        "## Pierre's tables and chairs\n",
        "\n",
        "Pierre wants to make tables and chairs. He has a total of $220$ wooden boards and $760$ nails.\n",
        "\n",
        "$13 T+8 C \\leq 220$ represents the number of tables $T$ and chairs $C$ he can make with $220$ wooden boards.\n",
        "\n",
        "$48 T+37 C \\leq 760$ represents the number of tables and chairs he can make with $760$ nails.\n",
        "\n",
        "**Does Pierre have enough boards and nails to make $9$ tables and $5$ chairs?**"
      ]
    },
    {
      "metadata": {
        "id": "oTB9higC13rj",
        "colab_type": "code",
        "outputId": "e853c1c4-1bb6-4eb7-a1bd-04220dcc9318",
        "colab": {
          "base_uri": "https://localhost:8080/",
          "height": 35
        }
      },
      "cell_type": "code",
      "source": [
        "from sympy import *\n",
        "from sympy.solvers.inequalities import reduce_rational_inequalities\n",
        "T, C = symbols('T C')\n",
        "ineq1 = 13*T + 8*C <= 220\n",
        "ineq2 = 48*T + 37*C <= 760\n",
        "ineq1.subs([(T, 9), (C, 5)])"
      ],
      "execution_count": 0,
      "outputs": [
        {
          "output_type": "execute_result",
          "data": {
            "text/plain": [
              "True"
            ]
          },
          "metadata": {
            "tags": []
          },
          "execution_count": 12
        }
      ]
    },
    {
      "metadata": {
        "id": "-A-2vbZU13r-",
        "colab_type": "text"
      },
      "cell_type": "markdown",
      "source": [
        "## Makhaya's math and writing assignments\n",
        "\n",
        "It takes Makhaya $75$ minutes and $3$ paper sheets to complete a writing assignment, and it takes him $15$ minutes and $1$ paper sheet to complete a math assignment.\n",
        "\n",
        "Makhaya is required to spend more than $300$ minutes to complete assignments, and he can use at most $20$ paper sheets.\n",
        "\n",
        "Let $W$ denote the number of writing assignments he completes and $M$ the number of math assignments he completes.\n",
        "\n",
        "**Write an inequality that represents the condition based on the number of minutes.**\n",
        "\n",
        "**Write an inequality that represents the condition based on the number of paper sheets.**"
      ]
    },
    {
      "metadata": {
        "id": "xwOTDy1c13sB",
        "colab_type": "code",
        "colab": {}
      },
      "cell_type": "code",
      "source": [
        "W, M = symbols('W M')\n",
        "ineq1 = 75*W + 15*M > 300\n",
        "ineq2 = 3*W + 1*M <= 20"
      ],
      "execution_count": 0,
      "outputs": []
    },
    {
      "metadata": {
        "id": "XiQjccFT13sJ",
        "colab_type": "text"
      },
      "cell_type": "markdown",
      "source": [
        "## Wladyslaw's jasmine and lily plants\n",
        "\n",
        "Wladyslaw wants to water jasmine plants and lily plants in his garden. His goal is to water at least $20$ plants (condition $A$) with $12$ liters of water at most (condition $B$).\n",
        "\n",
        "The graph represents the constraints on the number of jasmine $J$ and lily $L$ plants Wladyslaw waters."
      ]
    },
    {
      "metadata": {
        "id": "BrQeR8_P13sL",
        "colab_type": "code",
        "outputId": "c8da3adf-798c-4968-dcfe-d02fe2d6dac4",
        "colab": {
          "base_uri": "https://localhost:8080/",
          "height": 347
        }
      },
      "cell_type": "code",
      "source": [
        "import matplotlib.pyplot as plt\n",
        "\n",
        "A = { \n",
        "     'x' : [0, 20],\n",
        "     'y' : [20, 0]\n",
        "}\n",
        "\n",
        "B = { \n",
        "     'x' : [0, 24],\n",
        "     'y' : [16, 0]\n",
        "}\n",
        "\n",
        "plt.plot(A['x'], A['y'])\n",
        "plt.plot(B['x'], B['y'])\n",
        "plt.grid(True)\n",
        "plt.show()"
      ],
      "execution_count": 0,
      "outputs": [
        {
          "output_type": "display_data",
          "data": {
            "image/png": "[encoded data removed]",
            "text/plain": [
              "<Figure size 576x396 with 1 Axes>"
            ]
          },
          "metadata": {
            "tags": []
          }
        }
      ]
    },
    {
      "metadata": {
        "id": "2spxUIai13sR",
        "colab_type": "text"
      },
      "cell_type": "markdown",
      "source": [
        "What is the least number of jasmine plants Wladyslaw must water to meet both his constraints?"
      ]
    },
    {
      "metadata": {
        "id": "utXBS9s013sT",
        "colab_type": "code",
        "colab": {}
      },
      "cell_type": "code",
      "source": [
        ""
      ],
      "execution_count": 0,
      "outputs": []
    },
    {
      "metadata": {
        "id": "6gJpK81DFiN6",
        "colab_type": "text"
      },
      "cell_type": "markdown",
      "source": [
        "## Genghis Motors' cars and motorbikes\n",
        "\n",
        "Genghis Motors wants to build cars and motorbikes on a budget. The company plans to spend at most $\\$75000$ and use at least $320$ workers to build cars and motorbikes.\n",
        "\n",
        "$8000C+5500M \\leq 75000$ represents the number of cars $C$ and motorbikes $M$ the company can build by spending at most $\\$75000$.\n",
        "\n",
        "$52C+38M \\geq 320$ represents the number of cars and motorbikes the company can build by using at least $320$ workers.\n",
        "\n",
        "**Can the company meet both of its expectations by building $4$ cars and $6$ motorbikes?**"
      ]
    },
    {
      "metadata": {
        "id": "90QN2wXMGocy",
        "colab_type": "code",
        "outputId": "28a6d917-52ba-47b5-b9bb-39d1084e520b",
        "colab": {
          "base_uri": "https://localhost:8080/",
          "height": 35
        }
      },
      "cell_type": "code",
      "source": [
        "C, M = symbols('C M')\n",
        "ineq1 = 8000*C + 5500*M <= 75000\n",
        "ineq2 = 52*C + 38*M >= 320\n",
        "ineq1.subs([(C, 4), (M, 6)])"
      ],
      "execution_count": 0,
      "outputs": [
        {
          "output_type": "execute_result",
          "data": {
            "text/plain": [
              "True"
            ]
          },
          "metadata": {
            "tags": []
          },
          "execution_count": 13
        }
      ]
    },
    {
      "metadata": {
        "id": "yQd1ois1IA-K",
        "colab_type": "code",
        "outputId": "53a64040-ba7b-4ca2-89c0-706d275c38e9",
        "colab": {
          "base_uri": "https://localhost:8080/",
          "height": 35
        }
      },
      "cell_type": "code",
      "source": [
        "ineq2.subs([(C, 4), (M, 6)])"
      ],
      "execution_count": 0,
      "outputs": [
        {
          "output_type": "execute_result",
          "data": {
            "text/plain": [
              "True"
            ]
          },
          "metadata": {
            "tags": []
          },
          "execution_count": 14
        }
      ]
    },
    {
      "metadata": {
        "id": "6QIkAuk-IFJP",
        "colab_type": "code",
        "colab": {}
      },
      "cell_type": "code",
      "source": [
        ""
      ],
      "execution_count": 0,
      "outputs": []
    }
  ]
}