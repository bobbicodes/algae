{
 "cells": [
  {
   "cell_type": "markdown",
   "metadata": {
    "collapsed": false
   },
   "source": [
    "# [Writing linear functions](https://www.khanacademy.org/math/algebra/linear-word-problems/modal/e/constructing-linear-functions-word-problems)\n",
    "\n",
    "## Melting sheet of ice near the Arctic Circle\n",
    "\n",
    "A lake near the Arctic Circle is covered by a $2$-meter-thick sheet of ice during the cold winter months. When spring arrives, the warm air gradually melts the ice, causing its thickness to decrease at a constant rate. After $3$ weeks, the sheet is only $1.25$ meters thick.\n",
    "\n",
    "Let $S(t)$ denote the ice sheet's thickness $S$ (measured in meters) as a function of time $t$ (measured in weeks).\n",
    "\n",
    "**Write the function's formula.**\n",
    "\n",
    "$S(t)=?$ "
   ]
  },
  {
   "cell_type": "code",
   "execution_count": 14,
   "metadata": {
    "collapsed": false
   },
   "outputs": [
    {
     "data": {
      "text/plain": [
       "-0.25"
      ]
     },
     "execution_count": 14,
     "metadata": {
     },
     "output_type": "execute_result"
    }
   ],
   "source": [
    "from sympy import *\n",
    "y2, y1, x2, x1 = symbols('y2 y1 x2 x1')\n",
    "x1 = 0\n",
    "x2 = 3\n",
    "y1 = 2\n",
    "y2 = 1.25\n",
    "m = (y2 - y1)/(x2 - x1)\n",
    "m"
   ]
  },
  {
   "cell_type": "markdown",
   "metadata": {
    "collapsed": false
   },
   "source": [
    "The thickness of the ice sheet is decreasing at a *constant* rate, so we are dealing with a *linear* relationship.\n",
    "\n",
    "The desired formula could be written in slope-intercept form: $S(t)=mt+b$. In this form, $m$ gives us the slope of the graph of the function and $b$ gives us its $y$-intercept. Our goal is to find the values of $b$ and $m$ and substitute them into this formula.\n",
    "\n",
    "At the beginning of spring, the ice sheet is $2$ meters thick. This means that $S(0)={2}$, or in other words, that the $y$-intercept of the graph of the function is the point $(0,{2})$. We conclude that $b = {2}$.\n",
    "\n",
    "We also know that after $3$ weeks, the thickness is $1.25$ meters, which means that $S(3)=1.25$, or in other words, that the point $(3,1.25)$ lies on the graph of the function. Let's use the two points we have to find the slope.\n",
    "\n",
    "The two pairs we have are $(0,2)$ and $(3,1.25)$. To find the slope $m$, we need to take the ratio of the corresponding differences in the $y$-values and the $x$-values:\n",
    "\n",
    "$\\qquad m= \\dfrac{1.25-2}{3-0}=\\dfrac{-0.75}{3}={-0.25}$\n",
    "\n",
    "This means that the thickness of the ice sheet decreases by $0.25$ meters each week.\n",
    "\n",
    "Since $b = {2}$ and $m = {-0.25}$, the desired formula is:\n",
    "\n",
    "$\\qquad S(t)={-0.25}t+{2}$"
   ]
  },
  {
   "cell_type": "markdown",
   "metadata": {
    "collapsed": false
   },
   "source": [
    "## The young sumo wrestler's high-protein weight-gain diet\n",
    "\n",
    "A young sumo wrestler decided to go on a special high-protein diet to gain weight rapidly. He started at $90$ kilograms and gained weight at a constant rate. After $8$ months, he weighed $138$ kilograms.\n",
    "\n",
    "Let $W(t)$ denote the sumo wrestler's weight $W$ (measured in kilograms) as a function of time $t$ (measured in months).\n",
    "\n",
    "**Write the function's formula.**\n",
    "\n",
    "$\\qquad W(t)=?$"
   ]
  },
  {
   "cell_type": "code",
   "execution_count": 15,
   "metadata": {
    "collapsed": false
   },
   "outputs": [
    {
     "data": {
      "text/plain": [
       "6.0"
      ]
     },
     "execution_count": 15,
     "metadata": {
     },
     "output_type": "execute_result"
    }
   ],
   "source": [
    "x1 = 0\n",
    "x2 = 8\n",
    "y1 = 90\n",
    "y2 = 138\n",
    "m = (y2 - y1)/(x2 - x1)\n",
    "m"
   ]
  },
  {
   "cell_type": "markdown",
   "metadata": {
    "collapsed": false
   },
   "source": [
    "The sumo wrestler gained weight at a constant rate, so we are dealing with a linear relationship.\n",
    "\n",
    "The desired formula could be written in slope-intercept form: $W(t)=mt+b$. In this form, $m$ gives us the slope of the graph of the function and $b$ gives us its $y$-intercept. Our goal is to find the values of $b$ and $m$ and substitute them into this formula."
   ]
  },
  {
   "cell_type": "markdown",
   "metadata": {
    "collapsed": false
   },
   "source": [
    "The wrestler's initial weight was $90$ kilograms. This means that $W(0)={90}$, or in other words, that the $y$-intercept of the graph of the function is the point $(0,{90})$. We conclude that $b={90}$.\n",
    "\n",
    "We also know that after $8$ months, the wrestler weighed $138$ kilograms, which means that $W(8)=138$, or in other words, that the point $(8,138)$ lies on the graph of the function. Let's use the two points we have to find the slope."
   ]
  },
  {
   "cell_type": "markdown",
   "metadata": {
    "collapsed": false
   },
   "source": [
    "The two pairs we have are $(0,90)$ and $(8,138)$. To find the slope $m$, we need to take the ratio of the corresponding differences in the $y$-values and the $x$-values:\n",
    "\n",
    "$\\qquad m=\\dfrac{138-90}{8-0}=\\dfrac{48}{8}={6}$\n",
    "\n",
    "This means that the sumo wrestler gained $6$ kilograms each month."
   ]
  },
  {
   "cell_type": "markdown",
   "metadata": {
    "collapsed": false
   },
   "source": [
    "Since $b={90}$ and $m={6}$, the desired formula is:\n",
    "\n",
    "$\\qquad W(t)={6}t+{90}$"
   ]
  },
  {
   "cell_type": "markdown",
   "metadata": {
    "collapsed": false
   },
   "source": [
    "A young sumo wrestler decided to go on a special high-protein diet to gain weight rapidly. He gained weight at a rate of $5.5$ kilograms per month. After $11$ months, he weighed $140$ kilograms.\n",
    "\n",
    "Let $W(t)$ denote the sumo wrestler's weight $W$ (measured in kilograms) as a function of time $t$ (measured in months)."
   ]
  },
  {
   "cell_type": "code",
   "execution_count": 51,
   "metadata": {
    "collapsed": false
   },
   "outputs": [
    {
     "data": {
      "text/plain": [
       "{79.5}"
      ]
     },
     "execution_count": 51,
     "metadata": {
     },
     "output_type": "execute_result"
    }
   ],
   "source": [
    "b = symbols('b')\n",
    "x = 11\n",
    "y = 140\n",
    "m = 5.5\n",
    "solveset(Eq(m * x + b, y))"
   ]
  },
  {
   "cell_type": "markdown",
   "metadata": {
    "collapsed": false
   },
   "source": [
    "## Mr. Mole's burrow\n",
    "\n",
    "Mr. Mole left his burrow that lies below the ground and started digging his way deeper into the ground, descending at a rate of $1.8$ meters per minute. After $5$ minutes, he was $13.5$ meters below the ground.\n",
    "\n",
    "Let $A(t)$ denote Mr. Mole's altitude relative to the ground $A$ (measured in meters) as a function of time $t$ (measured in minutes).\n",
    "\n",
    "**Write the function's formula.**\n",
    "\n",
    "$A(t)=?$ "
   ]
  },
  {
   "cell_type": "code",
   "execution_count": 32,
   "metadata": {
    "collapsed": false
   },
   "outputs": [
    {
     "data": {
      "text/plain": [
       "{-4.5}"
      ]
     },
     "execution_count": 32,
     "metadata": {
     },
     "output_type": "execute_result"
    }
   ],
   "source": [
    "b = symbols('b')\n",
    "x = 5\n",
    "y = -13.5\n",
    "m = -1.8\n",
    "solveset(Eq(m * x + b, y))"
   ]
  },
  {
   "cell_type": "markdown",
   "metadata": {
    "collapsed": false
   },
   "source": [
    "Mr. Mole is descending at a constant rate, so we are dealing with a linear relationship.\n",
    "\n",
    "The desired formula could be written in slope-intercept form: $A(t)=mt+b$. In this form, $m$ gives us the slope of the graph of the function and $b$ gives us its $y$-intercept. Our goal is to find the values of $b$ and $m$ and substitute them into this formula.\n",
    "\n",
    "We know that Mr. Mole descended at a rate of $1.8$ meters per minute, so the slope $m$ is ${-1.8}$, and our function looks like $A(t)={-1.8}t+b$.\n",
    "\n",
    "We also know that after $5$ minutes, Mr. Mole was $13.5$ meters below the ground, which means that $A(5)=-13.5$. We can substitute this into the formula of the function to find $b$:\n",
    "\n",
    "$\\qquad\\begin{aligned}A(5)&=-13.5\\\\ {-1.8}\\cdot5+b&=-13.5\\\\ -9+b&=-13.5\\\\  b&={-4.5}\\end{aligned}$ \n",
    " \n",
    "This means that Mr. Mole's initial altitude is $4.5$ meters below the ground.\n",
    "\n",
    "Since $b = {-4.5}$ and $m = {-1.8}$, the desired formula is:\n",
    "\n",
    "$\\qquad A(t)={-1.8}t{-4.5}$"
   ]
  },
  {
   "cell_type": "markdown",
   "metadata": {
    "collapsed": false
   },
   "source": [
    "Mr. Mole left his burrow that lies $7$ meters below the ground and started digging his way deeper into the ground, descending at a constant rate. After $6$ minutes, he was $16$ meters below the ground.\n",
    "\n",
    "Let $A(t)$ denote Mr. Mole's altitude relative to the ground $A$ (measured in meters) as a function of time $t$ (measured in minutes).\n",
    "\n",
    "**Write the function's formula.**"
   ]
  },
  {
   "cell_type": "code",
   "execution_count": 48,
   "metadata": {
    "collapsed": false
   },
   "outputs": [
    {
     "data": {
      "text/plain": [
       "-1.5"
      ]
     },
     "execution_count": 48,
     "metadata": {
     },
     "output_type": "execute_result"
    }
   ],
   "source": [
    "x1 = 0\n",
    "x2 = 6\n",
    "y1 = -7\n",
    "y2 = -16\n",
    "m = (y2 - y1)/(x2 - x1)\n",
    "m"
   ]
  },
  {
   "cell_type": "markdown",
   "metadata": {
    "collapsed": false
   },
   "source": [
    "## Nour's drive from the Dead Sea\n",
    "\n",
    "Nour drove from the Dead Sea up to Amman, and her altitude increased at a constant rate. When she began driving, her altitude was $400$ meters below sea level. When she arrived in Amman $2$ hours later, her altitude was $1000$ meters above sea level.\n",
    "\n",
    "Let $A(t)$ denote Nour's altitude relative to sea level $A$ (measured in meters) as a function of time $t$ (measured in hours).\n",
    "\n",
    "**Write the function's formula.**\n",
    "\n",
    "$A(t)=?$ "
   ]
  },
  {
   "cell_type": "code",
   "execution_count": 35,
   "metadata": {
    "collapsed": false
   },
   "outputs": [
    {
     "data": {
      "text/plain": [
       "700.0"
      ]
     },
     "execution_count": 35,
     "metadata": {
     },
     "output_type": "execute_result"
    }
   ],
   "source": [
    "x1 = 0\n",
    "x2 = 2\n",
    "y1 = -400\n",
    "y2 = 1000\n",
    "m = (y2 - y1)/(x2 - x1)\n",
    "m"
   ]
  },
  {
   "cell_type": "markdown",
   "metadata": {
    "collapsed": false
   },
   "source": [
    "Nour's altitude increases at a *constant* rate, so we are dealing with a *linear* relationship.\n",
    "\n",
    "The desired formula could be written in slope-intercept form: $A(t)=mt+b$. In this form, $m$ gives us the slope of the graph of the function and $b$ gives us its $y$-intercept. Our goal is to find the values of $b$ and $m$ and substitute them into this formula.\n",
    "\n",
    "Nour's initial altitude was $400$ meters below sea level. This means that $A(0)={-400}$, or in other words, that the $y$-intercept of the graph of the function is the point $(0,{-400})$. We conclude that $b = {-400}$.\n",
    "\n",
    "We also know that $2$ hours later, Nour's altitude was $1000$ meters above sea level, which means that $A(2)=1000$, or in other words, that the point $(2, 1000)$ lies on the graph of the function. Let's use the two points we have to find the slope.\n",
    "\n",
    "The two pairs we have are $(0,-400)$ and $(2,1000)$. To find the slope $m$, we need to take the ratio of the corresponding differences in the $y$-values and the $x$-values:\n",
    "\n",
    "$\\qquad m=\\dfrac{1000-(-400)}{2-0}=\\dfrac{1400}{2}={700}$\n",
    "\n",
    "This means that Nour's altitude increased at $700$ meters per hour.\n",
    "\n",
    "Since $b = {-400}$ and $m = {700}$, the desired formula is:\n",
    "\n",
    "$\\qquad A(t)={700}t{-400}$"
   ]
  },
  {
   "cell_type": "markdown",
   "metadata": {
    "collapsed": false
   },
   "source": [
    "## Noa's drive from the Dead Sea\n",
    "\n",
    "Noa drove from the Dead Sea up to Jerusalem, and her altitude increased at a constant rate of $740$ meters per hour. When she arrived in Jerusalem after $1.5$ hours of driving, her altitude was $710$ meters above sea level.\n",
    "\n",
    "Let $A(t)$ denote Noa's altitude relative to sea level $A$ (measured in meters) as a function of time $t$ (measured in hours).\n",
    "\n",
    "**Write the function's formula.**\n",
    "\n",
    "$A(t)=?$ "
   ]
  },
  {
   "cell_type": "code",
   "execution_count": 36,
   "metadata": {
    "collapsed": false
   },
   "outputs": [
    {
     "data": {
      "text/plain": [
       "{-400.0}"
      ]
     },
     "execution_count": 36,
     "metadata": {
     },
     "output_type": "execute_result"
    }
   ],
   "source": [
    "b = symbols('b')\n",
    "x = 1.5\n",
    "y = 710\n",
    "m = 740\n",
    "solveset(Eq(m * x + b, y))"
   ]
  },
  {
   "cell_type": "markdown",
   "metadata": {
    "collapsed": false
   },
   "source": [
    "Noa's altitude increases at a *constant* rate, so we are dealing with a *linear* relationship.\n",
    "\n",
    "The desired formula could be written in slope-intercept form: $A(t)= mt+b$. In this form, $m$ gives us the slope of the graph of the function and $b$ gives us its $y$-intercept. Our goal is to find the values of $b$ and $m$ and substitute them into this formula.\n",
    "\n",
    "We know that Noa's altitude increased at a rate of $740$ meters per hour, so the slope $m$ is ${740}$, and our function looks like $A(t)={740}t+b$.\n",
    "\n",
    "We also know that after driving for $1.5$ hours, Noa's altitude was $710$ meters above sea level, which means that $A(1.5)=710$. We can substitute this into the formula of the function to find $b$:\n",
    "\n",
    "$\\qquad\\begin{aligned}A(1.5)&=710\\\\ {740}\\cdot1.5+b&=710\\\\ 1110+b&=710\\\\ b&={-400}\\end{aligned}$\n",
    "\t \n",
    "This means that Noa's initial altitude was $400$ meters below sea level.\n",
    "\n",
    "Since $b = {-400}$ and $m={740}$, the desired formula is:\n",
    "\n",
    "$\\qquad A(t)={740}t{-400}$"
   ]
  },
  {
   "cell_type": "markdown",
   "metadata": {
    "collapsed": false
   },
   "source": [
    "### Another variation:\n",
    "\n",
    "A lake near the Arctic Circle is covered by a thick sheet of ice during the cold winter months. When spring arrives, the warm air gradually melts the ice, causing its thickness to decrease at a rate of $0.2$ meters per week. After $7$ weeks, the sheet is only $2.4$ meters thick.\n",
    "\n",
    "Let $S(t)$ denote the ice sheet's thickness $S$ (measured in meters) as a function of time $t$ (measured in weeks).\n",
    "\n",
    "**Write the function's formula.**\n",
    "\n",
    "$S(t)=?$ "
   ]
  },
  {
   "cell_type": "code",
   "execution_count": 37,
   "metadata": {
    "collapsed": false
   },
   "outputs": [
    {
     "data": {
      "text/plain": [
       "{3.8}"
      ]
     },
     "execution_count": 37,
     "metadata": {
     },
     "output_type": "execute_result"
    }
   ],
   "source": [
    "b = symbols('b')\n",
    "x = 7\n",
    "y = 2.4\n",
    "m = -0.2\n",
    "solveset(Eq(m * x + b, y))"
   ]
  },
  {
   "cell_type": "markdown",
   "metadata": {
    "collapsed": false
   },
   "source": [
    "The thickness of the ice sheet is decreasing at a *constant* rate, so we are dealing with a *linear* relationship.\n",
    "\n",
    "The desired formula could be written in slope-intercept form: $S(t)=mt+b$. In this form, $m$ gives us the slope of the graph of the function and $b$ gives us its $y$-intercept. Our goal is to find the values of $b$ and $m$ and substitute them into this formula.\n",
    "\n",
    "We know that the ice sheet's thickness is reduced at a rate of $0.2$ meters per week, so the slope $m$ is ${-0.2}$, and our function looks like $S(t)={-0.2}t+b$.\n",
    "\n",
    "We also know that after $7$ weeks, the ice sheet is $2.4$ meters thick, which means that $S(7)=2.4$. We can substitute this into the formula of the function to find $b$:\n",
    "\n",
    "$\\qquad\\begin{aligned}S(7)&=2.4\\\\ {-0.2}\\cdot7+b&=2.4\\\\ -1.4+b&=2.4\\\\ b&={3.8}\\end{aligned}$\n",
    "\n",
    "This means that the initial thickness of the ice sheet is $3.8$ meters.\n",
    "\n",
    "Since $b = {3.8}$ and $m = {-0.2}$, the desired formula is:\n",
    "\n",
    "$\\qquad S(t)={-0.2}t+{3.8}$"
   ]
  },
  {
   "cell_type": "markdown",
   "metadata": {
    "collapsed": false
   },
   "source": [
    "## The charity organization's fundraiser tickets\n",
    "\n",
    "A charity organization had a fundraiser where each ticket was sold for a fixed price. They had to sell a few tickets just to cover necessary production costs of $\\$1200$. After selling $200$ tickets, they had a net *profit* of $\\$12{,}000$."
   ]
  },
  {
   "cell_type": "markdown",
   "metadata": {
    "collapsed": false
   },
   "source": [
    "Let $P(n)$P denote the net profit from the fundraiser $P$ (measured in dollars) as a function of the number of tickets sold $n$.\n",
    "\n",
    "**Write the function's formula.**\n",
    "\n",
    "$P(n)=?$ "
   ]
  },
  {
   "cell_type": "code",
   "execution_count": 39,
   "metadata": {
    "collapsed": false
   },
   "outputs": [
    {
     "data": {
      "text/plain": [
       "66.0"
      ]
     },
     "execution_count": 39,
     "metadata": {
     },
     "output_type": "execute_result"
    }
   ],
   "source": [
    "x1 = 0\n",
    "x2 = 200\n",
    "y1 = -1200\n",
    "y2 = 12000\n",
    "m = (y2 - y1)/(x2 - x1)\n",
    "m"
   ]
  },
  {
   "cell_type": "markdown",
   "metadata": {
    "collapsed": false
   },
   "source": [
    "Tickets were sold at a *fixed* price, so we are dealing with a linear relationship.\n",
    "\n",
    "The desired formula could be written in slope-intercept form: $P(n)=mn+b$. In this form, $m$ gives us the slope of the graph of the function and $b$ gives us its $y$-intercept. Our goal is to find the values of $b$ and $m$ and substitute them into this formula.\n",
    "\n",
    "Before selling any tickets, there was a loss of $\\$1200$. This means that $P(0)={-1200}$, or in other words, that the $y$-intercept of the graph of the function is the point $(0,{-1200})$. We conclude that $b = {-1200}$.\n",
    "\n",
    "We also know that after selling $200$ tickets, the net profit was $\\$12{,}000$, which means that $P(200)=12000$, or in other words, that the point $(200,12000)$ lies on the graph of the function. Let's use the two points we have to find the slope.\n",
    "\n",
    "The two pairs we have are $(0,-1200)$ and $(200,12000)$. To find the slope $m$, we need to take the ratio of the corresponding differences in the $y$-values and the $x$-values:\n",
    "\n",
    "$\\qquad m= \\dfrac{12000-(-1200)}{200-0}=\\dfrac{13200}{200}={66}$\n",
    "\n",
    "This means that each ticket was sold for $\\$66$.\n",
    "\n",
    "**Since $b = {-1200}$ and $m = {66}$, the desired formula is:**\n",
    "\n",
    "$\\qquad P(n)={66}n{-1200}$"
   ]
  },
  {
   "cell_type": "markdown",
   "metadata": {
    "collapsed": false
   },
   "source": [
    "## Hiro's painting\n",
    "\n",
    "Hiro painted his room at a rate of $8$ square meters per hour. After $3$ hours of painting, he had $28$ square meters left to paint.\n",
    "\n",
    "Let $A(t)$ denote the area to paint $A$ (measured in square meters) as a function of time $t$ (measured in hours).\n",
    "\n",
    "**Write the function's formula.**\n",
    "\n",
    "$A(t)=?$ "
   ]
  },
  {
   "cell_type": "code",
   "execution_count": 41,
   "metadata": {
    "collapsed": false
   },
   "outputs": [
    {
     "data": {
      "text/plain": [
       "{52}"
      ]
     },
     "execution_count": 41,
     "metadata": {
     },
     "output_type": "execute_result"
    }
   ],
   "source": [
    "b = symbols('b')\n",
    "x = 3\n",
    "y = 28\n",
    "m = -8\n",
    "solveset(Eq(m * x + b, y))"
   ]
  },
  {
   "cell_type": "markdown",
   "metadata": {
    "collapsed": false
   },
   "source": [
    "Hiro painted the room at a *constant* rate, so we are dealing with a linear relationship.\n",
    "\n",
    "The desired formula could be written in slope-intercept form: $A(t)=mt+b$. In this form, $m$ gives us the slope of the graph of the function and $b$ gives us its $y$-intercept. Our goal is to find the values of $b$ and $m$ and substitute them into this formula.\n",
    "\n",
    "We know that the remaining area to paint decreased at a rate of $8$ square meters per hour, so the slope $m$ is ${-8}$, and our function looks like $A(t)={-8}t+b$.\n",
    "\n",
    "We also know that $28$ square meters remained after $3$ hours, which means that $A(3)=28$. We can substitute this into the formula of the function to find $b$:\n",
    "\n",
    "$\\qquad\\begin{aligned}A(3)&=28\\\\ {-8}\\cdot3+b&=28\\\\ -24+b&=28\\\\ b&={52}\\end{aligned}$\n",
    "\n",
    "This means that Hiro initially had $52$ square meters to paint.\n",
    "\n",
    "Since $b = {52}$ and $m = {-8}$, the desired formula is:\n",
    "\n",
    "$\\qquad A(t)={-8}t+{52}$"
   ]
  },
  {
   "cell_type": "markdown",
   "metadata": {
    "collapsed": false
   },
   "source": [
    "## Shryia's book reading\n",
    "\n",
    "Shryia read a $480$-page-long book cover to cover in a single session, at a constant rate. After reading for $1.5$ hours, she had $402$ pages left to read.\n",
    "\n",
    "Let $P(t)$ denote the number of pages to read $P$ as a function of time $t$ (measured in hours).\n",
    "\n",
    "**Write the function's formula.**\n",
    "\n",
    "$P(t)=?$"
   ]
  },
  {
   "cell_type": "code",
   "execution_count": 42,
   "metadata": {
    "collapsed": false
   },
   "outputs": [
    {
     "data": {
      "text/plain": [
       "-52.0"
      ]
     },
     "execution_count": 42,
     "metadata": {
     },
     "output_type": "execute_result"
    }
   ],
   "source": [
    "x1 = 0\n",
    "x2 = 1.5\n",
    "y1 = 480\n",
    "y2 = 402\n",
    "m = (y2 - y1)/(x2 - x1)\n",
    "m"
   ]
  },
  {
   "cell_type": "markdown",
   "metadata": {
    "collapsed": false
   },
   "source": [
    "Shryia read at a *constant* rate, so we are dealing with a *linear* relationship.\n",
    "\n",
    "The desired formula could be written in slope-intercept form: $P(t)=mt+b$. In this form, $m$ gives us the slope of the graph of the function and $b$ gives us its $y$-intercept. Our goal is to find the values of $b$ and $m$ and substitute them into this formula.\n",
    "\n",
    "The book is $480$ pages long. This means that $P(0)={480}$, or in other words, that the $y$-intercept of the graph of the function is the point $(0,{480})$. We conclude that $b = {480}$.\n",
    "\n",
    "We also know that after $1.5$ hours, Shryia had $402$ pages left to read, which means that $P(1.5)=402$, or in other words, that the point $(1.5,402)$ lies on the graph of the function. Let's use the two points we have to find the slope.\n",
    "\n",
    "The two pairs we have are $(0,480)$ and $(1.5,402)$. To find the slope $m$, we need to take the ratio of the corresponding differences in the $y$-values and the $x$-values:\n",
    "\n",
    "$\\qquad m= \\dfrac{402-480}{1.5-0}=\\dfrac{-78}{1.5}={-52}$\n",
    "\n",
    "This means that Shryia read $52$ pages per hour.\n",
    "\n",
    "Since $b = {480}$ and $m = {-52}$, the desired formula is:\n",
    "\n",
    "$\\qquad P(t)={-52}t+{480}$"
   ]
  },
  {
   "cell_type": "markdown",
   "metadata": {
    "collapsed": false
   },
   "source": [
    "## Carolina's lawns\n",
    "\n",
    "Carolina is mowing lawns for a summer job. For every mowing job, she charges an initial fee plus $\\$6$ for each hour of work. Her total fee for a $4$-hour job, for instance, is $\\$32$.\n",
    "\n",
    "Let $F(t)$ denote Carolina's fee for a single job $F$ (measured in dollars) as a function of the number of hours $t$ it took her to complete it.\n",
    "\n",
    "**Write the function's formula.**\n",
    "\n",
    "$F(t)=?$"
   ]
  },
  {
   "cell_type": "code",
   "execution_count": 43,
   "metadata": {
    "collapsed": false
   },
   "outputs": [
    {
     "data": {
      "text/plain": [
       "{8}"
      ]
     },
     "execution_count": 43,
     "metadata": {
     },
     "output_type": "execute_result"
    }
   ],
   "source": [
    "b = symbols('b')\n",
    "x = 4\n",
    "y = 32\n",
    "m = 6\n",
    "solveset(Eq(m * x + b, y))"
   ]
  },
  {
   "cell_type": "markdown",
   "metadata": {
    "collapsed": false
   },
   "source": [
    "Carolina's hourly fee is *constant*, so we are dealing with a *linear* relationship.\n",
    "\n",
    "The desired formula could be written in slope-intercept form: $F(t)=mt+b$. In this form, $m$ gives us the slope of the graph of the function and $b$ gives us its $y$-intercept. Our goal is to find the values of $b$ and $m$ and substitute them into this formula.\n",
    "\n",
    "We know that Carolina's fee increases at a rate of $\\$6$ per hour, so the slope $m$ is ${6}$, and our function looks like $F(t)={6}t+b$.\n",
    "\n",
    "We also know that Carolina's fee for a $4$-hour job is $\\$32$, which means that $F(4)=32$. We can substitute this into the formula of the function to find $b$:\n",
    "\n",
    "$\\qquad\\begin{aligned}F(4)&=32\\\\ {6}\\cdot4+ b&=32\\\\ 24+ b&=32\\\\ b&={8}\\end{aligned}$\n",
    "\n",
    "This means that Carolina's initial fee is $\\$8$ for each job.\n",
    "\n",
    "Since $b = {8}$ and $m = {6}$, the desired formula is:\n",
    "\n",
    "$\\qquad F(t)={6}t+{8}$"
   ]
  },
  {
   "cell_type": "markdown",
   "metadata": {
    "collapsed": false
   },
   "source": [
    "## Trips to Mount Kilimanjaro\n",
    "\n",
    "Simba Travel Agency arranges trips for climbing Mount Kilimanjaro. For each trip, they charge an initial fee of $\\$100$ in addition to a constant fee for each vertical meter climbed. For instance, the price for climbing to the Shira Volcanic Cone, which is $3000$ meters above the base of the mountain, is $\\$400$.\n",
    "\n",
    "Let $F(d)$ denote the fee of a trip $F$ (measured in dollars) as a function of the vertical distance climbed $d$ (measured in meters).\n",
    "\n",
    "**Write the function's formula.**\n",
    "\n",
    "$F(d)=?$"
   ]
  },
  {
   "cell_type": "code",
   "execution_count": 44,
   "metadata": {
    "collapsed": false
   },
   "outputs": [
    {
     "data": {
      "text/plain": [
       "0.1"
      ]
     },
     "execution_count": 44,
     "metadata": {
     },
     "output_type": "execute_result"
    }
   ],
   "source": [
    "x1 = 0\n",
    "x2 = 3000\n",
    "y1 = 100\n",
    "y2 = 400\n",
    "m = (y2 - y1)/(x2 - x1)\n",
    "m"
   ]
  },
  {
   "cell_type": "markdown",
   "metadata": {
    "collapsed": false
   },
   "source": [
    "The fee for every vertical meter climbed is *constant*, so we are dealing with a *linear* relationship.\n",
    "\n",
    "The desired formula could be written in slope-intercept form: $F(d)=md+b$. In this form, $m$ gives us the slope of the graph of the function and $b$ gives us its $y$-intercept. Our goal is to find the values of $b$ and $m$ and substitute them into this formula.\n",
    "\n",
    "The initial fee is $\\$100$. This means that $F(0)={100}$, or in other words, that the $y$-intercept of the graph of the function is the point $(0,{100})$. We conclude that $b = {100}$.\n",
    "\n",
    "We also know that the fee for climbing up $3000$ meters is $\\$400$, which means that $F(3000)=400$, or in other words, that the point $(3000,400)$ lies on the graph of the function. Let's use the two points we have to find the slope.\n",
    "\n",
    "The two pairs we have are $(0,100)$ and $(3000,400)$. To find the slope $m$, we need to take the ratio of the corresponding differences in the $y$-values and the $x$-values:\n",
    "\n",
    "$\\qquad m= \\dfrac{400-100}{3000-0}=\\dfrac{300}{3000}={0.1}$\n",
    "\n",
    "This means that the agency charges a constant fee of $\\$0.1$ per vertical meter climbed.\n",
    "\n",
    "**Since $b = {100}$ and $m = {0.1}$, the desired formula is:**\n",
    "\n",
    "$\\qquad F(d)={0.1}d+{100}$"
   ]
  },
  {
   "cell_type": "markdown",
   "metadata": {
    "collapsed": false
   },
   "source": [
    "## Rachel's stunts\n",
    "\n",
    "Rachel is a stunt driver. One time, during a gig where she escaped from a building about to explode(!), she drove to get to the safe zone at $24$ meters per second. After $4$ seconds of driving, she was $70$ meters away from the safe zone.\n",
    "\n",
    "Let $D(t)$ denote the distance to the safe zone $D$ (measured in meters) as a function of time $t$ (measured in seconds).\n",
    "Write the function's formula.\n",
    "\n",
    "$D(t)=?$"
   ]
  },
  {
   "cell_type": "code",
   "execution_count": 47,
   "metadata": {
    "collapsed": false
   },
   "outputs": [
    {
     "data": {
      "text/plain": [
       "{166}"
      ]
     },
     "execution_count": 47,
     "metadata": {
     },
     "output_type": "execute_result"
    }
   ],
   "source": [
    "b = symbols('b')\n",
    "x = 4\n",
    "y = 70\n",
    "m = -24\n",
    "solveset(Eq(m * x + b, y))"
   ]
  },
  {
   "cell_type": "markdown",
   "metadata": {
    "collapsed": false
   },
   "source": [
    "Naoya read a book cover to cover in a single session, at a rate of $55$ pages per hour. After $4$ hours, he had $350$ pages left to read.\n",
    "\n",
    "Let $P(t)$ denote the number of pages to read $P$ as a function of time $t$ (measured in hours)."
   ]
  },
  {
   "cell_type": "code",
   "execution_count": 49,
   "metadata": {
    "collapsed": false
   },
   "outputs": [
    {
     "data": {
      "text/plain": [
       "{570}"
      ]
     },
     "execution_count": 49,
     "metadata": {
     },
     "output_type": "execute_result"
    }
   ],
   "source": [
    "b = symbols('b')\n",
    "x = 4\n",
    "y = 350\n",
    "m = -55\n",
    "solveset(Eq(m * x + b, y))"
   ]
  },
  {
   "cell_type": "markdown",
   "metadata": {
    "collapsed": false
   },
   "source": [
    "Addison painted her room. She had $50$ square meters to paint, and she painted at a constant rate. After $2$ hours of painting, she had $35$ square meters left.\n",
    "\n",
    "Let $A(t)$ denote the area to paint $A$ (measured in square meters) as a function of time $t$ (measured in hours)."
   ]
  },
  {
   "cell_type": "code",
   "execution_count": 50,
   "metadata": {
    "collapsed": false
   },
   "outputs": [
    {
     "data": {
      "text/plain": [
       "-7.5"
      ]
     },
     "execution_count": 50,
     "metadata": {
     },
     "output_type": "execute_result"
    }
   ],
   "source": [
    "x1 = 0\n",
    "x2 = 2\n",
    "y1 = 50\n",
    "y2 = 35\n",
    "m = (y2 - y1)/(x2 - x1)\n",
    "m"
   ]
  },
  {
   "cell_type": "markdown",
   "metadata": {
    "collapsed": false
   },
   "source": [
   ]
  }
 ],
 "metadata": {
  "kernelspec": {
   "display_name": "Python 3 (Ubuntu Linux)",
   "language": "python",
   "name": "python3"
  },
  "language_info": {
   "codemirror_mode": {
    "name": "ipython",
    "version": 3
   },
   "file_extension": ".py",
   "mimetype": "text/x-python",
   "name": "python",
   "nbconvert_exporter": "python",
   "pygments_lexer": "ipython3",
   "version": "3.6.7"
  }
 },
 "nbformat": 4,
 "nbformat_minor": 0
}